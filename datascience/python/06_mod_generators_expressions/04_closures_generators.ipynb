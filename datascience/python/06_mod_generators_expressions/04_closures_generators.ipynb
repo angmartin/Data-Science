{
 "cells": [
  {
   "cell_type": "markdown",
   "metadata": {},
   "source": [
    "Data Science Fundamentals: Python |\n",
    "[Table of Contents](../index.ipynb)\n",
    "- - - \n",
    "<!--NAVIGATION-->\n",
    "Module 6. | [Generators](./01_generators.ipynb) | [Regular Expressions](./02_regex.ipynb) | [String Manipulation & Regular Expressions](03_str_manipulate.ipynb) | **[Reference: Regex Closures & Generators](./04_closures_generators.ipynb)** | [Exercises](./05_gen_regex_exercises.ipynb)"
   ]
  },
  {
   "cell_type": "markdown",
   "metadata": {},
   "source": [
    "# Reference: Closures and Generators\n",
    "[Dive Into Python Resource](https://diveintopython3.net/generators.html)\n",
    "## Regex Example:"
   ]
  },
  {
   "cell_type": "markdown",
   "metadata": {},
   "source": [
    "If you grew up in an English-speaking country or learned English in a formal school setting, you’re probably familiar with the basic rules:\n",
    "\n",
    "- If a word ends in S, X, or Z, add ES. Bass becomes basses, fax becomes faxes, and waltz becomes waltzes.\n",
    "- If a word ends in a noisy H, add ES; if it ends in a silent H, just add S. What’s a noisy H? One that gets combined with other letters to make a sound that you can hear. So coach becomes coaches and rash becomes rashes, because you can hear the CH and SH sounds when you say them. But cheetah becomes cheetahs, because the H is silent.\n",
    "- If a word ends in Y that sounds like I, change the Y to IES; if the Y is combined with a vowel to sound like something else, just add S. So vacancy becomes vacancies, but day becomes days.\n",
    "- If all else fails, just add S and hope for the best."
   ]
  },
  {
   "cell_type": "markdown",
   "metadata": {},
   "source": [
    "Let’s design a Python library that automatically pluralizes English nouns. We’ll start with just these four rules, but keep in mind that you’ll inevitably need to add more."
   ]
  },
  {
   "cell_type": "markdown",
   "metadata": {},
   "source": [
    "**Let's Use Regular Expressions**"
   ]
  },
  {
   "cell_type": "markdown",
   "metadata": {},
   "source": [
    "So you’re looking at words, which, at least in English, means you’re looking at strings of characters. You have rules that say you need to find different combinations of characters, then do different things to them. This sounds like a job for regular expressions!"
   ]
  },
  {
   "cell_type": "code",
   "execution_count": 2,
   "metadata": {},
   "outputs": [],
   "source": [
    "import re\n",
    "\n",
    "def plural(noun):          \n",
    "    if re.search('[sxz]$', noun): \n",
    "        return re.sub('$', 'es', noun)        \n",
    "    elif re.search('[^aeioudgkprt]h$', noun):\n",
    "        return re.sub('$', 'es', noun)       \n",
    "    elif re.search('[^aeiou]y$', noun):      \n",
    "        return re.sub('y$', 'ies', noun)     \n",
    "    else:\n",
    "        return noun + 's'"
   ]
  },
  {
   "cell_type": "markdown",
   "metadata": {},
   "source": [
    "1. This is a regular expression, but it uses a syntax you didn’t see in Regular Expressions. The square brackets mean “match exactly one of these characters.” So [sxz] means “s, or x, or z”, but only one of them. The $ should be familiar; it matches the end of string. Combined, this regular expression tests whether noun ends with s, x, or z.\n",
    "2. This re.sub() function performs regular expression-based string substitutions."
   ]
  },
  {
   "cell_type": "code",
   "execution_count": null,
   "metadata": {},
   "outputs": [],
   "source": [
    "# Pluralize English nouns (stage 1)\n",
    "\n",
    "# Command line usage:\n",
    "# $ python3 plural.py noun\n",
    "# nouns\n",
    "\n",
    "\n",
    "import re\n",
    "\n",
    "def plural(noun):\n",
    "    if re.search('[sxz]$', noun):\n",
    "        return re.sub('$', 'es', noun)\n",
    "    elif re.search('[^aeioudgkprt]h$', noun):\n",
    "        return re.sub('$', 'es', noun)\n",
    "    elif re.search('[^aeiou]y$', noun):\n",
    "        return re.sub('y$', 'ies', noun)\n",
    "    else:\n",
    "        return noun + 's'\n",
    "\n",
    "if __name__ == '__main__':\n",
    "    import sys\n",
    "    if sys.argv[1:]:\n",
    "        print(plural(sys.argv[1]))\n",
    "    else:\n",
    "        print(__doc__)\n",
    "\n"
   ]
  },
  {
   "cell_type": "markdown",
   "metadata": {},
   "source": [
    "**A List of Functions**"
   ]
  },
  {
   "cell_type": "code",
   "execution_count": null,
   "metadata": {},
   "outputs": [],
   "source": [
    "# Command line usage:\n",
    "# $ python plural2.py noun\n",
    "# nouns\n",
    "\n",
    "import re\n",
    "\n",
    "def match_sxz(noun):\n",
    "    return re.search('[sxz]$', noun)\n",
    "\n",
    "def apply_sxz(noun):\n",
    "    return re.sub('$', 'es', noun)\n",
    "\n",
    "def match_h(noun):\n",
    "    return re.search('[^aeioudgkprt]h$', noun)\n",
    "\n",
    "def apply_h(noun):\n",
    "    return re.sub('$', 'es', noun)\n",
    "\n",
    "def match_y(noun):\n",
    "    return re.search('[^aeiou]y$', noun)\n",
    "        \n",
    "def apply_y(noun):\n",
    "    return re.sub('y$', 'ies', noun)\n",
    "\n",
    "def match_default(noun):\n",
    "    return True\n",
    "\n",
    "def apply_default(noun):\n",
    "    return noun + 's'\n",
    "\n",
    "rules = ((match_sxz, apply_sxz),\n",
    "         (match_h, apply_h),\n",
    "         (match_y, apply_y),\n",
    "         (match_default, apply_default)\n",
    "         )\n",
    "\n",
    "def plural(noun):\n",
    "    for matches_rule, apply_rule in rules:\n",
    "        if matches_rule(noun):\n",
    "            return apply_rule(noun)\n",
    "\n",
    "if __name__ == '__main__':\n",
    "    import sys\n",
    "    if sys.argv[1:]:\n",
    "        print(plural(sys.argv[1]))\n",
    "    else:\n",
    "        print(__doc__)"
   ]
  },
  {
   "cell_type": "markdown",
   "metadata": {},
   "source": [
    "**A List of Patterns**"
   ]
  },
  {
   "cell_type": "code",
   "execution_count": null,
   "metadata": {},
   "outputs": [],
   "source": [
    "# Command line usage:\n",
    "# $ python3 plural.py noun\n",
    "# nouns\n",
    "\n",
    "import re\n",
    "\n",
    "def plural(noun):\n",
    "    if re.search('[sxz]$', noun):\n",
    "        return re.sub('$', 'es', noun)\n",
    "    elif re.search('[^aeioudgkprt]h$', noun):\n",
    "        return re.sub('$', 'es', noun)\n",
    "    elif re.search('[^aeiou]y$', noun):\n",
    "        return re.sub('y$', 'ies', noun)\n",
    "    else:\n",
    "        return noun + 's'\n",
    "\n",
    "if __name__ == '__main__':\n",
    "    import sys\n",
    "    if sys.argv[1:]:\n",
    "        print(plural(sys.argv[1]))\n",
    "    else:\n",
    "        print(__doc__)"
   ]
  },
  {
   "cell_type": "code",
   "execution_count": null,
   "metadata": {},
   "outputs": [],
   "source": []
  },
  {
   "cell_type": "markdown",
   "metadata": {},
   "source": [
    "**A File Of Patterns**"
   ]
  },
  {
   "cell_type": "raw",
   "metadata": {},
   "source": [
    "patterns = \\\n",
    "  (\n",
    "    ('[sxz]$',           '$',  'es'),\n",
    "    ('[^aeioudgkprt]h$', '$',  'es'),\n",
    "    ('(qu|[^aeiou])y$',  'y$', 'ies'),\n",
    "    ('$',                '$',  's')\n",
    "  )\n",
    "rules = [build_match_and_apply_functions(pattern, search, replace)\n",
    "         for (pattern, search, replace) in patterns]"
   ]
  },
  {
   "cell_type": "code",
   "execution_count": null,
   "metadata": {},
   "outputs": [],
   "source": [
    "# Command line usage:\n",
    "# $ python plural4.py noun\n",
    "# nouns\n",
    "\n",
    "import re\n",
    "\n",
    "def build_match_and_apply_functions(pattern, search, replace):\n",
    "    def matches_rule(word):\n",
    "        return re.search(pattern, word)\n",
    "    def apply_rule(word):\n",
    "        return re.sub(search, replace, word)\n",
    "    return (matches_rule, apply_rule)\n",
    "\n",
    "rules = []\n",
    "with open('plural4-rules.txt', encoding='utf-8') as pattern_file:\n",
    "    for line in pattern_file:\n",
    "        pattern, search, replace = line.split(None, 3)\n",
    "        rules.append(build_match_and_apply_functions(\n",
    "                pattern, search, replace))\n",
    "\n",
    "def plural(noun):\n",
    "    for matches_rule, apply_rule in rules:\n",
    "        if matches_rule(noun):\n",
    "            return apply_rule(noun)\n",
    "\n",
    "if __name__ == '__main__':\n",
    "    import sys\n",
    "    if sys.argv[1:]:\n",
    "        print(plural(sys.argv[1]))\n",
    "    else:\n",
    "        print(__doc__)"
   ]
  },
  {
   "cell_type": "markdown",
   "metadata": {},
   "source": [
    "**Generators**"
   ]
  },
  {
   "cell_type": "code",
   "execution_count": null,
   "metadata": {},
   "outputs": [],
   "source": [
    "# Command line usage:\n",
    "# $ python plural5.py noun\n",
    "# nouns\n",
    "\n",
    "import re\n",
    "\n",
    "def build_match_and_apply_functions(pattern, search, replace):\n",
    "    def matches_rule(word):\n",
    "        return re.search(pattern, word)\n",
    "    def apply_rule(word):\n",
    "        return re.sub(search, replace, word)\n",
    "    return [matches_rule, apply_rule]\n",
    "\n",
    "def rules(rules_filename):\n",
    "    with open(rules_filename, encoding='utf-8') as pattern_file:\n",
    "        for line in pattern_file:\n",
    "            pattern, search, replace = line.split(None, 3)\n",
    "            yield build_match_and_apply_functions(pattern, search, replace)\n",
    "\n",
    "def plural(noun, rules_filename='plural5-rules.txt'):\n",
    "    for matches_rule, apply_rule in rules(rules_filename):\n",
    "        if matches_rule(noun):\n",
    "            return apply_rule(noun)\n",
    "    raise ValueError('no matching rule for {0}'.format(noun))\n",
    "\n",
    "if __name__ == '__main__':\n",
    "    import sys\n",
    "    if sys.argv[1:]:\n",
    "        print(plural(sys.argv[1]))\n",
    "    else:\n",
    "        print(__doc__)"
   ]
  },
  {
   "cell_type": "raw",
   "metadata": {},
   "source": [
    ">>> def make_counter(x):\n",
    "...     print('entering make_counter')\n",
    "...     while True:\n",
    "...  yield x \n",
    "...         print('incrementing x')\n",
    "...         x = x + 1\n",
    "... \n",
    ">>> counter = make_counter(2) \n",
    ">>> counter \n",
    "<generator object at 0x001C9C10>\n",
    ">>> next(counter) \n",
    "entering make_counter\n",
    "2\n",
    ">>> next(counter) \n",
    "incrementing x\n",
    "3\n",
    ">>> next(counter) \n",
    "incrementing x\n",
    "4"
   ]
  },
  {
   "cell_type": "markdown",
   "metadata": {},
   "source": [
    "- - - \n",
    "<!--NAVIGATION-->\n",
    "Module 6. | [Generators](./01_generators.ipynb) | [Regular Expressions](./02_regex.ipynb) | [String Manipulation & Regular Expressions](03_str_manipulate.ipynb) | **[Closures & Generators](./04_closures_generators.ipynb)** | [Exercises](./05_gen_regex_exercises.ipynb)\n",
    "<br>\n",
    "[Top](#)"
   ]
  },
  {
   "cell_type": "markdown",
   "metadata": {},
   "source": [
    "- - -\n",
    "\n",
    "Copyright © 2020 Qualex Consulting Services Incorporated."
   ]
  }
 ],
 "metadata": {
  "kernelspec": {
   "display_name": "Python 3",
   "language": "python",
   "name": "python3"
  },
  "language_info": {
   "codemirror_mode": {
    "name": "ipython",
    "version": 3
   },
   "file_extension": ".py",
   "mimetype": "text/x-python",
   "name": "python",
   "nbconvert_exporter": "python",
   "pygments_lexer": "ipython3",
   "version": "3.8.3"
  }
 },
 "nbformat": 4,
 "nbformat_minor": 4
}

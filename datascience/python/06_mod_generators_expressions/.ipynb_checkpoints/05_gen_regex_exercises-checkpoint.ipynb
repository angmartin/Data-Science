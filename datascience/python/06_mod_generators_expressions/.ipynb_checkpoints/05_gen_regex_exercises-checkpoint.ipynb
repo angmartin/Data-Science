{
 "cells": [
  {
   "cell_type": "markdown",
   "metadata": {},
   "source": [
    "Data Science Fundamentals: Python |\n",
    "[Table of Contents](../index.ipynb)\n",
    "- - - \n",
    "<!--NAVIGATION-->\n",
    "Module 6. | [Generators](./01_generators.ipynb) | [Regular Expressions](./02_regex.ipynb) | [String Manipulation & Regular Expressions](03_str_manipulate.ipynb) | [Reference: Regex Closures & Generators](./04_closures_generators.ipynb) | **[Exercises](./05_gen_regex_exercises.ipynb)**"
   ]
  },
  {
   "cell_type": "markdown",
   "metadata": {},
   "source": [
    "\n",
    "# Module 6: Practice Exercises"
   ]
  },
  {
   "cell_type": "markdown",
   "metadata": {},
   "source": [
    "## Exercise 1"
   ]
  },
  {
   "cell_type": "markdown",
   "metadata": {},
   "source": [
    "[See Hacker Rank Problem](https://www.hackerrank.com/challenges/re-sub-regex-substitution/problem)"
   ]
  },
  {
   "cell_type": "markdown",
   "metadata": {},
   "source": [
    "The re.sub() tool (sub stands for substitution) evaluates a pattern and, for each valid match, it calls a method (or lambda).\n",
    "The method is called for all matches and can be used to modify strings in different ways.\n",
    "The re.sub() method returns the modified string as an output.\n",
    "\n",
    "Learn more about [re.sub()](https://docs.python.org/3/library/re.html)."
   ]
  },
  {
   "cell_type": "markdown",
   "metadata": {},
   "source": [
    "**Transformation of Strings**"
   ]
  },
  {
   "cell_type": "markdown",
   "metadata": {},
   "source": [
    "***Code***"
   ]
  },
  {
   "cell_type": "raw",
   "metadata": {},
   "source": [
    "import re\n",
    "\n",
    "#Squaring numbers\n",
    "def square(match):\n",
    "    number = int(match.group(0))\n",
    "    return str(number**2)\n",
    "\n",
    "print re.sub(r\"\\d+\", square, \"1 2 3 4 5 6 7 8 9\")"
   ]
  },
  {
   "cell_type": "markdown",
   "metadata": {},
   "source": [
    "***Output***"
   ]
  },
  {
   "cell_type": "raw",
   "metadata": {},
   "source": [
    "1 4 9 16 25 36 49 64 81"
   ]
  },
  {
   "cell_type": "markdown",
   "metadata": {},
   "source": [
    "**Replacements in Strings**"
   ]
  },
  {
   "cell_type": "markdown",
   "metadata": {},
   "source": [
    "***Code***"
   ]
  },
  {
   "cell_type": "raw",
   "metadata": {},
   "source": [
    "import re\n",
    "\n",
    "html = \"\"\"\n",
    "<head>\n",
    "<title>HTML</title>\n",
    "</head>\n",
    "<object type=\"application/x-flash\" \n",
    "  data=\"your-file.swf\" \n",
    "  width=\"0\" height=\"0\">\n",
    "  <!-- <param name=\"movie\"  value=\"your-file.swf\" /> -->\n",
    "  <param name=\"quality\" value=\"high\"/>\n",
    "</object>\n",
    "\"\"\"\n",
    "\n",
    "print re.sub(\"(<!--.*?-->)\", \"\", html) #remove comment"
   ]
  },
  {
   "cell_type": "markdown",
   "metadata": {},
   "source": [
    "***Output***"
   ]
  },
  {
   "cell_type": "raw",
   "metadata": {},
   "source": [
    "<head>\n",
    "<title>HTML</title>\n",
    "</head>\n",
    "<object type=\"application/x-flash\" \n",
    "  data=\"your-file.swf\" \n",
    "  width=\"0\" height=\"0\">\n",
    "\n",
    "  <param name=\"quality\" value=\"high\"/>\n",
    "</object>"
   ]
  },
  {
   "cell_type": "markdown",
   "metadata": {},
   "source": [
    "**Task**"
   ]
  },
  {
   "cell_type": "markdown",
   "metadata": {},
   "source": [
    "You are given a text of **N** lines. The text contains && and || symbols.\n",
    "Your task is to modify those symbols to the following:"
   ]
  },
  {
   "cell_type": "raw",
   "metadata": {},
   "source": [
    "&& → and\n",
    "|| → or"
   ]
  },
  {
   "cell_type": "markdown",
   "metadata": {},
   "source": [
    "Both && and || should have a space \" \" on both sides."
   ]
  },
  {
   "cell_type": "markdown",
   "metadata": {},
   "source": [
    "**Input Format**"
   ]
  },
  {
   "cell_type": "markdown",
   "metadata": {},
   "source": [
    "The first line contains the integer, **N**.\n",
    "The next **N** lines each contain a line of the text."
   ]
  },
  {
   "cell_type": "markdown",
   "metadata": {},
   "source": [
    "**Constraints**"
   ]
  },
  {
   "cell_type": "raw",
   "metadata": {},
   "source": [
    "0 < N < 100"
   ]
  },
  {
   "cell_type": "markdown",
   "metadata": {},
   "source": [
    "**Output Format**"
   ]
  },
  {
   "cell_type": "markdown",
   "metadata": {},
   "source": [
    "Output the modified text."
   ]
  },
  {
   "cell_type": "markdown",
   "metadata": {},
   "source": [
    "**Sample Input**"
   ]
  },
  {
   "cell_type": "raw",
   "metadata": {},
   "source": [
    "11\n",
    "a = 1;\n",
    "b = input();\n",
    "\n",
    "if a + b > 0 && a - b < 0:\n",
    "    start()\n",
    "elif a*b > 10 || a/b < 1:\n",
    "    stop()\n",
    "print set(list(a)) | set(list(b)) \n",
    "\n",
    "#Note do not change &&& or ||| or & or |\n",
    "#Only change those '&&' which have space on both sides.\n",
    "#Only change those '|| which have space on both sides."
   ]
  },
  {
   "cell_type": "markdown",
   "metadata": {},
   "source": [
    "**Sample Output**"
   ]
  },
  {
   "cell_type": "raw",
   "metadata": {},
   "source": [
    "a = 1;\n",
    "b = input();\n",
    "\n",
    "if a + b > 0 and a - b < 0:\n",
    "    start()\n",
    "elif a*b > 10 or a/b < 1:\n",
    "    stop()\n",
    "print set(list(a)) | set(list(b)) \n",
    "#Note do not change &&& or ||| or & or |\n",
    "#Only change those '&&' which have space on both sides.\n",
    "#Only change those '|| which have space on both sides."
   ]
  },
  {
   "cell_type": "code",
   "execution_count": null,
   "metadata": {},
   "outputs": [],
   "source": [
    "# Enter your code here. Read input from STDIN. Print output to STDOUT\n"
   ]
  },
  {
   "cell_type": "markdown",
   "metadata": {},
   "source": [
    "[Submit Solution to Hacker Rank](https://www.hackerrank.com/challenges/re-sub-regex-substitution/submissions)"
   ]
  },
  {
   "cell_type": "markdown",
   "metadata": {},
   "source": [
    "## Exercise 2"
   ]
  },
  {
   "cell_type": "markdown",
   "metadata": {},
   "source": [
    "[See Hacker Rank Problem](https://www.hackerrank.com/challenges/validating-named-email-addresses/problem)"
   ]
  },
  {
   "cell_type": "markdown",
   "metadata": {},
   "source": [
    "A valid email address meets the following criteria:\n",
    "\n",
    "It's composed of a username, domain name, and extension assembled in this format: `username@domain.extension`\n",
    "- The username starts with an English alphabetical character, and any subsequent characters consist of one or more of the following: alphanumeric characters, -,., and _.\n",
    "- The domain and extension contain only English alphabetical characters.\n",
    "- The extension is 1, 2, or 3 characters in length.\n",
    "\n",
    "Given **n** pairs of names and email addresses as input, print each name and email address pair having a valid email address on a new line.\n",
    "\n",
    "Hint: Try using [Email.utils()](https://docs.python.org/3/library/email.utils.html) to complete this challenge. For example, this code:"
   ]
  },
  {
   "cell_type": "raw",
   "metadata": {},
   "source": [
    "import email.utils\n",
    "print email.utils.parseaddr('DOSHI <DOSHI@hackerrank.com>')\n",
    "print email.utils.formataddr(('DOSHI', 'DOSHI@hackerrank.com'))"
   ]
  },
  {
   "cell_type": "markdown",
   "metadata": {},
   "source": [
    "Produces this output"
   ]
  },
  {
   "cell_type": "raw",
   "metadata": {},
   "source": [
    "('DOSHI', 'DOSHI@hackerrank.com')\n",
    "DOSHI <DOSHI@hackerrank.com>"
   ]
  },
  {
   "cell_type": "markdown",
   "metadata": {},
   "source": [
    "**Input Format**\n",
    "\n",
    "The first line contains a single integer, , denoting the number of email address.\n",
    "Each line  of the  subsequent lines contains a name and an email address as two space-separated values following this format:"
   ]
  },
  {
   "cell_type": "raw",
   "metadata": {},
   "source": [
    "name <user@email.com>"
   ]
  },
  {
   "cell_type": "markdown",
   "metadata": {},
   "source": [
    "**Constraints**"
   ]
  },
  {
   "cell_type": "raw",
   "metadata": {},
   "source": [
    "0 < n < 100"
   ]
  },
  {
   "cell_type": "markdown",
   "metadata": {},
   "source": [
    "**Output Format**"
   ]
  },
  {
   "cell_type": "markdown",
   "metadata": {},
   "source": [
    "Print the space-separated name and email address pairs containing valid email addresses only. Each pair must be printed on a new line in the following format:"
   ]
  },
  {
   "cell_type": "raw",
   "metadata": {},
   "source": [
    "name <user@email.com>"
   ]
  },
  {
   "cell_type": "markdown",
   "metadata": {},
   "source": [
    "**Sample Input**"
   ]
  },
  {
   "cell_type": "raw",
   "metadata": {},
   "source": [
    "2  \n",
    "DEXTER <dexter@hotmail.com>\n",
    "VIRUS <virus!@variable.:p>"
   ]
  },
  {
   "cell_type": "markdown",
   "metadata": {},
   "source": [
    "**Sample Output**"
   ]
  },
  {
   "cell_type": "raw",
   "metadata": {},
   "source": [
    "DEXTER <dexter@hotmail.com>"
   ]
  },
  {
   "cell_type": "markdown",
   "metadata": {},
   "source": [
    "**Explanation**"
   ]
  },
  {
   "cell_type": "markdown",
   "metadata": {},
   "source": [
    "dexter@hotmail.com is a valid email address, so we print the name and email address pair received as input on a new line.\n",
    "virus!@variable.:p is not a valid email address because the username contains an exclamation point (!) and the extension contains a colon (:). As this email is not valid, we print nothing."
   ]
  },
  {
   "cell_type": "code",
   "execution_count": 1,
   "metadata": {},
   "outputs": [],
   "source": [
    "# Enter your code here. Read input from STDIN. Print output to STDOUT\n"
   ]
  },
  {
   "cell_type": "markdown",
   "metadata": {},
   "source": [
    "[Submit Solution to Hacker Rank](https://www.hackerrank.com/challenges/validating-named-email-addresses/submissions)\n",
    "### [Submit Files to TiTuS](https://titus.techtalentsouth.com/mod/assign/view.php?id=45000)"
   ]
  },
  {
   "cell_type": "markdown",
   "metadata": {},
   "source": [
    "- - -\n",
    "<!--NAVIGATION-->\n",
    "Module 6. | [Generators](./01_generators.ipynb) | [Regular Expressions](./02_regex.ipynb) | [String Manipulation & Regular Expressions](03_str_manipulate.ipynb) | [Closures & Generators](./04_closures_generators.ipynb) | **[Exercises](./05_gen_regex_exercises.ipynb)**\n",
    "<br>\n",
    "[Top](#)"
   ]
  },
  {
   "cell_type": "markdown",
   "metadata": {},
   "source": [
    "- - -\n",
    "\n",
    "Copyright © 2020 Qualex Consulting Services Incorporated."
   ]
  }
 ],
 "metadata": {
  "kernelspec": {
   "display_name": "Python 3",
   "language": "python",
   "name": "python3"
  },
  "language_info": {
   "codemirror_mode": {
    "name": "ipython",
    "version": 3
   },
   "file_extension": ".py",
   "mimetype": "text/x-python",
   "name": "python",
   "nbconvert_exporter": "python",
   "pygments_lexer": "ipython3",
   "version": "3.8.3"
  }
 },
 "nbformat": 4,
 "nbformat_minor": 4
}

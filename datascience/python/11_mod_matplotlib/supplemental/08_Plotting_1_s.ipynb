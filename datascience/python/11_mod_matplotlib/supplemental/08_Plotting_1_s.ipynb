{
 "cells": [
  {
   "cell_type": "markdown",
   "metadata": {},
   "source": [
    "# 08 Introduction to Plotting, Part 1\n",
    "File(s) needed: stats_exam_3_scores.csv <span style=\"color:red\"> <= DOWNLOAD A NEW COPY</span>, stats_hw_and_exams.csv\n",
    "\n",
    "There are two types of plots: exploratory and explanatory. **Exploratory** plots are useful when you are trying to determine what direction you pursue in your analysis. They can be simple plots, but they still need enough detail to be self-documenting. Plotting data on a graph is an important part of preparing it for analysis. Descriptive statistics are helpful but don't show the whole picture. Our first example will show why.\n",
    "\n",
    "**Explanatory** plots are used to tell an audience about the results of your analysis. These plots are usually more complete and can even be \"publication ready\" in format.\n",
    "\n",
    "We will use three popular plotting libraries:\n",
    "- matplotlib\n",
    "- Seaborn\n",
    "- basic plots included in pandas\n",
    "\n",
    "This notebook covers matplotlib and pandas plotting. Plotting with the Seaborn library is more oriented toward explanatory use and is covered in the **09_Plotting_2** notebook."
   ]
  },
  {
   "cell_type": "markdown",
   "metadata": {},
   "source": [
    "## Why bother with plotting our data?\n",
    "Anscombe's quartet shows why we have to visualize data. Each of four sets of two continuous variables has the same\n",
    "- mean\n",
    "- variance\n",
    "- correlation\n",
    "- regression line.\n",
    "\n",
    "When we plot them, however, we can see that they are definitely not the same.\n",
    "\n",
    "The Anscombe data is part of the \"seaborn\" library, so we will need to import the library to access the data, plus we will use some of its plotting functionality a little later. We will also need some of the capabilities of the \"matplotlib\" library. Matplotlib contains the plotting functionality we will use to begin."
   ]
  },
  {
   "cell_type": "code",
   "execution_count": 1,
   "metadata": {},
   "outputs": [
    {
     "data": {
      "text/html": [
       "<div>\n",
       "<style scoped>\n",
       "    .dataframe tbody tr th:only-of-type {\n",
       "        vertical-align: middle;\n",
       "    }\n",
       "\n",
       "    .dataframe tbody tr th {\n",
       "        vertical-align: top;\n",
       "    }\n",
       "\n",
       "    .dataframe thead th {\n",
       "        text-align: right;\n",
       "    }\n",
       "</style>\n",
       "<table border=\"1\" class=\"dataframe\">\n",
       "  <thead>\n",
       "    <tr style=\"text-align: right;\">\n",
       "      <th></th>\n",
       "      <th>dataset</th>\n",
       "      <th>x</th>\n",
       "      <th>y</th>\n",
       "    </tr>\n",
       "  </thead>\n",
       "  <tbody>\n",
       "    <tr>\n",
       "      <th>0</th>\n",
       "      <td>I</td>\n",
       "      <td>10.0</td>\n",
       "      <td>8.04</td>\n",
       "    </tr>\n",
       "    <tr>\n",
       "      <th>1</th>\n",
       "      <td>I</td>\n",
       "      <td>8.0</td>\n",
       "      <td>6.95</td>\n",
       "    </tr>\n",
       "    <tr>\n",
       "      <th>2</th>\n",
       "      <td>I</td>\n",
       "      <td>13.0</td>\n",
       "      <td>7.58</td>\n",
       "    </tr>\n",
       "    <tr>\n",
       "      <th>3</th>\n",
       "      <td>I</td>\n",
       "      <td>9.0</td>\n",
       "      <td>8.81</td>\n",
       "    </tr>\n",
       "    <tr>\n",
       "      <th>4</th>\n",
       "      <td>I</td>\n",
       "      <td>11.0</td>\n",
       "      <td>8.33</td>\n",
       "    </tr>\n",
       "    <tr>\n",
       "      <th>5</th>\n",
       "      <td>I</td>\n",
       "      <td>14.0</td>\n",
       "      <td>9.96</td>\n",
       "    </tr>\n",
       "    <tr>\n",
       "      <th>6</th>\n",
       "      <td>I</td>\n",
       "      <td>6.0</td>\n",
       "      <td>7.24</td>\n",
       "    </tr>\n",
       "    <tr>\n",
       "      <th>7</th>\n",
       "      <td>I</td>\n",
       "      <td>4.0</td>\n",
       "      <td>4.26</td>\n",
       "    </tr>\n",
       "    <tr>\n",
       "      <th>8</th>\n",
       "      <td>I</td>\n",
       "      <td>12.0</td>\n",
       "      <td>10.84</td>\n",
       "    </tr>\n",
       "    <tr>\n",
       "      <th>9</th>\n",
       "      <td>I</td>\n",
       "      <td>7.0</td>\n",
       "      <td>4.82</td>\n",
       "    </tr>\n",
       "    <tr>\n",
       "      <th>10</th>\n",
       "      <td>I</td>\n",
       "      <td>5.0</td>\n",
       "      <td>5.68</td>\n",
       "    </tr>\n",
       "    <tr>\n",
       "      <th>11</th>\n",
       "      <td>II</td>\n",
       "      <td>10.0</td>\n",
       "      <td>9.14</td>\n",
       "    </tr>\n",
       "    <tr>\n",
       "      <th>12</th>\n",
       "      <td>II</td>\n",
       "      <td>8.0</td>\n",
       "      <td>8.14</td>\n",
       "    </tr>\n",
       "    <tr>\n",
       "      <th>13</th>\n",
       "      <td>II</td>\n",
       "      <td>13.0</td>\n",
       "      <td>8.74</td>\n",
       "    </tr>\n",
       "    <tr>\n",
       "      <th>14</th>\n",
       "      <td>II</td>\n",
       "      <td>9.0</td>\n",
       "      <td>8.77</td>\n",
       "    </tr>\n",
       "    <tr>\n",
       "      <th>15</th>\n",
       "      <td>II</td>\n",
       "      <td>11.0</td>\n",
       "      <td>9.26</td>\n",
       "    </tr>\n",
       "    <tr>\n",
       "      <th>16</th>\n",
       "      <td>II</td>\n",
       "      <td>14.0</td>\n",
       "      <td>8.10</td>\n",
       "    </tr>\n",
       "    <tr>\n",
       "      <th>17</th>\n",
       "      <td>II</td>\n",
       "      <td>6.0</td>\n",
       "      <td>6.13</td>\n",
       "    </tr>\n",
       "    <tr>\n",
       "      <th>18</th>\n",
       "      <td>II</td>\n",
       "      <td>4.0</td>\n",
       "      <td>3.10</td>\n",
       "    </tr>\n",
       "    <tr>\n",
       "      <th>19</th>\n",
       "      <td>II</td>\n",
       "      <td>12.0</td>\n",
       "      <td>9.13</td>\n",
       "    </tr>\n",
       "    <tr>\n",
       "      <th>20</th>\n",
       "      <td>II</td>\n",
       "      <td>7.0</td>\n",
       "      <td>7.26</td>\n",
       "    </tr>\n",
       "    <tr>\n",
       "      <th>21</th>\n",
       "      <td>II</td>\n",
       "      <td>5.0</td>\n",
       "      <td>4.74</td>\n",
       "    </tr>\n",
       "    <tr>\n",
       "      <th>22</th>\n",
       "      <td>III</td>\n",
       "      <td>10.0</td>\n",
       "      <td>7.46</td>\n",
       "    </tr>\n",
       "    <tr>\n",
       "      <th>23</th>\n",
       "      <td>III</td>\n",
       "      <td>8.0</td>\n",
       "      <td>6.77</td>\n",
       "    </tr>\n",
       "    <tr>\n",
       "      <th>24</th>\n",
       "      <td>III</td>\n",
       "      <td>13.0</td>\n",
       "      <td>12.74</td>\n",
       "    </tr>\n",
       "    <tr>\n",
       "      <th>25</th>\n",
       "      <td>III</td>\n",
       "      <td>9.0</td>\n",
       "      <td>7.11</td>\n",
       "    </tr>\n",
       "    <tr>\n",
       "      <th>26</th>\n",
       "      <td>III</td>\n",
       "      <td>11.0</td>\n",
       "      <td>7.81</td>\n",
       "    </tr>\n",
       "    <tr>\n",
       "      <th>27</th>\n",
       "      <td>III</td>\n",
       "      <td>14.0</td>\n",
       "      <td>8.84</td>\n",
       "    </tr>\n",
       "    <tr>\n",
       "      <th>28</th>\n",
       "      <td>III</td>\n",
       "      <td>6.0</td>\n",
       "      <td>6.08</td>\n",
       "    </tr>\n",
       "    <tr>\n",
       "      <th>29</th>\n",
       "      <td>III</td>\n",
       "      <td>4.0</td>\n",
       "      <td>5.39</td>\n",
       "    </tr>\n",
       "    <tr>\n",
       "      <th>30</th>\n",
       "      <td>III</td>\n",
       "      <td>12.0</td>\n",
       "      <td>8.15</td>\n",
       "    </tr>\n",
       "    <tr>\n",
       "      <th>31</th>\n",
       "      <td>III</td>\n",
       "      <td>7.0</td>\n",
       "      <td>6.42</td>\n",
       "    </tr>\n",
       "    <tr>\n",
       "      <th>32</th>\n",
       "      <td>III</td>\n",
       "      <td>5.0</td>\n",
       "      <td>5.73</td>\n",
       "    </tr>\n",
       "    <tr>\n",
       "      <th>33</th>\n",
       "      <td>IV</td>\n",
       "      <td>8.0</td>\n",
       "      <td>6.58</td>\n",
       "    </tr>\n",
       "    <tr>\n",
       "      <th>34</th>\n",
       "      <td>IV</td>\n",
       "      <td>8.0</td>\n",
       "      <td>5.76</td>\n",
       "    </tr>\n",
       "    <tr>\n",
       "      <th>35</th>\n",
       "      <td>IV</td>\n",
       "      <td>8.0</td>\n",
       "      <td>7.71</td>\n",
       "    </tr>\n",
       "    <tr>\n",
       "      <th>36</th>\n",
       "      <td>IV</td>\n",
       "      <td>8.0</td>\n",
       "      <td>8.84</td>\n",
       "    </tr>\n",
       "    <tr>\n",
       "      <th>37</th>\n",
       "      <td>IV</td>\n",
       "      <td>8.0</td>\n",
       "      <td>8.47</td>\n",
       "    </tr>\n",
       "    <tr>\n",
       "      <th>38</th>\n",
       "      <td>IV</td>\n",
       "      <td>8.0</td>\n",
       "      <td>7.04</td>\n",
       "    </tr>\n",
       "    <tr>\n",
       "      <th>39</th>\n",
       "      <td>IV</td>\n",
       "      <td>8.0</td>\n",
       "      <td>5.25</td>\n",
       "    </tr>\n",
       "    <tr>\n",
       "      <th>40</th>\n",
       "      <td>IV</td>\n",
       "      <td>19.0</td>\n",
       "      <td>12.50</td>\n",
       "    </tr>\n",
       "    <tr>\n",
       "      <th>41</th>\n",
       "      <td>IV</td>\n",
       "      <td>8.0</td>\n",
       "      <td>5.56</td>\n",
       "    </tr>\n",
       "    <tr>\n",
       "      <th>42</th>\n",
       "      <td>IV</td>\n",
       "      <td>8.0</td>\n",
       "      <td>7.91</td>\n",
       "    </tr>\n",
       "    <tr>\n",
       "      <th>43</th>\n",
       "      <td>IV</td>\n",
       "      <td>8.0</td>\n",
       "      <td>6.89</td>\n",
       "    </tr>\n",
       "  </tbody>\n",
       "</table>\n",
       "</div>"
      ],
      "text/plain": [
       "   dataset     x      y\n",
       "0        I  10.0   8.04\n",
       "1        I   8.0   6.95\n",
       "2        I  13.0   7.58\n",
       "3        I   9.0   8.81\n",
       "4        I  11.0   8.33\n",
       "5        I  14.0   9.96\n",
       "6        I   6.0   7.24\n",
       "7        I   4.0   4.26\n",
       "8        I  12.0  10.84\n",
       "9        I   7.0   4.82\n",
       "10       I   5.0   5.68\n",
       "11      II  10.0   9.14\n",
       "12      II   8.0   8.14\n",
       "13      II  13.0   8.74\n",
       "14      II   9.0   8.77\n",
       "15      II  11.0   9.26\n",
       "16      II  14.0   8.10\n",
       "17      II   6.0   6.13\n",
       "18      II   4.0   3.10\n",
       "19      II  12.0   9.13\n",
       "20      II   7.0   7.26\n",
       "21      II   5.0   4.74\n",
       "22     III  10.0   7.46\n",
       "23     III   8.0   6.77\n",
       "24     III  13.0  12.74\n",
       "25     III   9.0   7.11\n",
       "26     III  11.0   7.81\n",
       "27     III  14.0   8.84\n",
       "28     III   6.0   6.08\n",
       "29     III   4.0   5.39\n",
       "30     III  12.0   8.15\n",
       "31     III   7.0   6.42\n",
       "32     III   5.0   5.73\n",
       "33      IV   8.0   6.58\n",
       "34      IV   8.0   5.76\n",
       "35      IV   8.0   7.71\n",
       "36      IV   8.0   8.84\n",
       "37      IV   8.0   8.47\n",
       "38      IV   8.0   7.04\n",
       "39      IV   8.0   5.25\n",
       "40      IV  19.0  12.50\n",
       "41      IV   8.0   5.56\n",
       "42      IV   8.0   7.91\n",
       "43      IV   8.0   6.89"
      ]
     },
     "execution_count": 1,
     "metadata": {},
     "output_type": "execute_result"
    }
   ],
   "source": [
    "# import seaborn library and get the data\n",
    "import seaborn as sns\n",
    "anscombe = sns.load_dataset(\"anscombe\")\n",
    "anscombe"
   ]
  },
  {
   "cell_type": "markdown",
   "metadata": {},
   "source": [
    "# An important point about plotting\n",
    "<p></p>\n",
    "<div style=\"padding:20px;font-size:250%;color:maroon;background-color:cornsilk\">\n",
    "    <p style=\"text-align:center\">Ability to create a plot</p><p style=\"text-align:center\">!=</p><p style=\"text-align:center\">Need to create a plot</p>\n",
    "</div>\n",
    "<p></p>"
   ]
  },
  {
   "cell_type": "markdown",
   "metadata": {},
   "source": [
    "## Intro to matplotlib\n",
    "\n",
    "Matplotlib is Python's core plotting library, providing users with considerable flexibility and control over every characteristic of the plots they create. \n",
    "\n",
    "https://matplotlib.org/index.html\n",
    "\n",
    "When we use it, we import the \"pyplot\" module."
   ]
  },
  {
   "cell_type": "code",
   "execution_count": 2,
   "metadata": {},
   "outputs": [],
   "source": [
    "# import matplotlib\n",
    "import matplotlib.pyplot as plt"
   ]
  },
  {
   "cell_type": "code",
   "execution_count": 3,
   "metadata": {},
   "outputs": [
    {
     "data": {
      "text/html": [
       "<div>\n",
       "<style scoped>\n",
       "    .dataframe tbody tr th:only-of-type {\n",
       "        vertical-align: middle;\n",
       "    }\n",
       "\n",
       "    .dataframe tbody tr th {\n",
       "        vertical-align: top;\n",
       "    }\n",
       "\n",
       "    .dataframe thead th {\n",
       "        text-align: right;\n",
       "    }\n",
       "</style>\n",
       "<table border=\"1\" class=\"dataframe\">\n",
       "  <thead>\n",
       "    <tr style=\"text-align: right;\">\n",
       "      <th></th>\n",
       "      <th>dataset</th>\n",
       "      <th>x</th>\n",
       "      <th>y</th>\n",
       "    </tr>\n",
       "  </thead>\n",
       "  <tbody>\n",
       "    <tr>\n",
       "      <th>0</th>\n",
       "      <td>I</td>\n",
       "      <td>10.0</td>\n",
       "      <td>8.04</td>\n",
       "    </tr>\n",
       "    <tr>\n",
       "      <th>1</th>\n",
       "      <td>I</td>\n",
       "      <td>8.0</td>\n",
       "      <td>6.95</td>\n",
       "    </tr>\n",
       "    <tr>\n",
       "      <th>2</th>\n",
       "      <td>I</td>\n",
       "      <td>13.0</td>\n",
       "      <td>7.58</td>\n",
       "    </tr>\n",
       "    <tr>\n",
       "      <th>3</th>\n",
       "      <td>I</td>\n",
       "      <td>9.0</td>\n",
       "      <td>8.81</td>\n",
       "    </tr>\n",
       "    <tr>\n",
       "      <th>4</th>\n",
       "      <td>I</td>\n",
       "      <td>11.0</td>\n",
       "      <td>8.33</td>\n",
       "    </tr>\n",
       "    <tr>\n",
       "      <th>5</th>\n",
       "      <td>I</td>\n",
       "      <td>14.0</td>\n",
       "      <td>9.96</td>\n",
       "    </tr>\n",
       "    <tr>\n",
       "      <th>6</th>\n",
       "      <td>I</td>\n",
       "      <td>6.0</td>\n",
       "      <td>7.24</td>\n",
       "    </tr>\n",
       "    <tr>\n",
       "      <th>7</th>\n",
       "      <td>I</td>\n",
       "      <td>4.0</td>\n",
       "      <td>4.26</td>\n",
       "    </tr>\n",
       "    <tr>\n",
       "      <th>8</th>\n",
       "      <td>I</td>\n",
       "      <td>12.0</td>\n",
       "      <td>10.84</td>\n",
       "    </tr>\n",
       "    <tr>\n",
       "      <th>9</th>\n",
       "      <td>I</td>\n",
       "      <td>7.0</td>\n",
       "      <td>4.82</td>\n",
       "    </tr>\n",
       "    <tr>\n",
       "      <th>10</th>\n",
       "      <td>I</td>\n",
       "      <td>5.0</td>\n",
       "      <td>5.68</td>\n",
       "    </tr>\n",
       "  </tbody>\n",
       "</table>\n",
       "</div>"
      ],
      "text/plain": [
       "   dataset     x      y\n",
       "0        I  10.0   8.04\n",
       "1        I   8.0   6.95\n",
       "2        I  13.0   7.58\n",
       "3        I   9.0   8.81\n",
       "4        I  11.0   8.33\n",
       "5        I  14.0   9.96\n",
       "6        I   6.0   7.24\n",
       "7        I   4.0   4.26\n",
       "8        I  12.0  10.84\n",
       "9        I   7.0   4.82\n",
       "10       I   5.0   5.68"
      ]
     },
     "execution_count": 3,
     "metadata": {},
     "output_type": "execute_result"
    }
   ],
   "source": [
    "# Create a subset of the Anscombe data using just the rows from data set I\n",
    "dataset_1 = anscombe[anscombe[\"dataset\"] == \"I\"]\n",
    "dataset_1"
   ]
  },
  {
   "cell_type": "code",
   "execution_count": 4,
   "metadata": {
    "scrolled": false
   },
   "outputs": [
    {
     "data": {
      "text/plain": [
       "[<matplotlib.lines.Line2D at 0x1b0a072f7f0>]"
      ]
     },
     "execution_count": 4,
     "metadata": {},
     "output_type": "execute_result"
    },
    {
     "data": {
      "image/png": "[encoded data removed]",
      "text/plain": [
       "<Figure size 432x288 with 1 Axes>"
      ]
     },
     "metadata": {
      "needs_background": "light"
     },
     "output_type": "display_data"
    }
   ],
   "source": [
    "# Then create a basic plot. This default version connects the points in the order they are plotted.\n",
    "plt.plot(dataset_1[\"x\"],dataset_1[\"y\"])"
   ]
  },
  {
   "cell_type": "markdown",
   "metadata": {},
   "source": [
    "The basic form of the command is\n",
    "```\n",
    "plt.plot(x-axis data, y-axis data)\n",
    "```\n",
    "\n",
    "Other parameters can be used to change the way the plot is displayed."
   ]
  },
  {
   "cell_type": "code",
   "execution_count": 5,
   "metadata": {
    "scrolled": true
   },
   "outputs": [
    {
     "data": {
      "text/plain": [
       "[<matplotlib.lines.Line2D at 0x1b0a179ac18>]"
      ]
     },
     "execution_count": 5,
     "metadata": {},
     "output_type": "execute_result"
    },
    {
     "data": {
      "image/png": "[encoded data removed]",
      "text/plain": [
       "<Figure size 432x288 with 1 Axes>"
      ]
     },
     "metadata": {
      "needs_background": "light"
     },
     "output_type": "display_data"
    }
   ],
   "source": [
    "# Other parameters are available to control how the data is plotted.\n",
    "# To use circles at the point locations instead of the lines, add the 'o' parameter.\n",
    "plt.plot(dataset_1[\"x\"],dataset_1[\"y\"], \"+\")"
   ]
  },
  {
   "cell_type": "markdown",
   "metadata": {},
   "source": [
    "There are a total of 4 data sets in the Anscombe data. We can subset the original data (\"anscombe\") to create objects for each of them."
   ]
  },
  {
   "cell_type": "code",
   "execution_count": 6,
   "metadata": {},
   "outputs": [],
   "source": [
    "# Create the rest of the subsets of the Anscombe data\n",
    "dataset_2 = anscombe[anscombe['dataset'] == 'II']\n",
    "dataset_3 = anscombe[anscombe['dataset'] == 'III']\n",
    "dataset_4 = anscombe[anscombe['dataset'] == 'IV']"
   ]
  },
  {
   "cell_type": "markdown",
   "metadata": {},
   "source": [
    "Let's look at the descriptive stats for each dataset in the Anscombe set to confirm they have the same values. "
   ]
  },
  {
   "cell_type": "code",
   "execution_count": 7,
   "metadata": {},
   "outputs": [
    {
     "name": "stdout",
     "output_type": "stream",
     "text": [
      "dataset_1\n",
      "                x          y\n",
      "count  11.000000  11.000000\n",
      "mean    9.000000   7.500909\n",
      "std     3.316625   2.031568\n",
      "min     4.000000   4.260000\n",
      "25%     6.500000   6.315000\n",
      "50%     9.000000   7.580000\n",
      "75%    11.500000   8.570000\n",
      "max    14.000000  10.840000 \n",
      "\n",
      "dataset_2\n",
      "                x          y\n",
      "count  11.000000  11.000000\n",
      "mean    9.000000   7.500909\n",
      "std     3.316625   2.031657\n",
      "min     4.000000   3.100000\n",
      "25%     6.500000   6.695000\n",
      "50%     9.000000   8.140000\n",
      "75%    11.500000   8.950000\n",
      "max    14.000000   9.260000 \n",
      "\n",
      "dataset_3\n",
      "                x          y\n",
      "count  11.000000  11.000000\n",
      "mean    9.000000   7.500000\n",
      "std     3.316625   2.030424\n",
      "min     4.000000   5.390000\n",
      "25%     6.500000   6.250000\n",
      "50%     9.000000   7.110000\n",
      "75%    11.500000   7.980000\n",
      "max    14.000000  12.740000 \n",
      "\n",
      "dataset_4\n",
      "                x          y\n",
      "count  11.000000  11.000000\n",
      "mean    9.000000   7.500909\n",
      "std     3.316625   2.030579\n",
      "min     8.000000   5.250000\n",
      "25%     8.000000   6.170000\n",
      "50%     8.000000   7.040000\n",
      "75%     8.000000   8.190000\n",
      "max    19.000000  12.500000 \n",
      "\n"
     ]
    }
   ],
   "source": [
    "# Comparison of descriptive stats for datasets I - IV\n",
    "print('dataset_1\\n',dataset_1.describe(),'\\n')\n",
    "print('dataset_2\\n',dataset_2.describe(),'\\n')\n",
    "print('dataset_3\\n',dataset_3.describe(),'\\n')\n",
    "print('dataset_4\\n',dataset_4.describe(),'\\n')"
   ]
  },
  {
   "cell_type": "markdown",
   "metadata": {},
   "source": [
    "We can plot each of these datasets on its own, then compare each of the plots to see their differences. However, matplotlib allows us to create **subplots** to see all four dataset plots on one chart.\n",
    "\n",
    "Steps:\n",
    "- Create the overall figure\n",
    "- Create the locations (called \"axes\") for the subplots. Location numbers run left to right, top to bottom.\n",
    "- Add the plots to each of the axes.\n",
    "\n",
    "The subplot syntax to create axes takes three parameters:\n",
    "1. Number of rows in the figure for subplots\n",
    "2. Number of columns in the figure for subplots\n",
    "3. Subplot location\n",
    "\n",
    "Let's write the code to create our four plots on one chart. We will also add titles to the individual plots plus an overall title. There are many other customizations we can do, and we will add more of them later. You can always visit the documentation for more options and to get information about them."
   ]
  },
  {
   "cell_type": "code",
   "execution_count": 8,
   "metadata": {},
   "outputs": [
    {
     "data": {
      "image/png": "[encoded data removed]",
      "text/plain": [
       "<Figure size 432x288 with 4 Axes>"
      ]
     },
     "metadata": {
      "needs_background": "light"
     },
     "output_type": "display_data"
    }
   ],
   "source": [
    "# Plotting all four of Anscombe's datasets on one chart\n",
    "\n",
    "# Create the overall figure to hold the subplots\n",
    "fig = plt.figure()\n",
    "\n",
    "# Tell the figure how the subplots should be laid out.\n",
    "# In our example, our figure will have 2 rows of plots, \n",
    "# and each row will have 2 plots, for a total of 4 locations.\n",
    "rows = 2\n",
    "cols = 2\n",
    "\n",
    "\n",
    "# Create the framework for each of the subplots inside the overall figure object.\n",
    "# First subplot has 2 rows and 2 columns, put in plot location 1\n",
    "axes1 = fig.add_subplot(rows, cols, 1)\n",
    "\n",
    "# Second subplot has 2 rows and 2 columns, plot location 2\n",
    "axes2 = fig.add_subplot(rows, cols, 2)\n",
    "# Third subplot has 2 rows and 2 columns, plot location 3\n",
    "axes3 = fig.add_subplot(rows, cols, 3)\n",
    "# Fourth subplot has 2 rows and 2 columns, plot location 4\n",
    "axes4 = fig.add_subplot(rows, cols, 4)\n",
    "\n",
    "# Run the plot method of each of the axes created above\n",
    "axes1.plot(dataset_1[\"x\"], dataset_1[\"y\"],\"o\")\n",
    "axes2.plot(dataset_2[\"x\"], dataset_2[\"y\"],\"o\")\n",
    "axes3.plot(dataset_3[\"x\"], dataset_3[\"y\"],\"o\")\n",
    "axes4.plot(dataset_4[\"x\"], dataset_4[\"y\"],\"o\")\n",
    "# Add a title to each subplot\n",
    "axes1.set_title(\"dataset_1\")\n",
    "axes2.set_title(\"dataset_2\")\n",
    "axes3.set_title(\"dataset_3\")\n",
    "axes4.set_title(\"dataset_4\")\n",
    "# Add a title for the overall plot\n",
    "fig.suptitle(\"Anscombe Data\")\n",
    "\n",
    "# Use a tight layout to make the result more readable.\n",
    "# Try running the cell without this method and see what it does.\n",
    "fig.tight_layout()"
   ]
  },
  {
   "attachments": {
    "matplotlib_figure.PNG": {
     "image/png": "[encoded data removed]"
    }
   },
   "cell_type": "markdown",
   "metadata": {},
   "source": [
    "### Parts of a figure\n",
    "You can see the current graphic showing the parts of a figure at https://matplotlib.org/tutorials/introductory/usage.html\n",
    "\n",
    "![matplotlib_figure.PNG](attachment:matplotlib_figure.PNG)"
   ]
  },
  {
   "cell_type": "markdown",
   "metadata": {},
   "source": [
    "# Statistical Plots with matplotlib\n",
    "We will cover some basic plot types using matplotlib and the \"tips\" data set. The tips data is part of the seaborn lilbrary, so we will load it into memory the same way we did with the Anscombe data."
   ]
  },
  {
   "cell_type": "code",
   "execution_count": 9,
   "metadata": {},
   "outputs": [
    {
     "name": "stdout",
     "output_type": "stream",
     "text": [
      "       total_bill         tip        size\n",
      "count  244.000000  244.000000  244.000000\n",
      "mean    19.785943    2.998279    2.569672\n",
      "std      8.902412    1.383638    0.951100\n",
      "min      3.070000    1.000000    1.000000\n",
      "25%     13.347500    2.000000    2.000000\n",
      "50%     17.795000    2.900000    2.000000\n",
      "75%     24.127500    3.562500    3.000000\n",
      "max     50.810000   10.000000    6.000000 \n",
      "\n",
      "<class 'pandas.core.frame.DataFrame'>\n",
      "RangeIndex: 244 entries, 0 to 243\n",
      "Data columns (total 7 columns):\n",
      "total_bill    244 non-null float64\n",
      "tip           244 non-null float64\n",
      "sex           244 non-null category\n",
      "smoker        244 non-null category\n",
      "day           244 non-null category\n",
      "time          244 non-null category\n",
      "size          244 non-null int64\n",
      "dtypes: category(4), float64(2), int64(1)\n",
      "memory usage: 7.2 KB\n",
      "None\n"
     ]
    },
    {
     "data": {
      "text/plain": [
       "<bound method NDFrame.head of      total_bill   tip     sex smoker   day    time  size\n",
       "0         16.99  1.01  Female     No   Sun  Dinner     2\n",
       "1         10.34  1.66    Male     No   Sun  Dinner     3\n",
       "2         21.01  3.50    Male     No   Sun  Dinner     3\n",
       "3         23.68  3.31    Male     No   Sun  Dinner     2\n",
       "4         24.59  3.61  Female     No   Sun  Dinner     4\n",
       "5         25.29  4.71    Male     No   Sun  Dinner     4\n",
       "6          8.77  2.00    Male     No   Sun  Dinner     2\n",
       "7         26.88  3.12    Male     No   Sun  Dinner     4\n",
       "8         15.04  1.96    Male     No   Sun  Dinner     2\n",
       "9         14.78  3.23    Male     No   Sun  Dinner     2\n",
       "10        10.27  1.71    Male     No   Sun  Dinner     2\n",
       "11        35.26  5.00  Female     No   Sun  Dinner     4\n",
       "12        15.42  1.57    Male     No   Sun  Dinner     2\n",
       "13        18.43  3.00    Male     No   Sun  Dinner     4\n",
       "14        14.83  3.02  Female     No   Sun  Dinner     2\n",
       "15        21.58  3.92    Male     No   Sun  Dinner     2\n",
       "16        10.33  1.67  Female     No   Sun  Dinner     3\n",
       "17        16.29  3.71    Male     No   Sun  Dinner     3\n",
       "18        16.97  3.50  Female     No   Sun  Dinner     3\n",
       "19        20.65  3.35    Male     No   Sat  Dinner     3\n",
       "20        17.92  4.08    Male     No   Sat  Dinner     2\n",
       "21        20.29  2.75  Female     No   Sat  Dinner     2\n",
       "22        15.77  2.23  Female     No   Sat  Dinner     2\n",
       "23        39.42  7.58    Male     No   Sat  Dinner     4\n",
       "24        19.82  3.18    Male     No   Sat  Dinner     2\n",
       "25        17.81  2.34    Male     No   Sat  Dinner     4\n",
       "26        13.37  2.00    Male     No   Sat  Dinner     2\n",
       "27        12.69  2.00    Male     No   Sat  Dinner     2\n",
       "28        21.70  4.30    Male     No   Sat  Dinner     2\n",
       "29        19.65  3.00  Female     No   Sat  Dinner     2\n",
       "..          ...   ...     ...    ...   ...     ...   ...\n",
       "214       28.17  6.50  Female    Yes   Sat  Dinner     3\n",
       "215       12.90  1.10  Female    Yes   Sat  Dinner     2\n",
       "216       28.15  3.00    Male    Yes   Sat  Dinner     5\n",
       "217       11.59  1.50    Male    Yes   Sat  Dinner     2\n",
       "218        7.74  1.44    Male    Yes   Sat  Dinner     2\n",
       "219       30.14  3.09  Female    Yes   Sat  Dinner     4\n",
       "220       12.16  2.20    Male    Yes   Fri   Lunch     2\n",
       "221       13.42  3.48  Female    Yes   Fri   Lunch     2\n",
       "222        8.58  1.92    Male    Yes   Fri   Lunch     1\n",
       "223       15.98  3.00  Female     No   Fri   Lunch     3\n",
       "224       13.42  1.58    Male    Yes   Fri   Lunch     2\n",
       "225       16.27  2.50  Female    Yes   Fri   Lunch     2\n",
       "226       10.09  2.00  Female    Yes   Fri   Lunch     2\n",
       "227       20.45  3.00    Male     No   Sat  Dinner     4\n",
       "228       13.28  2.72    Male     No   Sat  Dinner     2\n",
       "229       22.12  2.88  Female    Yes   Sat  Dinner     2\n",
       "230       24.01  2.00    Male    Yes   Sat  Dinner     4\n",
       "231       15.69  3.00    Male    Yes   Sat  Dinner     3\n",
       "232       11.61  3.39    Male     No   Sat  Dinner     2\n",
       "233       10.77  1.47    Male     No   Sat  Dinner     2\n",
       "234       15.53  3.00    Male    Yes   Sat  Dinner     2\n",
       "235       10.07  1.25    Male     No   Sat  Dinner     2\n",
       "236       12.60  1.00    Male    Yes   Sat  Dinner     2\n",
       "237       32.83  1.17    Male    Yes   Sat  Dinner     2\n",
       "238       35.83  4.67  Female     No   Sat  Dinner     3\n",
       "239       29.03  5.92    Male     No   Sat  Dinner     3\n",
       "240       27.18  2.00  Female    Yes   Sat  Dinner     2\n",
       "241       22.67  2.00    Male    Yes   Sat  Dinner     2\n",
       "242       17.82  1.75    Male     No   Sat  Dinner     2\n",
       "243       18.78  3.00  Female     No  Thur  Dinner     2\n",
       "\n",
       "[244 rows x 7 columns]>"
      ]
     },
     "execution_count": 9,
     "metadata": {},
     "output_type": "execute_result"
    }
   ],
   "source": [
    "# Load and inspect the tips data\n",
    "tips = sns.load_dataset(\"tips\")\n",
    "print(tips.describe(), \"\\n\")\n",
    "print(tips.info())\n",
    "tips.head"
   ]
  },
  {
   "cell_type": "markdown",
   "metadata": {},
   "source": [
    "There are generally three types of data sets we might use, based upon the number of variables in the data set.\n",
    "- Univariate - just one variable\n",
    "- Bivariate - two variables\n",
    "- Multivariate - more than two variables\n"
   ]
  },
  {
   "cell_type": "markdown",
   "metadata": {},
   "source": [
    "## Univariate\n",
    "When we only have one variable of interest, there isn't much we can do. You can't plot one variable in two dimensions. What we do, therefore, is count the number of times each data point occurs and plot the counts. We typically call those counts **_frequencies_**.\n",
    "\n",
    "How we get those frequencies depends upon the type of data we are using. "
   ]
  },
  {
   "cell_type": "markdown",
   "metadata": {},
   "source": [
    "### Statistics review - because everybody loves statistics!\n",
    "\n",
    "- What is a discrete variable?\n",
    "- What is a continuous variable?\n",
    "- What is a categorical variable?\n"
   ]
  },
  {
   "cell_type": "code",
   "execution_count": 17,
   "metadata": {},
   "outputs": [
    {
     "data": {
      "text/plain": [
       "<bound method NDFrame.describe of 0       Sun\n",
       "1       Sun\n",
       "2       Sun\n",
       "3       Sun\n",
       "4       Sun\n",
       "5       Sun\n",
       "6       Sun\n",
       "7       Sun\n",
       "8       Sun\n",
       "9       Sun\n",
       "10      Sun\n",
       "11      Sun\n",
       "12      Sun\n",
       "13      Sun\n",
       "14      Sun\n",
       "15      Sun\n",
       "16      Sun\n",
       "17      Sun\n",
       "18      Sun\n",
       "19      Sat\n",
       "20      Sat\n",
       "21      Sat\n",
       "22      Sat\n",
       "23      Sat\n",
       "24      Sat\n",
       "25      Sat\n",
       "26      Sat\n",
       "27      Sat\n",
       "28      Sat\n",
       "29      Sat\n",
       "       ... \n",
       "214     Sat\n",
       "215     Sat\n",
       "216     Sat\n",
       "217     Sat\n",
       "218     Sat\n",
       "219     Sat\n",
       "220     Fri\n",
       "221     Fri\n",
       "222     Fri\n",
       "223     Fri\n",
       "224     Fri\n",
       "225     Fri\n",
       "226     Fri\n",
       "227     Sat\n",
       "228     Sat\n",
       "229     Sat\n",
       "230     Sat\n",
       "231     Sat\n",
       "232     Sat\n",
       "233     Sat\n",
       "234     Sat\n",
       "235     Sat\n",
       "236     Sat\n",
       "237     Sat\n",
       "238     Sat\n",
       "239     Sat\n",
       "240     Sat\n",
       "241     Sat\n",
       "242     Sat\n",
       "243    Thur\n",
       "Name: day, Length: 244, dtype: category\n",
       "Categories (4, object): [Thur, Fri, Sat, Sun]>"
      ]
     },
     "execution_count": 17,
     "metadata": {},
     "output_type": "execute_result"
    }
   ],
   "source": [
    "# Subset tips to get just the day\n",
    "tips_day = tips[\"day\"]\n",
    "tips_day.describe"
   ]
  },
  {
   "cell_type": "code",
   "execution_count": 18,
   "metadata": {},
   "outputs": [
    {
     "name": "stdout",
     "output_type": "stream",
     "text": [
      "Sat     87\n",
      "Sun     76\n",
      "Thur    62\n",
      "Fri     19\n",
      "Name: day, dtype: int64\n"
     ]
    }
   ],
   "source": [
    "# create the counted data for day of tips\n",
    "tips_day_counts = tips_day.value_counts()\n",
    "print(tips_day_counts)"
   ]
  },
  {
   "cell_type": "markdown",
   "metadata": {},
   "source": [
    "### Pie charts\n",
    "Pie charts show the percentage or fraction of the whole set of data each part represents. The reason why they are good to use in some situations is the same reason they are generally overused: they are easy to understand.\n",
    "\n",
    "A simple pie chart can be drawn using just the data values."
   ]
  },
  {
   "cell_type": "code",
   "execution_count": 19,
   "metadata": {
    "scrolled": true
   },
   "outputs": [
    {
     "data": {
      "text/plain": [
       "<function matplotlib.pyplot.show(*args, **kw)>"
      ]
     },
     "execution_count": 19,
     "metadata": {},
     "output_type": "execute_result"
    },
    {
     "data": {
      "image/png": "[encoded data removed]",
      "text/plain": [
       "<Figure size 432x288 with 1 Axes>"
      ]
     },
     "metadata": {},
     "output_type": "display_data"
    }
   ],
   "source": [
    "# basic pie chart\n",
    "plt.pie(tips_day_counts)\n",
    "plt.show    #removes summary data from plot display"
   ]
  },
  {
   "cell_type": "code",
   "execution_count": 20,
   "metadata": {},
   "outputs": [
    {
     "data": {
      "image/png": "[encoded data removed]",
      "text/plain": [
       "<Figure size 432x288 with 1 Axes>"
      ]
     },
     "metadata": {},
     "output_type": "display_data"
    }
   ],
   "source": [
    "# Add keyword arguments to make the pie chart more useful\n",
    "colors = [\"y\", \"g\", \"r\", \"c\"]\n",
    "labels = tips_day_counts.index\n",
    "explode = (0,0.2,0,0)\n",
    "plt.pie(tips_day_counts, colors=colors, labels=labels, explode=explode, autopct=\"%1.1f%%\", counterclock=False, shadow = True)\n",
    "plt.title(\"Better Pie Chart\")\n",
    "plt.show()"
   ]
  },
  {
   "cell_type": "markdown",
   "metadata": {},
   "source": [
    "### Bar charts - categorical data\n",
    "We can also use the frequencies of categorical data to draw bar charts. Bar charts allow us to compare values."
   ]
  },
  {
   "cell_type": "code",
   "execution_count": 21,
   "metadata": {},
   "outputs": [
    {
     "data": {
      "image/png": "[encoded data removed]",
      "text/plain": [
       "<Figure size 432x288 with 1 Axes>"
      ]
     },
     "metadata": {
      "needs_background": "light"
     },
     "output_type": "display_data"
    }
   ],
   "source": [
    "# create a bar chart with the tips_day_counts data\n",
    "plt.bar(tips_day_counts.index, tips_day_counts)\n",
    "plt.show()"
   ]
  },
  {
   "cell_type": "code",
   "execution_count": 22,
   "metadata": {},
   "outputs": [
    {
     "data": {
      "image/png": "[encoded data removed]",
      "text/plain": [
       "<Figure size 432x288 with 1 Axes>"
      ]
     },
     "metadata": {
      "needs_background": "light"
     },
     "output_type": "display_data"
    }
   ],
   "source": [
    "# Bar chart with more options specified\n",
    "widths = [0.7, 0.8, 0.7, 0.7]\n",
    "colors = [\"y\", \"g\", \"r\", \"c\"]\n",
    "plt.bar(tips_day_counts.index, tips_day_counts, width=widths, color=colors)\n",
    "plt.title(\"Tips by Day\")\n",
    "plt.xlabel(\"Day\")\n",
    "plt.ylabel(\"Frequency\")\n",
    "plt.show()"
   ]
  },
  {
   "cell_type": "markdown",
   "metadata": {},
   "source": [
    "### Histograms - continuous data\n",
    "\n",
    "**Histograms** are the most common way to look at a single continuous variable dataset. When the data is continuous, that means we have to convert it into data we can count. This is called **_discretizing_** the data (i.e., converting it to discrete data). We use a process called **binning** to create ranges (i.e., the bins) to group data points together. Then we can count the number of data points in each bin and plot the bin frequencies.\n",
    "\n",
    "We can create the bins ourselves or use matplotlib's built-in functionality to do the binning for us. First, let's have matplotlib do a quick histogram for us.\n"
   ]
  },
  {
   "cell_type": "code",
   "execution_count": 23,
   "metadata": {},
   "outputs": [
    {
     "data": {
      "image/png": "[encoded data removed]",
      "text/plain": [
       "<Figure size 432x288 with 1 Axes>"
      ]
     },
     "metadata": {
      "needs_background": "light"
     },
     "output_type": "display_data"
    }
   ],
   "source": [
    "# Create a histogram of total_bill from tips data\n",
    "# let matplotlib do the binning - just tell it how many\n",
    "plt.hist(tips[\"total_bill\"], bins=10)\n",
    "plt.show()"
   ]
  },
  {
   "cell_type": "code",
   "execution_count": 24,
   "metadata": {},
   "outputs": [],
   "source": [
    "# Create a histogram of total_bill from tips data\n",
    "# let matplotlib do the binning - just tell it how many\n",
    "import pandas as pd\n",
    "import numpy as np"
   ]
  },
  {
   "cell_type": "markdown",
   "metadata": {},
   "source": [
    "#### Create a histogram with custom bins\n",
    "For many datasets the option of letting matplotlib create the bins will work well, but we often have data that falls into particularly sized bins. Think about exam scores. We know the different bin characteristics for each letter grade. If we let matplotlib create the bins, the results would be very different than what we need (we'll see that in a minute). We can create our own categorical data and bins using some of the techniques we have covered so far, then plot the results.\n",
    "\n",
    "We will do an example using the QMTH 2330 Exam 3 scores we used before. We'll follow this process:\n",
    "- read the data and save it in a data frame.\n",
    "- add a calculated percent column to the data frame\n",
    "- specify the cutoff points for the bins we want\n",
    "- count the frequency of each letter grade\n",
    "- sort the data into the desired order\n",
    "- plot the frequencies in a bar chart and make it look like a histogram"
   ]
  },
  {
   "cell_type": "code",
   "execution_count": 25,
   "metadata": {},
   "outputs": [],
   "source": [
    "# We already imported matplotlib.pyplot, but we need pandas now too\n",
    "# We will also use a numpy function when we calculate the grade percentages\n",
    "import pandas as pd\n",
    "import numpy as np"
   ]
  },
  {
   "cell_type": "code",
   "execution_count": 26,
   "metadata": {},
   "outputs": [
    {
     "data": {
      "text/plain": [
       "<bound method NDFrame.describe of      scores\n",
       "0     102.5\n",
       "1      95.0\n",
       "2     127.5\n",
       "3     115.0\n",
       "4     105.0\n",
       "5     100.0\n",
       "6      92.5\n",
       "7     145.0\n",
       "8     140.0\n",
       "9     107.5\n",
       "10    112.5\n",
       "11    100.0\n",
       "12    110.0\n",
       "13    110.0\n",
       "14     92.5\n",
       "15    102.5\n",
       "16    110.0\n",
       "17    135.0\n",
       "18    125.0\n",
       "19    115.0\n",
       "20    137.5\n",
       "21    102.5\n",
       "22    110.0\n",
       "23    102.5\n",
       "24    107.5\n",
       "25    105.0\n",
       "26    122.5\n",
       "27    132.5\n",
       "28    112.5\n",
       "29    100.0\n",
       "..      ...\n",
       "351   115.0\n",
       "352   120.0\n",
       "353   107.5\n",
       "354   117.5\n",
       "355   130.0\n",
       "356   120.0\n",
       "357   110.0\n",
       "358   120.0\n",
       "359   130.0\n",
       "360   135.0\n",
       "361   130.0\n",
       "362   110.0\n",
       "363   110.0\n",
       "364   115.0\n",
       "365   117.5\n",
       "366   137.5\n",
       "367   125.0\n",
       "368   127.5\n",
       "369   112.5\n",
       "370   132.5\n",
       "371   120.0\n",
       "372   112.5\n",
       "373   130.0\n",
       "374   102.5\n",
       "375   125.0\n",
       "376   100.0\n",
       "377   135.0\n",
       "378   150.0\n",
       "379   137.5\n",
       "380   115.0\n",
       "\n",
       "[381 rows x 1 columns]>"
      ]
     },
     "execution_count": 26,
     "metadata": {},
     "output_type": "execute_result"
    }
   ],
   "source": [
    "# Read the stats_exam_3_scores.csv data into a dataframe named df\n",
    "df = pd.read_csv(\"../data/stats_exam_3_scores.csv\")\n",
    "df.describe"
   ]
  },
  {
   "cell_type": "code",
   "execution_count": 30,
   "metadata": {},
   "outputs": [
    {
     "data": {
      "text/html": [
       "<div>\n",
       "<style scoped>\n",
       "    .dataframe tbody tr th:only-of-type {\n",
       "        vertical-align: middle;\n",
       "    }\n",
       "\n",
       "    .dataframe tbody tr th {\n",
       "        vertical-align: top;\n",
       "    }\n",
       "\n",
       "    .dataframe thead th {\n",
       "        text-align: right;\n",
       "    }\n",
       "</style>\n",
       "<table border=\"1\" class=\"dataframe\">\n",
       "  <thead>\n",
       "    <tr style=\"text-align: right;\">\n",
       "      <th></th>\n",
       "      <th>scores</th>\n",
       "      <th>percent</th>\n",
       "    </tr>\n",
       "  </thead>\n",
       "  <tbody>\n",
       "    <tr>\n",
       "      <th>0</th>\n",
       "      <td>102.5</td>\n",
       "      <td>68.33</td>\n",
       "    </tr>\n",
       "    <tr>\n",
       "      <th>1</th>\n",
       "      <td>95.0</td>\n",
       "      <td>63.33</td>\n",
       "    </tr>\n",
       "    <tr>\n",
       "      <th>2</th>\n",
       "      <td>127.5</td>\n",
       "      <td>85.00</td>\n",
       "    </tr>\n",
       "    <tr>\n",
       "      <th>3</th>\n",
       "      <td>115.0</td>\n",
       "      <td>76.67</td>\n",
       "    </tr>\n",
       "    <tr>\n",
       "      <th>4</th>\n",
       "      <td>105.0</td>\n",
       "      <td>70.00</td>\n",
       "    </tr>\n",
       "    <tr>\n",
       "      <th>5</th>\n",
       "      <td>100.0</td>\n",
       "      <td>66.67</td>\n",
       "    </tr>\n",
       "    <tr>\n",
       "      <th>6</th>\n",
       "      <td>92.5</td>\n",
       "      <td>61.67</td>\n",
       "    </tr>\n",
       "    <tr>\n",
       "      <th>7</th>\n",
       "      <td>145.0</td>\n",
       "      <td>96.67</td>\n",
       "    </tr>\n",
       "    <tr>\n",
       "      <th>8</th>\n",
       "      <td>140.0</td>\n",
       "      <td>93.33</td>\n",
       "    </tr>\n",
       "    <tr>\n",
       "      <th>9</th>\n",
       "      <td>107.5</td>\n",
       "      <td>71.67</td>\n",
       "    </tr>\n",
       "    <tr>\n",
       "      <th>10</th>\n",
       "      <td>112.5</td>\n",
       "      <td>75.00</td>\n",
       "    </tr>\n",
       "    <tr>\n",
       "      <th>11</th>\n",
       "      <td>100.0</td>\n",
       "      <td>66.67</td>\n",
       "    </tr>\n",
       "    <tr>\n",
       "      <th>12</th>\n",
       "      <td>110.0</td>\n",
       "      <td>73.33</td>\n",
       "    </tr>\n",
       "    <tr>\n",
       "      <th>13</th>\n",
       "      <td>110.0</td>\n",
       "      <td>73.33</td>\n",
       "    </tr>\n",
       "    <tr>\n",
       "      <th>14</th>\n",
       "      <td>92.5</td>\n",
       "      <td>61.67</td>\n",
       "    </tr>\n",
       "    <tr>\n",
       "      <th>15</th>\n",
       "      <td>102.5</td>\n",
       "      <td>68.33</td>\n",
       "    </tr>\n",
       "    <tr>\n",
       "      <th>16</th>\n",
       "      <td>110.0</td>\n",
       "      <td>73.33</td>\n",
       "    </tr>\n",
       "    <tr>\n",
       "      <th>17</th>\n",
       "      <td>135.0</td>\n",
       "      <td>90.00</td>\n",
       "    </tr>\n",
       "    <tr>\n",
       "      <th>18</th>\n",
       "      <td>125.0</td>\n",
       "      <td>83.33</td>\n",
       "    </tr>\n",
       "    <tr>\n",
       "      <th>19</th>\n",
       "      <td>115.0</td>\n",
       "      <td>76.67</td>\n",
       "    </tr>\n",
       "    <tr>\n",
       "      <th>20</th>\n",
       "      <td>137.5</td>\n",
       "      <td>91.67</td>\n",
       "    </tr>\n",
       "    <tr>\n",
       "      <th>21</th>\n",
       "      <td>102.5</td>\n",
       "      <td>68.33</td>\n",
       "    </tr>\n",
       "    <tr>\n",
       "      <th>22</th>\n",
       "      <td>110.0</td>\n",
       "      <td>73.33</td>\n",
       "    </tr>\n",
       "    <tr>\n",
       "      <th>23</th>\n",
       "      <td>102.5</td>\n",
       "      <td>68.33</td>\n",
       "    </tr>\n",
       "    <tr>\n",
       "      <th>24</th>\n",
       "      <td>107.5</td>\n",
       "      <td>71.67</td>\n",
       "    </tr>\n",
       "    <tr>\n",
       "      <th>25</th>\n",
       "      <td>105.0</td>\n",
       "      <td>70.00</td>\n",
       "    </tr>\n",
       "    <tr>\n",
       "      <th>26</th>\n",
       "      <td>122.5</td>\n",
       "      <td>81.67</td>\n",
       "    </tr>\n",
       "    <tr>\n",
       "      <th>27</th>\n",
       "      <td>132.5</td>\n",
       "      <td>88.33</td>\n",
       "    </tr>\n",
       "    <tr>\n",
       "      <th>28</th>\n",
       "      <td>112.5</td>\n",
       "      <td>75.00</td>\n",
       "    </tr>\n",
       "    <tr>\n",
       "      <th>29</th>\n",
       "      <td>100.0</td>\n",
       "      <td>66.67</td>\n",
       "    </tr>\n",
       "    <tr>\n",
       "      <th>...</th>\n",
       "      <td>...</td>\n",
       "      <td>...</td>\n",
       "    </tr>\n",
       "    <tr>\n",
       "      <th>351</th>\n",
       "      <td>115.0</td>\n",
       "      <td>76.67</td>\n",
       "    </tr>\n",
       "    <tr>\n",
       "      <th>352</th>\n",
       "      <td>120.0</td>\n",
       "      <td>80.00</td>\n",
       "    </tr>\n",
       "    <tr>\n",
       "      <th>353</th>\n",
       "      <td>107.5</td>\n",
       "      <td>71.67</td>\n",
       "    </tr>\n",
       "    <tr>\n",
       "      <th>354</th>\n",
       "      <td>117.5</td>\n",
       "      <td>78.33</td>\n",
       "    </tr>\n",
       "    <tr>\n",
       "      <th>355</th>\n",
       "      <td>130.0</td>\n",
       "      <td>86.67</td>\n",
       "    </tr>\n",
       "    <tr>\n",
       "      <th>356</th>\n",
       "      <td>120.0</td>\n",
       "      <td>80.00</td>\n",
       "    </tr>\n",
       "    <tr>\n",
       "      <th>357</th>\n",
       "      <td>110.0</td>\n",
       "      <td>73.33</td>\n",
       "    </tr>\n",
       "    <tr>\n",
       "      <th>358</th>\n",
       "      <td>120.0</td>\n",
       "      <td>80.00</td>\n",
       "    </tr>\n",
       "    <tr>\n",
       "      <th>359</th>\n",
       "      <td>130.0</td>\n",
       "      <td>86.67</td>\n",
       "    </tr>\n",
       "    <tr>\n",
       "      <th>360</th>\n",
       "      <td>135.0</td>\n",
       "      <td>90.00</td>\n",
       "    </tr>\n",
       "    <tr>\n",
       "      <th>361</th>\n",
       "      <td>130.0</td>\n",
       "      <td>86.67</td>\n",
       "    </tr>\n",
       "    <tr>\n",
       "      <th>362</th>\n",
       "      <td>110.0</td>\n",
       "      <td>73.33</td>\n",
       "    </tr>\n",
       "    <tr>\n",
       "      <th>363</th>\n",
       "      <td>110.0</td>\n",
       "      <td>73.33</td>\n",
       "    </tr>\n",
       "    <tr>\n",
       "      <th>364</th>\n",
       "      <td>115.0</td>\n",
       "      <td>76.67</td>\n",
       "    </tr>\n",
       "    <tr>\n",
       "      <th>365</th>\n",
       "      <td>117.5</td>\n",
       "      <td>78.33</td>\n",
       "    </tr>\n",
       "    <tr>\n",
       "      <th>366</th>\n",
       "      <td>137.5</td>\n",
       "      <td>91.67</td>\n",
       "    </tr>\n",
       "    <tr>\n",
       "      <th>367</th>\n",
       "      <td>125.0</td>\n",
       "      <td>83.33</td>\n",
       "    </tr>\n",
       "    <tr>\n",
       "      <th>368</th>\n",
       "      <td>127.5</td>\n",
       "      <td>85.00</td>\n",
       "    </tr>\n",
       "    <tr>\n",
       "      <th>369</th>\n",
       "      <td>112.5</td>\n",
       "      <td>75.00</td>\n",
       "    </tr>\n",
       "    <tr>\n",
       "      <th>370</th>\n",
       "      <td>132.5</td>\n",
       "      <td>88.33</td>\n",
       "    </tr>\n",
       "    <tr>\n",
       "      <th>371</th>\n",
       "      <td>120.0</td>\n",
       "      <td>80.00</td>\n",
       "    </tr>\n",
       "    <tr>\n",
       "      <th>372</th>\n",
       "      <td>112.5</td>\n",
       "      <td>75.00</td>\n",
       "    </tr>\n",
       "    <tr>\n",
       "      <th>373</th>\n",
       "      <td>130.0</td>\n",
       "      <td>86.67</td>\n",
       "    </tr>\n",
       "    <tr>\n",
       "      <th>374</th>\n",
       "      <td>102.5</td>\n",
       "      <td>68.33</td>\n",
       "    </tr>\n",
       "    <tr>\n",
       "      <th>375</th>\n",
       "      <td>125.0</td>\n",
       "      <td>83.33</td>\n",
       "    </tr>\n",
       "    <tr>\n",
       "      <th>376</th>\n",
       "      <td>100.0</td>\n",
       "      <td>66.67</td>\n",
       "    </tr>\n",
       "    <tr>\n",
       "      <th>377</th>\n",
       "      <td>135.0</td>\n",
       "      <td>90.00</td>\n",
       "    </tr>\n",
       "    <tr>\n",
       "      <th>378</th>\n",
       "      <td>150.0</td>\n",
       "      <td>100.00</td>\n",
       "    </tr>\n",
       "    <tr>\n",
       "      <th>379</th>\n",
       "      <td>137.5</td>\n",
       "      <td>91.67</td>\n",
       "    </tr>\n",
       "    <tr>\n",
       "      <th>380</th>\n",
       "      <td>115.0</td>\n",
       "      <td>76.67</td>\n",
       "    </tr>\n",
       "  </tbody>\n",
       "</table>\n",
       "<p>381 rows × 2 columns</p>\n",
       "</div>"
      ],
      "text/plain": [
       "     scores  percent\n",
       "0     102.5    68.33\n",
       "1      95.0    63.33\n",
       "2     127.5    85.00\n",
       "3     115.0    76.67\n",
       "4     105.0    70.00\n",
       "5     100.0    66.67\n",
       "6      92.5    61.67\n",
       "7     145.0    96.67\n",
       "8     140.0    93.33\n",
       "9     107.5    71.67\n",
       "10    112.5    75.00\n",
       "11    100.0    66.67\n",
       "12    110.0    73.33\n",
       "13    110.0    73.33\n",
       "14     92.5    61.67\n",
       "15    102.5    68.33\n",
       "16    110.0    73.33\n",
       "17    135.0    90.00\n",
       "18    125.0    83.33\n",
       "19    115.0    76.67\n",
       "20    137.5    91.67\n",
       "21    102.5    68.33\n",
       "22    110.0    73.33\n",
       "23    102.5    68.33\n",
       "24    107.5    71.67\n",
       "25    105.0    70.00\n",
       "26    122.5    81.67\n",
       "27    132.5    88.33\n",
       "28    112.5    75.00\n",
       "29    100.0    66.67\n",
       "..      ...      ...\n",
       "351   115.0    76.67\n",
       "352   120.0    80.00\n",
       "353   107.5    71.67\n",
       "354   117.5    78.33\n",
       "355   130.0    86.67\n",
       "356   120.0    80.00\n",
       "357   110.0    73.33\n",
       "358   120.0    80.00\n",
       "359   130.0    86.67\n",
       "360   135.0    90.00\n",
       "361   130.0    86.67\n",
       "362   110.0    73.33\n",
       "363   110.0    73.33\n",
       "364   115.0    76.67\n",
       "365   117.5    78.33\n",
       "366   137.5    91.67\n",
       "367   125.0    83.33\n",
       "368   127.5    85.00\n",
       "369   112.5    75.00\n",
       "370   132.5    88.33\n",
       "371   120.0    80.00\n",
       "372   112.5    75.00\n",
       "373   130.0    86.67\n",
       "374   102.5    68.33\n",
       "375   125.0    83.33\n",
       "376   100.0    66.67\n",
       "377   135.0    90.00\n",
       "378   150.0   100.00\n",
       "379   137.5    91.67\n",
       "380   115.0    76.67\n",
       "\n",
       "[381 rows x 2 columns]"
      ]
     },
     "execution_count": 30,
     "metadata": {},
     "output_type": "execute_result"
    }
   ],
   "source": [
    "# add a calculated percent column to the data frame\n",
    "df[\"percent\"] = round(df[\"scores\"]/150*100,2)\n",
    "df"
   ]
  },
  {
   "cell_type": "markdown",
   "metadata": {},
   "source": [
    "The raw data is now in a form we can use to determine the letter grades. It could also be used with the `hist()` method of pyplot. With this method, we specify the data source (df['percent']) and the number of bins desired (5). The bins are then built to be equal in size."
   ]
  },
  {
   "cell_type": "code",
   "execution_count": 27,
   "metadata": {},
   "outputs": [
    {
     "ename": "KeyError",
     "evalue": "'percent'",
     "output_type": "error",
     "traceback": [
      "\u001b[1;31m---------------------------------------------------------------------------\u001b[0m",
      "\u001b[1;31mKeyError\u001b[0m                                  Traceback (most recent call last)",
      "\u001b[1;32m~\\Anaconda3\\lib\\site-packages\\pandas\\core\\indexes\\base.py\u001b[0m in \u001b[0;36mget_loc\u001b[1;34m(self, key, method, tolerance)\u001b[0m\n\u001b[0;32m   2656\u001b[0m             \u001b[1;32mtry\u001b[0m\u001b[1;33m:\u001b[0m\u001b[1;33m\u001b[0m\u001b[1;33m\u001b[0m\u001b[0m\n\u001b[1;32m-> 2657\u001b[1;33m                 \u001b[1;32mreturn\u001b[0m \u001b[0mself\u001b[0m\u001b[1;33m.\u001b[0m\u001b[0m_engine\u001b[0m\u001b[1;33m.\u001b[0m\u001b[0mget_loc\u001b[0m\u001b[1;33m(\u001b[0m\u001b[0mkey\u001b[0m\u001b[1;33m)\u001b[0m\u001b[1;33m\u001b[0m\u001b[1;33m\u001b[0m\u001b[0m\n\u001b[0m\u001b[0;32m   2658\u001b[0m             \u001b[1;32mexcept\u001b[0m \u001b[0mKeyError\u001b[0m\u001b[1;33m:\u001b[0m\u001b[1;33m\u001b[0m\u001b[1;33m\u001b[0m\u001b[0m\n",
      "\u001b[1;32mpandas/_libs/index.pyx\u001b[0m in \u001b[0;36mpandas._libs.index.IndexEngine.get_loc\u001b[1;34m()\u001b[0m\n",
      "\u001b[1;32mpandas/_libs/index.pyx\u001b[0m in \u001b[0;36mpandas._libs.index.IndexEngine.get_loc\u001b[1;34m()\u001b[0m\n",
      "\u001b[1;32mpandas/_libs/hashtable_class_helper.pxi\u001b[0m in \u001b[0;36mpandas._libs.hashtable.PyObjectHashTable.get_item\u001b[1;34m()\u001b[0m\n",
      "\u001b[1;32mpandas/_libs/hashtable_class_helper.pxi\u001b[0m in \u001b[0;36mpandas._libs.hashtable.PyObjectHashTable.get_item\u001b[1;34m()\u001b[0m\n",
      "\u001b[1;31mKeyError\u001b[0m: 'percent'",
      "\nDuring handling of the above exception, another exception occurred:\n",
      "\u001b[1;31mKeyError\u001b[0m                                  Traceback (most recent call last)",
      "\u001b[1;32m<ipython-input-27-a5b0d55687ad>\u001b[0m in \u001b[0;36m<module>\u001b[1;34m\u001b[0m\n\u001b[0;32m      1\u001b[0m \u001b[1;31m# What would the histogram look like if we used the hist() method?\u001b[0m\u001b[1;33m\u001b[0m\u001b[1;33m\u001b[0m\u001b[1;33m\u001b[0m\u001b[0m\n\u001b[1;32m----> 2\u001b[1;33m \u001b[0mplt\u001b[0m\u001b[1;33m.\u001b[0m\u001b[0mhist\u001b[0m\u001b[1;33m(\u001b[0m\u001b[0mdf\u001b[0m\u001b[1;33m[\u001b[0m\u001b[1;34m\"percent\"\u001b[0m\u001b[1;33m]\u001b[0m\u001b[1;33m,\u001b[0m\u001b[1;36m5\u001b[0m\u001b[1;33m)\u001b[0m\u001b[1;33m\u001b[0m\u001b[1;33m\u001b[0m\u001b[0m\n\u001b[0m\u001b[0;32m      3\u001b[0m \u001b[0mplt\u001b[0m\u001b[1;33m.\u001b[0m\u001b[0mshow\u001b[0m\u001b[1;33m(\u001b[0m\u001b[1;33m)\u001b[0m\u001b[1;33m\u001b[0m\u001b[1;33m\u001b[0m\u001b[0m\n",
      "\u001b[1;32m~\\Anaconda3\\lib\\site-packages\\pandas\\core\\frame.py\u001b[0m in \u001b[0;36m__getitem__\u001b[1;34m(self, key)\u001b[0m\n\u001b[0;32m   2925\u001b[0m             \u001b[1;32mif\u001b[0m \u001b[0mself\u001b[0m\u001b[1;33m.\u001b[0m\u001b[0mcolumns\u001b[0m\u001b[1;33m.\u001b[0m\u001b[0mnlevels\u001b[0m \u001b[1;33m>\u001b[0m \u001b[1;36m1\u001b[0m\u001b[1;33m:\u001b[0m\u001b[1;33m\u001b[0m\u001b[1;33m\u001b[0m\u001b[0m\n\u001b[0;32m   2926\u001b[0m                 \u001b[1;32mreturn\u001b[0m \u001b[0mself\u001b[0m\u001b[1;33m.\u001b[0m\u001b[0m_getitem_multilevel\u001b[0m\u001b[1;33m(\u001b[0m\u001b[0mkey\u001b[0m\u001b[1;33m)\u001b[0m\u001b[1;33m\u001b[0m\u001b[1;33m\u001b[0m\u001b[0m\n\u001b[1;32m-> 2927\u001b[1;33m             \u001b[0mindexer\u001b[0m \u001b[1;33m=\u001b[0m \u001b[0mself\u001b[0m\u001b[1;33m.\u001b[0m\u001b[0mcolumns\u001b[0m\u001b[1;33m.\u001b[0m\u001b[0mget_loc\u001b[0m\u001b[1;33m(\u001b[0m\u001b[0mkey\u001b[0m\u001b[1;33m)\u001b[0m\u001b[1;33m\u001b[0m\u001b[1;33m\u001b[0m\u001b[0m\n\u001b[0m\u001b[0;32m   2928\u001b[0m             \u001b[1;32mif\u001b[0m \u001b[0mis_integer\u001b[0m\u001b[1;33m(\u001b[0m\u001b[0mindexer\u001b[0m\u001b[1;33m)\u001b[0m\u001b[1;33m:\u001b[0m\u001b[1;33m\u001b[0m\u001b[1;33m\u001b[0m\u001b[0m\n\u001b[0;32m   2929\u001b[0m                 \u001b[0mindexer\u001b[0m \u001b[1;33m=\u001b[0m \u001b[1;33m[\u001b[0m\u001b[0mindexer\u001b[0m\u001b[1;33m]\u001b[0m\u001b[1;33m\u001b[0m\u001b[1;33m\u001b[0m\u001b[0m\n",
      "\u001b[1;32m~\\Anaconda3\\lib\\site-packages\\pandas\\core\\indexes\\base.py\u001b[0m in \u001b[0;36mget_loc\u001b[1;34m(self, key, method, tolerance)\u001b[0m\n\u001b[0;32m   2657\u001b[0m                 \u001b[1;32mreturn\u001b[0m \u001b[0mself\u001b[0m\u001b[1;33m.\u001b[0m\u001b[0m_engine\u001b[0m\u001b[1;33m.\u001b[0m\u001b[0mget_loc\u001b[0m\u001b[1;33m(\u001b[0m\u001b[0mkey\u001b[0m\u001b[1;33m)\u001b[0m\u001b[1;33m\u001b[0m\u001b[1;33m\u001b[0m\u001b[0m\n\u001b[0;32m   2658\u001b[0m             \u001b[1;32mexcept\u001b[0m \u001b[0mKeyError\u001b[0m\u001b[1;33m:\u001b[0m\u001b[1;33m\u001b[0m\u001b[1;33m\u001b[0m\u001b[0m\n\u001b[1;32m-> 2659\u001b[1;33m                 \u001b[1;32mreturn\u001b[0m \u001b[0mself\u001b[0m\u001b[1;33m.\u001b[0m\u001b[0m_engine\u001b[0m\u001b[1;33m.\u001b[0m\u001b[0mget_loc\u001b[0m\u001b[1;33m(\u001b[0m\u001b[0mself\u001b[0m\u001b[1;33m.\u001b[0m\u001b[0m_maybe_cast_indexer\u001b[0m\u001b[1;33m(\u001b[0m\u001b[0mkey\u001b[0m\u001b[1;33m)\u001b[0m\u001b[1;33m)\u001b[0m\u001b[1;33m\u001b[0m\u001b[1;33m\u001b[0m\u001b[0m\n\u001b[0m\u001b[0;32m   2660\u001b[0m         \u001b[0mindexer\u001b[0m \u001b[1;33m=\u001b[0m \u001b[0mself\u001b[0m\u001b[1;33m.\u001b[0m\u001b[0mget_indexer\u001b[0m\u001b[1;33m(\u001b[0m\u001b[1;33m[\u001b[0m\u001b[0mkey\u001b[0m\u001b[1;33m]\u001b[0m\u001b[1;33m,\u001b[0m \u001b[0mmethod\u001b[0m\u001b[1;33m=\u001b[0m\u001b[0mmethod\u001b[0m\u001b[1;33m,\u001b[0m \u001b[0mtolerance\u001b[0m\u001b[1;33m=\u001b[0m\u001b[0mtolerance\u001b[0m\u001b[1;33m)\u001b[0m\u001b[1;33m\u001b[0m\u001b[1;33m\u001b[0m\u001b[0m\n\u001b[0;32m   2661\u001b[0m         \u001b[1;32mif\u001b[0m \u001b[0mindexer\u001b[0m\u001b[1;33m.\u001b[0m\u001b[0mndim\u001b[0m \u001b[1;33m>\u001b[0m \u001b[1;36m1\u001b[0m \u001b[1;32mor\u001b[0m \u001b[0mindexer\u001b[0m\u001b[1;33m.\u001b[0m\u001b[0msize\u001b[0m \u001b[1;33m>\u001b[0m \u001b[1;36m1\u001b[0m\u001b[1;33m:\u001b[0m\u001b[1;33m\u001b[0m\u001b[1;33m\u001b[0m\u001b[0m\n",
      "\u001b[1;32mpandas/_libs/index.pyx\u001b[0m in \u001b[0;36mpandas._libs.index.IndexEngine.get_loc\u001b[1;34m()\u001b[0m\n",
      "\u001b[1;32mpandas/_libs/index.pyx\u001b[0m in \u001b[0;36mpandas._libs.index.IndexEngine.get_loc\u001b[1;34m()\u001b[0m\n",
      "\u001b[1;32mpandas/_libs/hashtable_class_helper.pxi\u001b[0m in \u001b[0;36mpandas._libs.hashtable.PyObjectHashTable.get_item\u001b[1;34m()\u001b[0m\n",
      "\u001b[1;32mpandas/_libs/hashtable_class_helper.pxi\u001b[0m in \u001b[0;36mpandas._libs.hashtable.PyObjectHashTable.get_item\u001b[1;34m()\u001b[0m\n",
      "\u001b[1;31mKeyError\u001b[0m: 'percent'"
     ]
    }
   ],
   "source": [
    "# What would the histogram look like if we used the hist() method?\n",
    "plt.hist(df[\"percent\"],5)\n",
    "plt.show()"
   ]
  },
  {
   "cell_type": "code",
   "execution_count": 35,
   "metadata": {},
   "outputs": [
    {
     "data": {
      "text/plain": [
       "0       (60, 70]\n",
       "1       (60, 70]\n",
       "2       (80, 90]\n",
       "3       (70, 80]\n",
       "4       (60, 70]\n",
       "5       (60, 70]\n",
       "6       (60, 70]\n",
       "7      (90, 100]\n",
       "8      (90, 100]\n",
       "9       (70, 80]\n",
       "10      (70, 80]\n",
       "11      (60, 70]\n",
       "12      (70, 80]\n",
       "13      (70, 80]\n",
       "14      (60, 70]\n",
       "15      (60, 70]\n",
       "16      (70, 80]\n",
       "17      (80, 90]\n",
       "18      (80, 90]\n",
       "19      (70, 80]\n",
       "20     (90, 100]\n",
       "21      (60, 70]\n",
       "22      (70, 80]\n",
       "23      (60, 70]\n",
       "24      (70, 80]\n",
       "25      (60, 70]\n",
       "26      (80, 90]\n",
       "27      (80, 90]\n",
       "28      (70, 80]\n",
       "29      (60, 70]\n",
       "         ...    \n",
       "351     (70, 80]\n",
       "352     (70, 80]\n",
       "353     (70, 80]\n",
       "354     (70, 80]\n",
       "355     (80, 90]\n",
       "356     (70, 80]\n",
       "357     (70, 80]\n",
       "358     (70, 80]\n",
       "359     (80, 90]\n",
       "360     (80, 90]\n",
       "361     (80, 90]\n",
       "362     (70, 80]\n",
       "363     (70, 80]\n",
       "364     (70, 80]\n",
       "365     (70, 80]\n",
       "366    (90, 100]\n",
       "367     (80, 90]\n",
       "368     (80, 90]\n",
       "369     (70, 80]\n",
       "370     (80, 90]\n",
       "371     (70, 80]\n",
       "372     (70, 80]\n",
       "373     (80, 90]\n",
       "374     (60, 70]\n",
       "375     (80, 90]\n",
       "376     (60, 70]\n",
       "377     (80, 90]\n",
       "378    (90, 100]\n",
       "379    (90, 100]\n",
       "380     (70, 80]\n",
       "Name: percent, Length: 381, dtype: category\n",
       "Categories (5, interval[int64]): [(0, 60] < (60, 70] < (70, 80] < (80, 90] < (90, 100]]"
      ]
     },
     "execution_count": 35,
     "metadata": {},
     "output_type": "execute_result"
    }
   ],
   "source": [
    "# Instead, let's specify the cutoff points for the bins\n",
    "bins = [0, 60, 70, 80, 90, 100]\n",
    "letter_grades = pd.cut(df[\"percent\"],bins)\n",
    "letter_grades"
   ]
  },
  {
   "cell_type": "code",
   "execution_count": 36,
   "metadata": {
    "scrolled": true
   },
   "outputs": [
    {
     "data": {
      "text/plain": [
       "(70, 80]     155\n",
       "(80, 90]      92\n",
       "(60, 70]      87\n",
       "(0, 60]       26\n",
       "(90, 100]     21\n",
       "Name: percent, dtype: int64"
      ]
     },
     "execution_count": 36,
     "metadata": {},
     "output_type": "execute_result"
    }
   ],
   "source": [
    "# show the counts in each category\n",
    "pd.value_counts (letter_grades)"
   ]
  },
  {
   "cell_type": "markdown",
   "metadata": {},
   "source": [
    "---\n",
    "What's with the open parenthesis `(` and a closed square bracket `]`? That is the notation used to show which end of the interval is inclusive. The value near the square bracket is inclusive. In this example, that means scores of 80 will be included in the same bin as scores in the 70s.\n",
    "\n",
    "That is not what we want. We want the _left_ side of the intervals to be inclusive, not the right side. Otherwise, a student getting an 80 on the exam will be counted with the Cs instead of the Bs.\n",
    "\n",
    "---"
   ]
  },
  {
   "cell_type": "code",
   "execution_count": 37,
   "metadata": {
    "scrolled": true
   },
   "outputs": [
    {
     "name": "stdout",
     "output_type": "stream",
     "text": [
      "0       [60.0, 70.0)\n",
      "1       [60.0, 70.0)\n",
      "2       [80.0, 90.0)\n",
      "3       [70.0, 80.0)\n",
      "4       [70.0, 80.0)\n",
      "5       [60.0, 70.0)\n",
      "6       [60.0, 70.0)\n",
      "7      [90.0, 100.0)\n",
      "8      [90.0, 100.0)\n",
      "9       [70.0, 80.0)\n",
      "10      [70.0, 80.0)\n",
      "11      [60.0, 70.0)\n",
      "12      [70.0, 80.0)\n",
      "13      [70.0, 80.0)\n",
      "14      [60.0, 70.0)\n",
      "15      [60.0, 70.0)\n",
      "16      [70.0, 80.0)\n",
      "17     [90.0, 100.0)\n",
      "18      [80.0, 90.0)\n",
      "19      [70.0, 80.0)\n",
      "20     [90.0, 100.0)\n",
      "21      [60.0, 70.0)\n",
      "22      [70.0, 80.0)\n",
      "23      [60.0, 70.0)\n",
      "24      [70.0, 80.0)\n",
      "25      [70.0, 80.0)\n",
      "26      [80.0, 90.0)\n",
      "27      [80.0, 90.0)\n",
      "28      [70.0, 80.0)\n",
      "29      [60.0, 70.0)\n",
      "           ...      \n",
      "351     [70.0, 80.0)\n",
      "352     [80.0, 90.0)\n",
      "353     [70.0, 80.0)\n",
      "354     [70.0, 80.0)\n",
      "355     [80.0, 90.0)\n",
      "356     [80.0, 90.0)\n",
      "357     [70.0, 80.0)\n",
      "358     [80.0, 90.0)\n",
      "359     [80.0, 90.0)\n",
      "360    [90.0, 100.0)\n",
      "361     [80.0, 90.0)\n",
      "362     [70.0, 80.0)\n",
      "363     [70.0, 80.0)\n",
      "364     [70.0, 80.0)\n",
      "365     [70.0, 80.0)\n",
      "366    [90.0, 100.0)\n",
      "367     [80.0, 90.0)\n",
      "368     [80.0, 90.0)\n",
      "369     [70.0, 80.0)\n",
      "370     [80.0, 90.0)\n",
      "371     [80.0, 90.0)\n",
      "372     [70.0, 80.0)\n",
      "373     [80.0, 90.0)\n",
      "374     [60.0, 70.0)\n",
      "375     [80.0, 90.0)\n",
      "376     [60.0, 70.0)\n",
      "377    [90.0, 100.0)\n",
      "378              NaN\n",
      "379    [90.0, 100.0)\n",
      "380     [70.0, 80.0)\n",
      "Name: percent, Length: 381, dtype: category\n",
      "Categories (5, interval[int64]): [[0, 60) < [60, 70) < [70, 80) < [80, 90) < [90, 100)]\n",
      "[70, 80)     143\n",
      "[80, 90)     118\n",
      "[60, 70)      69\n",
      "[90, 100)     26\n",
      "[0, 60)       22\n",
      "Name: percent, dtype: int64\n"
     ]
    }
   ],
   "source": [
    "# corrects which side of the interval is inclusive\n",
    "letter_grades = pd.cut(df[\"percent\"],bins, right=False)\n",
    "print(letter_grades)\n",
    "print(pd.value_counts(letter_grades))"
   ]
  },
  {
   "cell_type": "markdown",
   "metadata": {},
   "source": [
    "What happened at index 378? When we adjusted the inclusive vs exclusive part of the bin definitions, we accidentally left out grades of 100%. Fix it by adjusting the last bin cutoff value, then let's assign letter values to the grade ranges."
   ]
  },
  {
   "cell_type": "code",
   "execution_count": 38,
   "metadata": {},
   "outputs": [
    {
     "name": "stdout",
     "output_type": "stream",
     "text": [
      "376     [60, 70)\n",
      "377    [90, 101)\n",
      "378    [90, 101)\n",
      "379    [90, 101)\n",
      "380     [70, 80)\n",
      "Name: percent, dtype: category\n",
      "Categories (5, interval[int64]): [[0, 60) < [60, 70) < [70, 80) < [80, 90) < [90, 101)]\n",
      "[70, 80)     143\n",
      "[80, 90)     118\n",
      "[60, 70)      69\n",
      "[90, 101)     29\n",
      "[0, 60)       22\n",
      "Name: percent, dtype: int64\n"
     ]
    }
   ],
   "source": [
    "# Adjust the last bin value\n",
    "bins = [0, 60, 70, 80, 90, 101]\n",
    "\n",
    "# Include letters for bin names\n",
    "grade_names = [\"F\", \"D\",\"C\",\"B\",\"A\"]\n",
    "letter_grades = pd.cut(df[\"percent\"],bins, right=False)\n",
    "print(letter_grades.tail())\n",
    "print(pd.value_counts(letter_grades))"
   ]
  },
  {
   "cell_type": "markdown",
   "metadata": {},
   "source": [
    "We can now use the letter counts as the basis for a histogram of the grades."
   ]
  },
  {
   "cell_type": "code",
   "execution_count": 48,
   "metadata": {},
   "outputs": [
    {
     "name": "stdout",
     "output_type": "stream",
     "text": [
      "CategoricalIndex([[70, 80), [80, 90), [60, 70), [90, 101), [0, 60)], categories=[[0, 60), [60, 70), [70, 80), [80, 90), [90, 101)], ordered=True, dtype='category') \n",
      "\n",
      "[143 118  69  29  22]\n"
     ]
    }
   ],
   "source": [
    "# Save the counts in an object\n",
    "data = pd.value_counts(letter_grades)\n",
    "#grade_count.head()\n",
    "print(data.index, \"\\n\")\n",
    "print(data.values)"
   ]
  },
  {
   "cell_type": "code",
   "execution_count": 46,
   "metadata": {},
   "outputs": [
    {
     "name": "stdout",
     "output_type": "stream",
     "text": [
      "[90, 101)     29\n",
      "[80, 90)     118\n",
      "[70, 80)     143\n",
      "[60, 70)      69\n",
      "[0, 60)       22\n",
      "Name: percent, dtype: int64\n"
     ]
    }
   ],
   "source": [
    "# Sort the data into the desired order\n",
    "data.sort_index(ascending=False, inplace=True)\n",
    "print(data)"
   ]
  },
  {
   "cell_type": "code",
   "execution_count": 54,
   "metadata": {},
   "outputs": [
    {
     "data": {
      "image/png": "[encoded data removed]",
      "text/plain": [
       "<Figure size 432x288 with 1 Axes>"
      ]
     },
     "metadata": {
      "needs_background": "light"
     },
     "output_type": "display_data"
    }
   ],
   "source": [
    "# Plot the grade count as a basic bar chart\n",
    "plt.bar(data.index, data.values)\n",
    "plt.show()"
   ]
  },
  {
   "cell_type": "code",
   "execution_count": null,
   "metadata": {},
   "outputs": [],
   "source": [
    "# Complete the histogram\n",
    "\n",
    "\n",
    "# Add labels\n",
    "plt.title('Exam 3 Grade Distribution')\n",
    "plt.ylabel('Counts')\n",
    "plt.xlabel('Letter Grades')\n",
    "\n",
    "# Add an annotation to the plot\n",
    "plt.annotate('Problem',xy=[4,25],xytext=[3,120],arrowprops=dict(facecolor='gray',shrink=0.05))\n",
    "plt.show()\n"
   ]
  },
  {
   "cell_type": "markdown",
   "metadata": {},
   "source": [
    "Annotation tutorial : https://matplotlib.org/tutorials/text/annotations.html"
   ]
  },
  {
   "cell_type": "markdown",
   "metadata": {},
   "source": [
    "---\n",
    "That might seem like a great deal of work, but that is just because we did it in a step-by-step fashion. Here is the code in one cell."
   ]
  },
  {
   "cell_type": "code",
   "execution_count": 49,
   "metadata": {},
   "outputs": [
    {
     "data": {
      "image/png": "[encoded data removed]",
      "text/plain": [
       "<Figure size 432x288 with 1 Axes>"
      ]
     },
     "metadata": {
      "needs_background": "light"
     },
     "output_type": "display_data"
    }
   ],
   "source": [
    "# Read the data from the csv file into a dataframe\n",
    "df = pd.read_csv(\"../data/stats_exam_3_scores.csv\")\n",
    "\n",
    "# add a calculated percent column to the data frame\n",
    "df['percent'] = np.round((df['scores']/150)*100,1)\n",
    "\n",
    "# Define the cutoff values for the bins\n",
    "bins = [0,60,70,80,90,101]\n",
    "\n",
    "# Include letters for bin names\n",
    "grade_names = ['F','D','C','B','A']\n",
    "letter_grades = pd.cut(df['percent'],bins,labels=grade_names,right=False)\n",
    "\n",
    "# Count letter grades and save the counts in an object\n",
    "data = pd.value_counts(letter_grades)\n",
    "\n",
    "# Sort the grade counts into the desired order\n",
    "data.sort_index(ascending=False, inplace=True)\n",
    "\n",
    "# Create the histogram\n",
    "colors = ['c', 'c', 'c', 'orange', 'khaki']    # use color to emphasize certain bars\n",
    "plt.bar(data.index, data.values, color=colors, edgecolor='k', width=1)\n",
    "\n",
    "# Add labels to the plot\n",
    "plt.title('Exam 3 Grade Distribution')\n",
    "plt.ylabel('Counts')\n",
    "plt.xlabel('Letter Grades')\n",
    "\n",
    "# display the completed plot\n",
    "plt.show()"
   ]
  },
  {
   "cell_type": "markdown",
   "metadata": {},
   "source": [
    "## Box plots\n",
    "Box plots show the distribution of a single variable by showing the quartiles in the data. Many additional options can be set here as well."
   ]
  },
  {
   "cell_type": "code",
   "execution_count": 52,
   "metadata": {},
   "outputs": [
    {
     "data": {
      "image/png": "[encoded data removed]",
      "text/plain": [
       "<Figure size 432x288 with 1 Axes>"
      ]
     },
     "metadata": {
      "needs_background": "light"
     },
     "output_type": "display_data"
    }
   ],
   "source": [
    "plt.boxplot(df.percent)\n",
    "plt.show()"
   ]
  },
  {
   "cell_type": "code",
   "execution_count": 51,
   "metadata": {},
   "outputs": [
    {
     "data": {
      "text/html": [
       "<div>\n",
       "<style scoped>\n",
       "    .dataframe tbody tr th:only-of-type {\n",
       "        vertical-align: middle;\n",
       "    }\n",
       "\n",
       "    .dataframe tbody tr th {\n",
       "        vertical-align: top;\n",
       "    }\n",
       "\n",
       "    .dataframe thead th {\n",
       "        text-align: right;\n",
       "    }\n",
       "</style>\n",
       "<table border=\"1\" class=\"dataframe\">\n",
       "  <thead>\n",
       "    <tr style=\"text-align: right;\">\n",
       "      <th></th>\n",
       "      <th>Homework</th>\n",
       "      <th>Exams</th>\n",
       "      <th>Letter</th>\n",
       "    </tr>\n",
       "  </thead>\n",
       "  <tbody>\n",
       "    <tr>\n",
       "      <th>0</th>\n",
       "      <td>2.86</td>\n",
       "      <td>152.0</td>\n",
       "      <td>F</td>\n",
       "    </tr>\n",
       "    <tr>\n",
       "      <th>1</th>\n",
       "      <td>18.00</td>\n",
       "      <td>215.0</td>\n",
       "      <td>F</td>\n",
       "    </tr>\n",
       "    <tr>\n",
       "      <th>2</th>\n",
       "      <td>33.15</td>\n",
       "      <td>52.0</td>\n",
       "      <td>F</td>\n",
       "    </tr>\n",
       "    <tr>\n",
       "      <th>3</th>\n",
       "      <td>46.26</td>\n",
       "      <td>49.5</td>\n",
       "      <td>F</td>\n",
       "    </tr>\n",
       "    <tr>\n",
       "      <th>4</th>\n",
       "      <td>56.66</td>\n",
       "      <td>215.0</td>\n",
       "      <td>D</td>\n",
       "    </tr>\n",
       "  </tbody>\n",
       "</table>\n",
       "</div>"
      ],
      "text/plain": [
       "   Homework  Exams Letter\n",
       "0      2.86  152.0      F\n",
       "1     18.00  215.0      F\n",
       "2     33.15   52.0      F\n",
       "3     46.26   49.5      F\n",
       "4     56.66  215.0      D"
      ]
     },
     "execution_count": 51,
     "metadata": {},
     "output_type": "execute_result"
    }
   ],
   "source": [
    "# Example: simple box plot using exam 3 data\n",
    "df2 = pd.read_csv(\"../data/stats_hw_and_exams.csv\")\n",
    "df2.head()"
   ]
  },
  {
   "cell_type": "markdown",
   "metadata": {},
   "source": [
    "## Bivariate data\n",
    "Plots using values of two variables allow us to see a representation of the relationship between the variables."
   ]
  },
  {
   "cell_type": "markdown",
   "metadata": {},
   "source": [
    "### Scatterplot\n",
    "A scatterplot is great way to get an idea of what your data looks like when you have two-dimensional data. A basic scatterplot is just a graphic representation of each data point on an xy axis. We use them to see if there are any obvious patterns in the data."
   ]
  },
  {
   "cell_type": "code",
   "execution_count": 16,
   "metadata": {
    "scrolled": true
   },
   "outputs": [
    {
     "ename": "NameError",
     "evalue": "name 'pd' is not defined",
     "output_type": "error",
     "traceback": [
      "\u001b[1;31m---------------------------------------------------------------------------\u001b[0m",
      "\u001b[1;31mNameError\u001b[0m                                 Traceback (most recent call last)",
      "\u001b[1;32m<ipython-input-16-aa57e94e5385>\u001b[0m in \u001b[0;36m<module>\u001b[1;34m\u001b[0m\n\u001b[0;32m      1\u001b[0m \u001b[1;31m# Read the 'stats_hw_and_exams.csv' data and store in df2\u001b[0m\u001b[1;33m\u001b[0m\u001b[1;33m\u001b[0m\u001b[1;33m\u001b[0m\u001b[0m\n\u001b[1;32m----> 2\u001b[1;33m \u001b[0mdf2\u001b[0m \u001b[1;33m=\u001b[0m \u001b[0mpd\u001b[0m\u001b[1;33m.\u001b[0m\u001b[0mread_csv\u001b[0m\u001b[1;33m(\u001b[0m\u001b[1;34m\"../data/stats_hw_and_exams.csv\"\u001b[0m\u001b[1;33m)\u001b[0m\u001b[1;33m\u001b[0m\u001b[1;33m\u001b[0m\u001b[0m\n\u001b[0m\u001b[0;32m      3\u001b[0m \u001b[0mdf2\u001b[0m\u001b[1;33m.\u001b[0m\u001b[0mhead\u001b[0m\u001b[1;33m(\u001b[0m\u001b[1;33m)\u001b[0m\u001b[1;33m\u001b[0m\u001b[1;33m\u001b[0m\u001b[0m\n",
      "\u001b[1;31mNameError\u001b[0m: name 'pd' is not defined"
     ]
    }
   ],
   "source": [
    "# Read the 'stats_hw_and_exams.csv' data and store in df2\n",
    "df2 = pd.read_csv(\"../data/stats_hw_and_exams.csv\")\n",
    "df2.head()"
   ]
  },
  {
   "cell_type": "code",
   "execution_count": 15,
   "metadata": {},
   "outputs": [
    {
     "ename": "NameError",
     "evalue": "name 'df2' is not defined",
     "output_type": "error",
     "traceback": [
      "\u001b[1;31m---------------------------------------------------------------------------\u001b[0m",
      "\u001b[1;31mNameError\u001b[0m                                 Traceback (most recent call last)",
      "\u001b[1;32m<ipython-input-15-304e72787126>\u001b[0m in \u001b[0;36m<module>\u001b[1;34m\u001b[0m\n\u001b[0;32m      1\u001b[0m \u001b[1;31m# Create the basic scatterplot\u001b[0m\u001b[1;33m\u001b[0m\u001b[1;33m\u001b[0m\u001b[1;33m\u001b[0m\u001b[0m\n\u001b[1;32m----> 2\u001b[1;33m \u001b[0mplt\u001b[0m\u001b[1;33m.\u001b[0m\u001b[0mscatter\u001b[0m\u001b[1;33m(\u001b[0m\u001b[0mdf2\u001b[0m\u001b[1;33m.\u001b[0m\u001b[0mHomework\u001b[0m\u001b[1;33m,\u001b[0m \u001b[0mdf2\u001b[0m\u001b[1;33m.\u001b[0m\u001b[0mExams\u001b[0m\u001b[1;33m)\u001b[0m\u001b[1;33m\u001b[0m\u001b[1;33m\u001b[0m\u001b[0m\n\u001b[0m\u001b[0;32m      3\u001b[0m \u001b[0mplt\u001b[0m\u001b[1;33m.\u001b[0m\u001b[0mshow\u001b[0m\u001b[1;33m(\u001b[0m\u001b[1;33m)\u001b[0m\u001b[1;33m\u001b[0m\u001b[1;33m\u001b[0m\u001b[0m\n",
      "\u001b[1;31mNameError\u001b[0m: name 'df2' is not defined"
     ]
    }
   ],
   "source": [
    "# Create the basic scatterplot\n",
    "plt.scatter(df2.Homework, df2.Exams)\n",
    "plt.show()"
   ]
  },
  {
   "cell_type": "markdown",
   "metadata": {},
   "source": [
    "It looks like there may be a relationship between these two variables. It appears that as x (homework points) increases, y (exams scores) also increases. A common feature you might see with a scatterplot is to add a fitted regression line to the display. We'll do that later in Seaborn in order to take advantage of its functionality."
   ]
  },
  {
   "cell_type": "markdown",
   "metadata": {},
   "source": [
    "## Multivariate data\n",
    "\n",
    "Plotting data with more than two variables is tricky, because there isn’t a template to use for every case.\n",
    "- If we want to add a third variable, like the 'sex' variable in the 'tips' data, one option would be to color the points based on the value of that variable.\n",
    "- If we wanted to add a fourth variable, we could add size to the dots.\n",
    "    - A caveat to using size as a variable is that humans are not very good at differentiating areas.\n",
    "- A common pitfall is to map a value to the radius of a circle for plots, but since the formula for a circle is `πr^2` , your areas are actually based on a squared scale. That is not only misleading, but also wrong."
   ]
  },
  {
   "cell_type": "code",
   "execution_count": 30,
   "metadata": {},
   "outputs": [
    {
     "data": {
      "text/html": [
       "<div>\n",
       "<style scoped>\n",
       "    .dataframe tbody tr th:only-of-type {\n",
       "        vertical-align: middle;\n",
       "    }\n",
       "\n",
       "    .dataframe tbody tr th {\n",
       "        vertical-align: top;\n",
       "    }\n",
       "\n",
       "    .dataframe thead th {\n",
       "        text-align: right;\n",
       "    }\n",
       "</style>\n",
       "<table border=\"1\" class=\"dataframe\">\n",
       "  <thead>\n",
       "    <tr style=\"text-align: right;\">\n",
       "      <th></th>\n",
       "      <th>total_bill</th>\n",
       "      <th>tip</th>\n",
       "      <th>sex</th>\n",
       "      <th>smoker</th>\n",
       "      <th>day</th>\n",
       "      <th>time</th>\n",
       "      <th>size</th>\n",
       "    </tr>\n",
       "  </thead>\n",
       "  <tbody>\n",
       "    <tr>\n",
       "      <th>0</th>\n",
       "      <td>16.99</td>\n",
       "      <td>1.01</td>\n",
       "      <td>0</td>\n",
       "      <td>No</td>\n",
       "      <td>Sun</td>\n",
       "      <td>Dinner</td>\n",
       "      <td>2</td>\n",
       "    </tr>\n",
       "    <tr>\n",
       "      <th>1</th>\n",
       "      <td>10.34</td>\n",
       "      <td>1.66</td>\n",
       "      <td>1</td>\n",
       "      <td>No</td>\n",
       "      <td>Sun</td>\n",
       "      <td>Dinner</td>\n",
       "      <td>3</td>\n",
       "    </tr>\n",
       "    <tr>\n",
       "      <th>2</th>\n",
       "      <td>21.01</td>\n",
       "      <td>3.50</td>\n",
       "      <td>1</td>\n",
       "      <td>No</td>\n",
       "      <td>Sun</td>\n",
       "      <td>Dinner</td>\n",
       "      <td>3</td>\n",
       "    </tr>\n",
       "  </tbody>\n",
       "</table>\n",
       "</div>"
      ],
      "text/plain": [
       "   total_bill   tip sex smoker  day    time  size\n",
       "0       16.99  1.01   0     No  Sun  Dinner     2\n",
       "1       10.34  1.66   1     No  Sun  Dinner     3\n",
       "2       21.01  3.50   1     No  Sun  Dinner     3"
      ]
     },
     "execution_count": 30,
     "metadata": {},
     "output_type": "execute_result"
    }
   ],
   "source": [
    "# Convert 'sex' column values to numeric dummy values\n",
    "tips[\"sex\"].cat.rename_categories({\"Female\" :0, \"Male\" :1}, inplace=True)\n",
    "tips.head(3)"
   ]
  },
  {
   "cell_type": "code",
   "execution_count": null,
   "metadata": {
    "scrolled": true
   },
   "outputs": [],
   "source": []
  },
  {
   "cell_type": "code",
   "execution_count": 31,
   "metadata": {},
   "outputs": [
    {
     "data": {
      "image/png": "[encoded data removed]",
      "text/plain": [
       "<Figure size 432x288 with 1 Axes>"
      ]
     },
     "metadata": {
      "needs_background": "light"
     },
     "output_type": "display_data"
    }
   ],
   "source": [
    "# Scatter plot of total bill by tip using colors for sex and dot size for party size\n",
    "\n",
    "# Set the size of the dots based on the size of the party. We multiply the values by 10\n",
    "#   to make the points bigger and to emphasize the differences.\n",
    "# Set the color values to change for the sex values.\n",
    "# Set the alpha value so points are more transparent. This helps with overlapping points.\n",
    "plt.scatter(x=tips[\"total_bill\"], y=tips[\"tip\"], s=tips[\"size\"]*10, c=tips[\"sex\"])\n",
    "plt.show()"
   ]
  },
  {
   "cell_type": "markdown",
   "metadata": {},
   "source": [
    "# pandas plotting\n",
    "Need a quick-and-dirty plot to get a look at your data? pandas has some very basic plotting based upon matplotlib built into the data frame object.\n",
    "\n",
    "https://pandas.pydata.org/pandas-docs/stable/reference/frame.html#plotting"
   ]
  },
  {
   "cell_type": "code",
   "execution_count": 32,
   "metadata": {},
   "outputs": [
    {
     "data": {
      "text/plain": [
       "<matplotlib.axes._subplots.AxesSubplot at 0x1b0a1fd5358>"
      ]
     },
     "execution_count": 32,
     "metadata": {},
     "output_type": "execute_result"
    },
    {
     "data": {
      "image/png": "[encoded data removed]",
      "text/plain": [
       "<Figure size 432x288 with 1 Axes>"
      ]
     },
     "metadata": {
      "needs_background": "light"
     },
     "output_type": "display_data"
    }
   ],
   "source": [
    "# Histogram on the total bill amount from tips data\n",
    "tips[\"total_bill\"].plot.hist()\n"
   ]
  },
  {
   "cell_type": "code",
   "execution_count": 33,
   "metadata": {},
   "outputs": [
    {
     "data": {
      "text/plain": [
       "<matplotlib.axes._subplots.AxesSubplot at 0x1b0a1e024a8>"
      ]
     },
     "execution_count": 33,
     "metadata": {},
     "output_type": "execute_result"
    },
    {
     "data": {
      "image/png": "[encoded data removed]",
      "text/plain": [
       "<Figure size 432x288 with 1 Axes>"
      ]
     },
     "metadata": {
      "needs_background": "light"
     },
     "output_type": "display_data"
    }
   ],
   "source": [
    "# Scatterplot of total bill and tips\n",
    "tips.plot.scatter(x=\"total_bill\", y=\"tip\")"
   ]
  },
  {
   "cell_type": "code",
   "execution_count": 34,
   "metadata": {},
   "outputs": [
    {
     "data": {
      "text/plain": [
       "<matplotlib.axes._subplots.AxesSubplot at 0x1b0a2d51ef0>"
      ]
     },
     "execution_count": 34,
     "metadata": {},
     "output_type": "execute_result"
    },
    {
     "data": {
      "image/png": "[encoded data removed]",
      "text/plain": [
       "<Figure size 432x288 with 2 Axes>"
      ]
     },
     "metadata": {
      "needs_background": "light"
     },
     "output_type": "display_data"
    }
   ],
   "source": [
    "# Hexbin plot\n",
    "tips.plot.hexbin(x=\"total_bill\", y=\"tip\")"
   ]
  },
  {
   "cell_type": "code",
   "execution_count": 35,
   "metadata": {},
   "outputs": [
    {
     "data": {
      "text/plain": [
       "<matplotlib.axes._subplots.AxesSubplot at 0x1b0a2df8588>"
      ]
     },
     "execution_count": 35,
     "metadata": {},
     "output_type": "execute_result"
    },
    {
     "data": {
      "image/png": "[encoded data removed]",
      "text/plain": [
       "<Figure size 432x288 with 1 Axes>"
      ]
     },
     "metadata": {
      "needs_background": "light"
     },
     "output_type": "display_data"
    }
   ],
   "source": [
    "# Box plot of all numeric columns\n",
    "tips.plot.box()"
   ]
  },
  {
   "cell_type": "code",
   "execution_count": 36,
   "metadata": {},
   "outputs": [
    {
     "data": {
      "text/plain": [
       "<matplotlib.axes._subplots.AxesSubplot at 0x1b0a2e91c18>"
      ]
     },
     "execution_count": 36,
     "metadata": {},
     "output_type": "execute_result"
    },
    {
     "data": {
      "image/png": "[encoded data removed]",
      "text/plain": [
       "<Figure size 432x288 with 1 Axes>"
      ]
     },
     "metadata": {
      "needs_background": "light"
     },
     "output_type": "display_data"
    }
   ],
   "source": [
    "# Box plot with a specified column\n",
    "tips[\"tip\"].plot.box()"
   ]
  },
  {
   "cell_type": "code",
   "execution_count": null,
   "metadata": {},
   "outputs": [],
   "source": []
  }
 ],
 "metadata": {
  "kernelspec": {
   "display_name": "Python 3",
   "language": "python",
   "name": "python3"
  },
  "language_info": {
   "codemirror_mode": {
    "name": "ipython",
    "version": 3
   },
   "file_extension": ".py",
   "mimetype": "text/x-python",
   "name": "python",
   "nbconvert_exporter": "python",
   "pygments_lexer": "ipython3",
   "version": "3.7.3"
  }
 },
 "nbformat": 4,
 "nbformat_minor": 2
}

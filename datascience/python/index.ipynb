{
 "cells": [
  {
   "cell_type": "markdown",
   "metadata": {},
   "source": [
    "# [Table Of Contents](../index.ipynb)\n",
    "### Data Science Fundamentals"
   ]
  },
  {
   "cell_type": "markdown",
   "metadata": {},
   "source": [
    "## [Data Science Fundamentals: Python](#) \n",
    "\n",
    "Python is an interpreted, high-level, general-purpose programming language. Created by Guido van Rossum and first released in 1991, Python's design philosophy emphasizes code readability with its notable use of significant whitespace."
   ]
  },
  {
   "cell_type": "markdown",
   "metadata": {},
   "source": [
    "Conceived in the late 1980s as a teaching and scripting language, Python has since become an essential tool for many programmers, engineers, researchers, and data scientists across academia and industry.\n",
    "As an astronomer focused on building and promoting the free open tools for data-intensive science, I've found Python to be a near-perfect fit for the types of problems I face day to day, whether it's extracting meaning from large astronomical datasets, scraping and munging data sources from the Web, or automating day-to-day research tasks.\n",
    "\n",
    "- - -"
   ]
  },
  {
   "cell_type": "markdown",
   "metadata": {},
   "source": [
    "## Modules\n",
    "\n",
    "- Module 0. [Introduction and Setup of Python](./00_mod_setup/01_mod_intro_python.ipynb) \n",
    "- Module 1. [Python Coding Syntax](01_mod_intro/01_mod_python_syntax.ipynb) \n",
    "- Module 2. [Python Data Structures](02_mod_data/01_simple_types.ipynb) \n",
    "- Module 3. [Python Control Flow](03_mod_ctrlflow/01_mod_control_flow.ipynb) \n",
    "- Module 4. [Python Functions and Error Handling](04_mod_functions_errs/01_mod_defining_functions.ipynb) \n",
    "- Module 5. [Python Iterators and List Comprehensions](05_mod_iterators_list/01_iterators.ipynb) \n",
    "- Mobule 6. [Python Generators and Regular Expressions](06_mod_generators_expressions/01_generators.ipynb) \n",
    "- Module 7. [Python Object Oriented Programming](07_mod_oop/01_obj_classes.ipynb) \n",
    "- Module 8. [Python OOP - Inheritance and Methods](08_mod_oop_inheritance/01_oop_inheritance.ipynb) 30 JUL 2020\n",
    "- Module 9. [Python Numpy](09_mod_numpy/01_introduction_NumPy.ipynb) 04 AUG 2020\n",
    "- Module 10. [Python Pandas](10_mod_pandas/01_introduction_to_pandas.ipynb) 06 AUG 2020\n",
    "- Module 11. [Python MatPlotLib](11_mod_matplotlib/01-Introduction-To-Matplotlib.ipynb) 11 AUG 2020\n",
    "- Module 12. [Python Scikit-Learn](12_mod_scikitlearn/01-Introduction-To-Scikit-Learn.ipynb) 13 AUG 2020"
   ]
  },
  {
   "cell_type": "markdown",
   "metadata": {},
   "source": [
    "- - - \n",
    "\n",
    "## Real World Examples\n",
    "\n",
    "- [Web Scraping](./realworld/web_scraping/01_rw_web_scraping.ipynb) \n",
    "- [Automation](./realworld/automation/02_rw_automation.ipynb) \n",
    "- [Messaging](./realworld/messaging/03_rw_messaging.ipynb) \n",
    "- [CSV](./realworld/csv/04_rw_csv.ipynb) \n",
    "- [Games](./realworld/games/05_games.ipynb)\n",
    "- [Mobile](./realworld/mobile/06_mobile.ipynb)\n",
    "- [Computer Vision](./realworld/computer_vision/08_computer_vision.ipynb)\n",
    "- [Chatbot](./realworld/chatbot/10_chatbot.ipynb)\n",
    "- [Built-In Database](./realworld/database/11_database.ipynb)\n",
    "\n",
    "## Life Examples\n",
    "\n",
    "- [COVID-19 Visualization](./realworld/COVID-19/COVID-19_visualizations-plotly.ipynb)\n",
    "- [Police Brutality Visualization](https://maminian.github.io/brutality-map/)\n",
    "- [Spanish Flu: 1918-1920](./realworld/spanishflu/index.ipynb)\n"
   ]
  },
  {
   "cell_type": "markdown",
   "metadata": {},
   "source": [
    "- - -\n",
    "Training Feedback\n",
    "---\n",
    "If you have any questions or comments, feel free to get in touch:\n",
    "\n",
    "Twitter: [@techtalentsouth](https://twitter.com/techtalentsouth)\n",
    "\n",
    "Email: info at techtalentsouth dot com\n",
    "\n",
    "LinkedIn: [Tech Talent South](https://www.linkedin.com/company/tech-talent-south/)\n"
   ]
  },
  {
   "cell_type": "markdown",
   "metadata": {},
   "source": [
    "- - -\n",
    "\n",
    "About The Creator: Gary Jackson\n",
    "---\n",
    "Gary Jackson is a technologist, teacher, and data scientist. \n",
    "\n",
    "Gary brings with him nearly two decades of experiences in IT, Enterprise Architecture, and Big Data & Analytics working for and within multinational companies around the world.\n",
    "\n",
    "Gary helped create the first [Artificial Intelligence written magazine, **Esquire Singapore April 2019** issue](https://wlos.com/news/local/wnc-writer-part-of-international-magazines-artificial-intelligence-team) with a technology called **[AI-Writer](http://ai-writer.com/)**.  More recently, co-founded **[Blockstamped.io](https://blockstamped.io) to [prevent false narratives AKA 'fake news' and deep fakes using Ethereum Blockchain](https://wlos.com/news/local/one-company-works-to-prevent-spread-of-fake-videos)**. \n",
    "\n",
    "On this new **Blockstamped** platform, built the first blockchain authencity app for the media industry with the help of Oscar nominated, multiple Grammy Award winner, ['Bassy' Bob Brockmann](http://www.bassybob.com/) to help digitalize licensing and royalty payments to producers and artists.  This app is called **[Bassed.io](https://www.facebook.com/blockstamped/videos/510817576274052)**. \n",
    "\n",
    "Gary formally was Regional Director of System Integrators (SIs) and Technology Partners for Qlik across Asia Pacific (including Japan, Australia, and New Zealand), Gary led the drive for interactive and collaborative partnerships between global and regional SIs, Business Consulting firms, and Technology Partners. These included Deloitte, KPMG, PwC, Accenture, Wipro, Cloudera, Revolution Analytics, MapR, Intel, and many others.\n",
    "\n",
    "Prior to that he was the Principal for Big Data & Analytics Growth Markets, for Computer Sciences Corporation (CSC), supporting Latin America and Asia-Pacific traveling back and forth between São Paulo, Brasil and Hong Kong. Gary has also worked for SAS Institute as Head of Technology for Asia Pacific, South Africa, Europe, and North America for more than a decade.\n",
    "\n",
    "Gary holds a Bachelor of Science in Computer Information Systems, Information Technology and Computer Information Systems from DeVry University. He is a resident of both Hong Kong 香港 and Asheville, North Carolina.\n",
    "\n",
    "- - - \n",
    "\n",
    "Appeared on TELEVISION –\n",
    "\n",
    "- WLOS ABC (USA) - Blockstamped to stop \"fake news\" in upcoming 2020 political elections - http://bit.ly/39XDAsi\n",
    "- WLOS ABC (USA) - AI Writer to publish world's first half machine written magazine - https://goo.gl/yHRDte\n",
    "- TVB The Pearl Report (Hong Kong) \"Wearable Wave\" on wearable analytics - https://youtu.be/yiGbVdqIzb0\n",
    "- CNBC Asia (Singapore) - Discussed wearable tech - https://cnb.cx/2UuwntT\n",
    "- CNBC Asia (Hong Kong) - Would You Hire A MBA Graduate - https://cnb.cx/2UtHymt\n",
    "- CNBC Asia (Hong Kong) - Twitter as a 'conversation starter' vs revenue creator - https://cnb.cx/3cIwCYl\n",
    "- One TV (Russia)  - AI Writer - https://bit.ly/39DSmor\n",
    "\n",
    "Keynote Speaker at International CONFERENCES – \n",
    "\n",
    "- \"The Myth of BI\" - Innovative Enterprise Singapore - https://youtu.be/oK9NsDv6F_c \n",
    "- \"Conversations as a Service\" - ComputerWorld Hong Kong - https://youtu.be/RoL1CldBKhg \n",
    "- \"Map of Me Analytics\" - SAP Sapphire Madrid - https://youtu.be/fjTq-3Us9Cw\n",
    "https://youtu.be/8aVYpBBN3RQ\n",
    "- \"Social Advertising\" - Enterprise Collaboration Hong Kong - https://youtu.be/8aVYpBBN3RQ\n",
    "\n",
    "Technical ENABLEMENT - \n",
    "\n",
    "Founder of three data science academies across Asia-Pacific and assisted with the General Assembly’s initial data science and analytics curriculum in Hong Kong. Led the KPMG Hong Kong and Hong Kong University of Science and Technology (HKUST) to create a three month immersive Big Data Application competition sponsored by Qlik.  In conjunction with the University of San Carlos (USC) in Cebu, the Philippines created a nine-week data science academy for Singapore VC funded Clicklab Ventures. \n",
    "\n",
    "- General Assembly & Rackspace - \"Take A Class, Take A Cloud\" (2016) - https://vimeo.com/149488960 \n",
    "- KPMG and Hong Kong University of Science Technology (2015) - https://youtu.be/rgLB45tGZJY \n",
    "- Clicklabs Ventures Data Science Academy - Cebu (2015) - https://youtu.be/JDPozb7OXiA \n",
    "- AlphaEight School Analytics - Hong Kong (2011)- https://youtu.be/LX-j80wnv7c"
   ]
  },
  {
   "cell_type": "markdown",
   "metadata": {},
   "source": [
    "---\n",
    "Contact your trainer at \n",
    "\n",
    "Twitter: [@enterlol](https://twitter.com/enterlol)\n",
    "\n",
    "Email: gary dot jackson at qlx dot com\n",
    "\n",
    "LinkedIn: [https://hk.linkedin.com/in/gsjackson](https://hk.linkedin.com/in/gsjackson)"
   ]
  },
  {
   "cell_type": "markdown",
   "metadata": {},
   "source": [
    "- - -\n",
    "\n",
    "Copyright © 2020 Qualex Consulting Services Incorporated."
   ]
  }
 ],
 "metadata": {
  "anaconda-cloud": {},
  "kernelspec": {
   "display_name": "Python 3",
   "language": "python",
   "name": "python3"
  },
  "language_info": {
   "codemirror_mode": {
    "name": "ipython",
    "version": 3
   },
   "file_extension": ".py",
   "mimetype": "text/x-python",
   "name": "python",
   "nbconvert_exporter": "python",
   "pygments_lexer": "ipython3",
   "version": "3.8.3"
  }
 },
 "nbformat": 4,
 "nbformat_minor": 1
}

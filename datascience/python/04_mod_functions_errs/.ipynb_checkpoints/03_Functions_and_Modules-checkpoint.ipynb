{
 "cells": [
  {
   "cell_type": "markdown",
   "metadata": {},
   "source": [
    "Data Science Fundamentals: Python |\n",
    "[Table of Contents](../index.ipynb)\n",
    "- - - \n",
    "<!--NAVIGATION-->\n",
    "Module 4. [Defining Functions](./01_mod_defining_functions.ipynb) | [Errors And Exceptions](./02_mod_errors_and_exceptions.ipynb) | **[Reference: Functions and Modules](./03_Functions_and_Modules.ipynb)** | [Exercises](./04_func_error_exercises.ipynb)"
   ]
  },
  {
   "cell_type": "markdown",
   "metadata": {},
   "source": [
    "# Reference Material: Functions and Modules\n",
    "Some file(s) are needed for this notebook to work properly: business.py\n",
    "\n",
    "#### A function is a group of statements that perform one specific task (see Rule 8).\n",
    "\n",
    "Groups of related functions can be stored in **modules** we can use later without rewriting the code in our new program. More about modules a little later.\n",
    "\n",
    "We write **_modular programs_** using a divide and conquer approach to break the overall task into smaller, more manageable tasks. Functions are not a new way to do things in Python. They are simply a way to organize your code.\n",
    "\n",
    "Why do we want to create modular programs?\n",
    "- The code tends to be simpler and easier to understand.\n",
    "- The code can be reused as needed without rewriting it.\n",
    "- Each function can be tested individually so it is easier to find problems.\n",
    "- It is easier to work in teams when the task is split up among team members.\n",
    "\n",
    "All of these factors make program development go faster."
   ]
  },
  {
   "cell_type": "markdown",
   "metadata": {},
   "source": [
    "## Top-down design\n",
    "Using functions allows you to utilize an approach called _top-down design_. \n",
    "- When you are trying to solve your problem, start at the top level and break the problem down into smaller pieces.\n",
    "- When you have found all of the pieces that can’t be further divided, you have found all of the functions you will need to create or \"borrow\" from an established library. Did I mention Rule 8?\n",
    "- Now you are ready to plan your program so you are prepared to write the code. Rule 2 anybody?\n",
    "- Flowcharts show the logic; hierarchy charts show the relationships between functions.\n"
   ]
  },
  {
   "cell_type": "markdown",
   "metadata": {},
   "source": [
    "## Variable scope\n",
    "One aspect of variable use we have not yet covered is variable scope. We define the scope of a variable as the part(s) of the code in which the variable can be used. \n",
    "- A **local** variable is only valid in the code block where it appears.\n",
    "- A **global** variable is valid everywhere in the larger block of code, like an entire function or even the entire program.\n",
    "\n",
    "Global variables should be used as little as possible. Beginning programmers like to use them as a shortcut instead of _passing arguments_ between functions. We'll talk about passing arguments in a little bit. \n",
    "\n",
    "Here is another rule for you. Remember this when you want to use a global variable:\n",
    "\n",
    "<p style=\"text-align:center;\">**_A global variable is like grade forgiveness. You only use it if you have no other choice._**</p>\n",
    "\n",
    "Named constants have local and global scope, too. It is much more acceptable to use global constants."
   ]
  },
  {
   "cell_type": "markdown",
   "metadata": {},
   "source": [
    "## Two kinds of functions\n",
    "There are two kinds of functions. Each is helpful when used in the right place. We will look at both types. General rules for Python functions are:\n",
    "- Functions are named using descriptive verbs and the same rules as variable names. \n",
    "- The definition of a function has to come before the function is used if they are in the same file.\n",
    "- Functions are defined using the `def` keyword, a colon, and indentation.\n",
    "\n",
    "A **_void function_** executes its statements when called and then terminates. Some languages call this a procedure or subroutine.\n",
    "\n",
    "A **_value-returning function_** executes its statements and returns a value back to the statement that called it.\n",
    "\n"
   ]
  },
  {
   "cell_type": "markdown",
   "metadata": {},
   "source": [
    "### Void functions\n",
    "This is the general format for defining a void function.\n",
    "```\n",
    "def function_name():\n",
    "\tstatement\n",
    "\tstatement\n",
    "\tetc.\n",
    "```\n",
    "Remember that indentation and white space are very important in Python.\n",
    "\n",
    "To use a function we have to **call** it. When the function code has finished executing, control returns to the line of code following the calling statement."
   ]
  },
  {
   "cell_type": "code",
   "execution_count": 1,
   "metadata": {},
   "outputs": [
    {
     "name": "stdout",
     "output_type": "stream",
     "text": [
      "Press Enter to continue...\n",
      "\n",
      "Display a line of text.\n",
      "Well... two lines of text.\n",
      "\n",
      "Back to the main code\n",
      "1242.3\n"
     ]
    }
   ],
   "source": [
    "# Example: simple void function definition and call\n",
    "def show_me():\n",
    "    print('\\nDisplay a line of text.')\n",
    "    print('Well... two lines of text.\\n')\n",
    "\n",
    "input('Press Enter to continue...')\n",
    "show_me()                        # this is the function call\n",
    "print('Back to the main code')\n",
    "total = 1200.3 + 42\n",
    "print(total)"
   ]
  },
  {
   "cell_type": "code",
   "execution_count": 2,
   "metadata": {},
   "outputs": [],
   "source": [
    "def input_function():\n",
    "    name = input(\"What is your name? \")"
   ]
  },
  {
   "cell_type": "code",
   "execution_count": 3,
   "metadata": {},
   "outputs": [],
   "source": [
    "def output():\n",
    "    print(\"This line is found in the function.\")\n",
    "    print(name)"
   ]
  },
  {
   "cell_type": "code",
   "execution_count": 4,
   "metadata": {},
   "outputs": [
    {
     "name": "stdout",
     "output_type": "stream",
     "text": [
      "What is your name? Don\n",
      "Don\n",
      "Sylvio\n",
      "This line is found in the function.\n",
      "Sylvio\n"
     ]
    }
   ],
   "source": [
    "# Example: this code blows up because of variable scope issues. Run it then fix it with a global variable.\n",
    "#          But don't make a habit of it.\n",
    "\n",
    "\n",
    "\n",
    "\n",
    "# This is the main body of the code\n",
    "name = 'Sylvio'\n",
    "\n",
    "def input_function():\n",
    "    name = input(\"What is your name? \")\n",
    "    print(name)\n",
    "\n",
    "def output():\n",
    "    print(\"This line is found in the function.\")\n",
    "    print(name)\n",
    "\n",
    "\n",
    "input_function()\n",
    "print(name)\n",
    "output()\n",
    "\n"
   ]
  },
  {
   "cell_type": "markdown",
   "metadata": {},
   "source": [
    "### main() convention\n",
    "Some Python programmers use a `main()` function that contains only the overall logic of the program. It handles the overhead, like starting and ending the program, handling data transfer between functions, and similar functionality. All of the other work done by the program is delegated to functions that are called by `main()`. This convention doesn't work as well in Notebook as it does in .py code files so we won't use it much. You should be aware of it for future reference, however.\n",
    "\n",
    "To use it, define `main()` at the beginning of the program and call it at the end.\n",
    "```\n",
    "def main():\n",
    "    program overhead\n",
    "    calls to other functions\n",
    "    whatever else you need\n",
    "    ...\n",
    "    \n",
    "main()\n",
    "```\n",
    "\n",
    "Why does it have to be done this way?"
   ]
  },
  {
   "cell_type": "markdown",
   "metadata": {},
   "source": [
    "## Passing arguments to functions\n",
    "An **argument** is a value passed into a function. A **parameter** is the variable that receives the passed value. Arguments are passed _**by position**_ to parameters, not by name. The parameter is a variable inside the function (with local scope) that can be used inside the function's code. In Python, the value stored in the argument variable is copied to be stored in the parameter variable. This is called _passing by value_. Some languages also allow passing by reference, but it is a dangerous practice and avoided in Python.\n",
    "\n",
    "As an example, let's look at the breakeven program converted to a function.\n"
   ]
  },
  {
   "cell_type": "code",
   "execution_count": 5,
   "metadata": {},
   "outputs": [
    {
     "name": "stdout",
     "output_type": "stream",
     "text": [
      "Enter the total fixed cost (in dollars): 6000\n",
      "Enter the variable cost per unit (in dollars): 100\n",
      "Enter the selling price per unit (in dollars): 300\n",
      "The breakeven point is at 30.0 units.\n"
     ]
    }
   ],
   "source": [
    "# Example: breakeven using a void function\n",
    "def main():\n",
    " # Get user input\n",
    "    fixed_cost = float(input(\"Enter the total fixed cost (in dollars): \"))\n",
    "    variable_cost = float(input(\"Enter the variable cost per unit (in dollars): \"))\n",
    "    selling_price = float(input(\"Enter the selling price per unit (in dollars): \"))\n",
    " # call the breakeven function\n",
    "    breakeven(fixed_cost, variable_cost, selling_price)         # the ARGUMENTS in the calling statement\n",
    "\n",
    "def breakeven(fixed, variable, sell):                           # the PARAMETERS in the function definition\n",
    " # calculate the breakeven point\n",
    "    breakeven_units = fixed/(sell-variable)  #breakeven formula\n",
    "\n",
    " #Display result to the screen\n",
    "    print(\"The breakeven point is at\", breakeven_units, \"units.\")\n",
    "\n",
    "# call the main() function\n",
    "main()\n"
   ]
  },
  {
   "cell_type": "code",
   "execution_count": 4,
   "metadata": {},
   "outputs": [
    {
     "name": "stdout",
     "output_type": "stream",
     "text": [
      "Enter the total fixed cost (in dollars): 5000\n",
      "Enter the variable cost per unit (in dollars): 5\n",
      "Enter the selling price per unit (in dollars): 10\n",
      "The breakeven point is at 0.002002002002002002 units.\n"
     ]
    }
   ],
   "source": [
    "# Example: breakeven using a void function - take 2, different parameter order\n",
    "# What will happen here?\n",
    "def main():\n",
    " # Get user input\n",
    "    fixed_cost = float(input(\"Enter the total fixed cost (in dollars): \"))\n",
    "    variable_cost = float(input(\"Enter the variable cost per unit (in dollars): \"))\n",
    "    selling_price = float(input(\"Enter the selling price per unit (in dollars): \"))\n",
    " # call the breakeven function\n",
    "    breakeven(fixed_cost, variable_cost, selling_price)\n",
    "\n",
    "def breakeven(sell, variable, fixed):\n",
    " # calculate the breakeven point\n",
    "    breakeven_units = fixed/(sell-variable)  #breakeven formula\n",
    "\n",
    " #Display result to the screen\n",
    "    print(\"The breakeven point is at\", breakeven_units, \"units.\")\n",
    "\n",
    "# call the main() function\n",
    "main()"
   ]
  },
  {
   "cell_type": "code",
   "execution_count": 5,
   "metadata": {},
   "outputs": [
    {
     "name": "stdout",
     "output_type": "stream",
     "text": [
      "Enter the total fixed cost (in dollars): 5000\n",
      "Enter the variable cost per unit (in dollars): 5\n",
      "Enter the selling price per unit (in dollars): 10\n",
      "The breakeven point is at 1000.0 units.\n"
     ]
    }
   ],
   "source": [
    "# Example: breakeven using a void function - take 3, strange parameter names\n",
    "# What will happen here?\n",
    "def main():\n",
    " # Get user input\n",
    "    fixed_cost = float(input(\"Enter the total fixed cost (in dollars): \"))\n",
    "    variable_cost = float(input(\"Enter the variable cost per unit (in dollars): \"))\n",
    "    selling_price = float(input(\"Enter the selling price per unit (in dollars): \"))\n",
    " # call the breakeven function\n",
    "    breakeven(fixed_cost, variable_cost, selling_price)\n",
    "\n",
    "def breakeven(bread, apples, very_small_rocks):\n",
    " # calculate the breakeven point\n",
    "    toad_suck_daze = bread/(very_small_rocks-apples)  #breakeven formula\n",
    "\n",
    " #Display result to the screen\n",
    "    print(\"The breakeven point is at\", toad_suck_daze, \"units.\")\n",
    "\n",
    "# call the main() function\n",
    "main()"
   ]
  },
  {
   "cell_type": "markdown",
   "metadata": {},
   "source": [
    "## Value-returning functions\n",
    "Sometimes we want to perform a calculation and return a value. Creating value-returning functions allows us to create a function one time and use it repeatedly. \n",
    "\n",
    "The procedure is similar to creating a void function but wit hte addition of\n",
    "- the 'return' statement in the function (usually at the end), and\n",
    "- a variable in which to store the returned value in the calling statement.\n",
    "\n",
    "The void function call stands on its own. The call of a value-returning function has to be on the right side of an assignment statement.\n",
    "\n",
    "The value returned from a function can be any valid type. We may think of numbers most of the time, but it can also be a string or Boolean value.\n",
    "\n",
    "Cool Python trick: if you want to return more than one value from your, just put them all in the `return` statement (separated by commas) and use the necessary number of variables (separated by commas) on the left side of the calling assignment statement. They will be assigned in order. An example is coming up later."
   ]
  },
  {
   "cell_type": "code",
   "execution_count": 6,
   "metadata": {},
   "outputs": [
    {
     "name": "stdout",
     "output_type": "stream",
     "text": [
      "Enter the total fixed cost (in dollars): 300\n",
      "Enter the variable cost per unit (in dollars): 10\n",
      "Enter the selling price per unit (in dollars): 450\n",
      "The breakeven point is at 0.6818181818181818 units.\n"
     ]
    }
   ],
   "source": [
    "# Example: convert breakeven function to return a value\n",
    "# This is the void function version. Convert the code to return the breakeven units from the function.\n",
    "def main():\n",
    " # Get user input\n",
    "    fixed_cost = float(input(\"Enter the total fixed cost (in dollars): \"))\n",
    "    variable_cost = float(input(\"Enter the variable cost per unit (in dollars): \"))\n",
    "    selling_price = float(input(\"Enter the selling price per unit (in dollars): \"))\n",
    " # call the breakeven function\n",
    "    result = breakeven(fixed_cost, variable_cost, selling_price)\n",
    "    print(\"The breakeven point is at\", result, \"units.\")\n",
    "\n",
    "def breakeven(fixed, variable, sell):\n",
    " # calculate the breakeven point\n",
    "    breakeven_units = fixed/(sell-variable)  #breakeven formula\n",
    "    return breakeven_units\n",
    "\n",
    "\n",
    "# call the main() function\n",
    "main()\n"
   ]
  },
  {
   "attachments": {
    "image.png": {
     "image/png": "[encoded data removed]"
    }
   },
   "cell_type": "markdown",
   "metadata": {},
   "source": [
    "## Exercise: Cloud cover using functions\n",
    "Write a program that uses two functions to display the sky descriptor based upon the cloud cover percentage entered. Structure your program so it doesn’t use **_and_** or _**or**_.\n",
    "- Accept cloud cover percent from the user.\n",
    "- Pass it to a function that handles the “calculation.”\n",
    "- Return the descriptor.\n",
    "- Call an output function for display.\n",
    "\n",
    "Write all of your code in one cell.\n",
    "![image.png](attachment:image.png)"
   ]
  },
  {
   "cell_type": "code",
   "execution_count": 8,
   "metadata": {},
   "outputs": [
    {
     "name": "stdout",
     "output_type": "stream",
     "text": [
      "What is the percentage of cloud cover?: 99\n",
      "Great for Ducks\n"
     ]
    }
   ],
   "source": [
    "# Cloud cover using functions\n",
    "# Determine the descriptor value based upon the cloud cover percent.\n",
    "\n",
    "def cloud_cover(cvr_pct):\n",
    "    if cover_pct <= 30:\n",
    "        descriptor = 'Clear'\n",
    "    elif cover_pct <= 70:\n",
    "        descriptor = 'Partly Cloudy'\n",
    "    elif cover_pct <= 90:\n",
    "        descriptor = 'Cloudy'\n",
    "    else:\n",
    "        descriptor = 'Great for Ducks'\n",
    "        \n",
    "    return descriptor\n",
    "\n",
    "# This is the main program code\n",
    "cover_pct = int(input('What is the percentage of cloud cover?: '))\n",
    "\n",
    "text_out = cloud_cover(cover_pct)\n",
    "print(text_out)"
   ]
  },
  {
   "cell_type": "markdown",
   "metadata": {},
   "source": [
    "## Modules\n",
    "There are modules that come as part of Python, like the `math` module. You can also create your own modules by putting function code in a file with the .py extension.\n",
    "\n",
    "In both cases, we use the functions from the module by using the `import` keyword and the module name at the beginning of our code. This is usually the first line(s) of code in the file. Why do you think that is?\n",
    "\n",
    "Later in the code we use the module name and the function name in **dot notation** to access its functionality.\n",
    "\n",
    "Below are more breakeven examples that use some custom written functions stored in the `business.py` file (which should be in the same folder as your Notebook) and the `math` module. "
   ]
  },
  {
   "cell_type": "code",
   "execution_count": 10,
   "metadata": {},
   "outputs": [
    {
     "name": "stdout",
     "output_type": "stream",
     "text": [
      "Tax amount:  8.75\n",
      "\n",
      "Enter original price: 100\n",
      "Enter discount percent: .2\n",
      "New price: 80.0\n",
      "\n",
      "Calculated discount:  20.0\n",
      "Discount rounded up:  20\n",
      "\n",
      "Enter an ID number: 2\n",
      "Galahad A 92.3\n"
     ]
    }
   ],
   "source": [
    "# Example: breakeven with modules\n",
    "import math, business\n",
    "\n",
    "#single argument, parameter, and return value\n",
    "tax_amount = business.sales_tax(100)\n",
    "print('Tax amount: ', tax_amount)\n",
    "\n",
    "# two arguments & parameters, single return\n",
    "original = float(input('\\nEnter original price: '))\n",
    "disc_pct = float(input('Enter discount percent: '))\n",
    "discount_amount = business.markdown(original, disc_pct)\n",
    "print('New price: ' + str(original - discount_amount))\n",
    "\n",
    "# using a math function\n",
    "round_up = math.ceil(discount_amount)\n",
    "print('\\nCalculated discount: ', discount_amount)\n",
    "print('Discount rounded up: ', round_up)\n",
    "\n",
    "# one argument & parameter, multiple return values\n",
    "number = int(input('\\nEnter an ID number: '))\n",
    "student_name, student_grade, student_avg = business.grade_lookup(number)\n",
    "print(student_name, student_grade, student_avg)\n"
   ]
  },
  {
   "cell_type": "markdown",
   "metadata": {},
   "source": [
    "## Exercise: Temperature conversion\n",
    "Write a function that accepts a float value for temperature in degrees Celsius and returns the Farenheit value. The equation to convert is \n",
    "```\n",
    "degrees F = (degrees C * 1.8) + 32\n",
    "```\n",
    "\n",
    "Use your function by asking for a Celsius value and displaying the correct Farenheit value.\n",
    "\n",
    "A rule of thumb for travelers is handy for testing your program: 28C is approximately 82F. And of course 100C = 212F; 0C = 32F."
   ]
  },
  {
   "cell_type": "code",
   "execution_count": null,
   "metadata": {},
   "outputs": [],
   "source": []
  }
 ],
 "metadata": {
  "kernelspec": {
   "display_name": "Python 3",
   "language": "python",
   "name": "python3"
  },
  "language_info": {
   "codemirror_mode": {
    "name": "ipython",
    "version": 3
   },
   "file_extension": ".py",
   "mimetype": "text/x-python",
   "name": "python",
   "nbconvert_exporter": "python",
   "pygments_lexer": "ipython3",
   "version": "3.8.3"
  }
 },
 "nbformat": 4,
 "nbformat_minor": 2
}

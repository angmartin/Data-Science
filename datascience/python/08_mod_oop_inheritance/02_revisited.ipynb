{
 "cells": [
  {
   "cell_type": "markdown",
   "metadata": {
    "colab_type": "text",
    "id": "ckl7mcSK4JJm"
   },
   "source": [
    "Data Science Fundamentals: Python |\n",
    "[Table of Contents](../index.ipynb)\n",
    "- - - \n",
    "<!--NAVIGATION-->\n",
    "Module 8. | [Inheritance & Methods](./01_oop_inheritance.ipynb) | **[Sequences, Iterables, Generators Revisited](02_revisited.ipynb)** | [Super()](./03_super().ipynb) | [Exercises](./04_inheritance_methods_exercises.ipynb) | [Answers](./05_inheritance_methods_answers.ipynb)"
   ]
  },
  {
   "cell_type": "markdown",
   "metadata": {
    "colab_type": "text",
    "id": "Y6n8DU1e4JKm"
   },
   "source": [
    "# Sequences, iterables, generators: revisited\n",
    "\n",
    "In simple terms, a container is *iterable*, if we can go through all its elements using a `for` loop. All the sequences are iterable, but there are other iterable objects as well. We can even create iterable types ourselves. In our class there needs to be a special method `__iter__` that returns an *iterator* for the container. An iterator is an object that has method `__next__`, which returns the next element from the container. Let's have a look at a simple example where the container and its iterator is the same class."
   ]
  },
  {
   "cell_type": "code",
   "execution_count": 1,
   "metadata": {
    "colab": {},
    "colab_type": "code",
    "id": "gbhKCsee4JKm"
   },
   "outputs": [
    {
     "name": "stdout",
     "output_type": "stream",
     "text": [
      "Monday\n",
      "Tuesday\n",
      "Wednesday\n",
      "Thursday\n",
      "Friday\n",
      "Saturday\n",
      "Sunday\n"
     ]
    }
   ],
   "source": [
    "class WeekdayIterator(object):\n",
    "    \"\"\"Iterator over the weekdays.\"\"\"\n",
    "    def __init__(self):\n",
    "        self.i=0           # Start from Monday\n",
    "        self.weekdays = (\"Monday\",\"Tuesday\",\"Wednesday\",\"Thursday\",\"Friday\",\"Saturday\",\"Sunday\")\n",
    "    def __iter__(self):    # If this object were a container, then this method would return the iterator over the \n",
    "                           # elements of the container.\n",
    "        return self        # However, this object is already an iterator, hence we return self.\n",
    "    def __next__(self):    # Returns the next weekday\n",
    "        if self.i == 7:    \n",
    "            raise StopIteration # Signal that all weekdays were already iterated over\n",
    "        else:\n",
    "            weekday = self.weekdays[self.i]\n",
    "            self.i += 1\n",
    "            return weekday\n",
    "        \n",
    "for w in WeekdayIterator():\n",
    "    print(w)"
   ]
  },
  {
   "cell_type": "markdown",
   "metadata": {
    "colab_type": "text",
    "id": "1bPmhfNW4JKq"
   },
   "source": [
    "We can now check whether the WeekdayIterator is a Sequence type:"
   ]
  },
  {
   "cell_type": "code",
   "execution_count": 2,
   "metadata": {
    "colab": {},
    "colab_type": "code",
    "id": "YHess3-i4JKr"
   },
   "outputs": [
    {
     "name": "stdout",
     "output_type": "stream",
     "text": [
      "efg is a sequence\n",
      "[1, 2, 3] is a sequence\n",
      "(4, 5) is a sequence\n",
      "<__main__.WeekdayIterator object at 0x000001CCDC338D30> is not a sequence\n"
     ]
    }
   ],
   "source": [
    "from collections import abc  # Get the abstract base classes\n",
    "containers = [\"efg\", [1,2,3], (4,5), WeekdayIterator()]\n",
    "for c in containers:\n",
    "    if isinstance(c, abc.Sequence):\n",
    "        print(c, \"is a sequence\")\n",
    "    else:\n",
    "        print(c, \"is not a sequence\")"
   ]
  },
  {
   "cell_type": "markdown",
   "metadata": {
    "colab_type": "text",
    "id": "DvVllJYc4JKu"
   },
   "source": [
    "Weekday is not a sequence because, for instance, you cannot index it with the brackets `[]`, but it is an iterable:"
   ]
  },
  {
   "cell_type": "code",
   "execution_count": 3,
   "metadata": {
    "colab": {},
    "colab_type": "code",
    "id": "f_rRaMsY4JKu"
   },
   "outputs": [
    {
     "data": {
      "text/plain": [
       "True"
      ]
     },
     "execution_count": 3,
     "metadata": {},
     "output_type": "execute_result"
    }
   ],
   "source": [
    "isinstance(WeekdayIterator(), abc.Iterable)"
   ]
  },
  {
   "cell_type": "markdown",
   "metadata": {
    "colab_type": "text",
    "id": "7T0ljj9a4JKx"
   },
   "source": [
    "So it is possible to create iterators ourselves, but the syntax was quite complicated. There is an easier option using *generators*. A generator is a function that contains a `yield` statement. Note the difference between generators and generator expressions we saw in the first week. Both however produce iterables. Here's an example of a generator:"
   ]
  },
  {
   "cell_type": "code",
   "execution_count": 4,
   "metadata": {
    "ExecuteTime": {
     "end_time": "2019-06-13T15:53:43.557681Z",
     "start_time": "2019-06-13T15:53:43.547036Z"
    },
    "colab": {},
    "colab_type": "code",
    "id": "CQ97eBZ24JKx"
   },
   "outputs": [
    {
     "name": "stdout",
     "output_type": "stream",
     "text": [
      "Index 0, day 26, month 2\n",
      "Index 1, day 27, month 2\n",
      "Index 2, day 28, month 2\n",
      "Index 3, day 1, month 3\n",
      "Index 4, day 2, month 3\n"
     ]
    }
   ],
   "source": [
    "def mydate(day=1, month=1):   # Generates dates starting from the given date\n",
    "    lengths=(31,28,31,30,31,30,31,31,30,31,30,31)   # How many days in a month\n",
    "    first_day=day\n",
    "    for m in range(month, 13):\n",
    "        for d in range(first_day, lengths[m-1] + 1):\n",
    "            yield (d, m)\n",
    "        first_day=1\n",
    "# Create the generator by calling the function:        \n",
    "gen = mydate(26, 2)   # Start from 26th of February\n",
    "for i, (day, month) in enumerate(gen):   \n",
    "    if i == 5: break                 # Print only the first five dates from the generator\n",
    "    print(f\"Index {i}, day {day}, month {month}\")"
   ]
  },
  {
   "cell_type": "markdown",
   "metadata": {
    "colab_type": "text",
    "id": "Xr34bQ3N4JK0"
   },
   "source": [
    "Note that it would not be possible to write the above iterable using a generator expression, and it would have been very clumsy to explicitly write it as an iterator like we did the `WeekdayIterator`. The below figure shows the relationships between different iterables we have seen:\n",
    "\n",
    "![iterables.svg](https://github.com/csmastersUH/data_analysis_with_python_spring_2020/blob/master/iterables.svg?raw=1)"
   ]
  },
  {
   "cell_type": "code",
   "execution_count": 5,
   "metadata": {},
   "outputs": [
    {
     "name": "stderr",
     "output_type": "stream",
     "text": [
      "T:\\TechTalentSouth\\Programs\\New (2020.11)\\Anaconda\\lib\\site-packages\\IPython\\core\\display.py:717: UserWarning: Consider using IPython.display.IFrame instead\n",
      "  warnings.warn(\"Consider using IPython.display.IFrame instead\")\n"
     ]
    },
    {
     "data": {
      "text/html": [
       "<iframe width=\"560\" height=\"315\" src=\"https://www.youtube.com/embed/3ohzBxoFHAY?rel=0&amp;controls=0&amp;showinfo=0\" frameborder=\"0\" allowfullscreen></iframe>"
      ],
      "text/plain": [
       "<IPython.core.display.HTML object>"
      ]
     },
     "execution_count": 5,
     "metadata": {},
     "output_type": "execute_result"
    }
   ],
   "source": [
    "from IPython.display import HTML\n",
    "\n",
    "# Youtube\n",
    "HTML('<iframe width=\"560\" height=\"315\" src=\"https://www.youtube.com/embed/3ohzBxoFHAY?rel=0&amp;controls=0&amp;showinfo=0\" frameborder=\"0\" allowfullscreen></iframe>')\n"
   ]
  },
  {
   "cell_type": "code",
   "execution_count": 6,
   "metadata": {},
   "outputs": [],
   "source": [
    "# define the Vehicle class\n",
    "\n",
    "class Human:\n",
    "    name = \"\"\n",
    "    kind = \"car\"\n",
    "    color = \"\"\n",
    "    value = 100.00\n",
    "    def desc(self):\n",
    "        desc_str = \"%s is a %s %s worth $%.2f.\" % (self.name, self.color, self.kind, self.value)\n",
    "        return desc_str"
   ]
  },
  {
   "cell_type": "markdown",
   "metadata": {
    "colab_type": "text",
    "id": "c9w4NM514JK0"
   },
   "source": [
    "- - - \n",
    "<!--NAVIGATION-->\n",
    "Module 8. | [Inheritance & Methods](./01_oop_inheritance.ipynb) | **[Sequences, Iterables, Generators Revisited](02_revisited.ipynb)** | [Super()](./03_super().ipynb) | [Exercises](./04_inheritance_methods_exercises.ipynb) | [Answers](./05_inheritance_methods_answers.ipynb)\n",
    "[Top](#)"
   ]
  },
  {
   "cell_type": "markdown",
   "metadata": {},
   "source": [
    "- - -\n",
    "\n",
    "Copyright © 2020 Qualex Consulting Services Incorporated."
   ]
  }
 ],
 "metadata": {
  "colab": {
   "name": "basics2.ipynb",
   "provenance": []
  },
  "kernelspec": {
   "display_name": "Python 3",
   "language": "python",
   "name": "python3"
  },
  "language_info": {
   "codemirror_mode": {
    "name": "ipython",
    "version": 3
   },
   "file_extension": ".py",
   "mimetype": "text/x-python",
   "name": "python",
   "nbconvert_exporter": "python",
   "pygments_lexer": "ipython3",
   "version": "3.8.3"
  },
  "varInspector": {
   "cols": {
    "lenName": 16,
    "lenType": 16,
    "lenVar": 40
   },
   "kernels_config": {
    "python": {
     "delete_cmd_postfix": "",
     "delete_cmd_prefix": "del ",
     "library": "var_list.py",
     "varRefreshCmd": "print(var_dic_list())"
    },
    "r": {
     "delete_cmd_postfix": ") ",
     "delete_cmd_prefix": "rm(",
     "library": "var_list.r",
     "varRefreshCmd": "cat(var_dic_list()) "
    }
   },
   "types_to_exclude": [
    "module",
    "function",
    "builtin_function_or_method",
    "instance",
    "_Feature"
   ],
   "window_display": false
  }
 },
 "nbformat": 4,
 "nbformat_minor": 1
}

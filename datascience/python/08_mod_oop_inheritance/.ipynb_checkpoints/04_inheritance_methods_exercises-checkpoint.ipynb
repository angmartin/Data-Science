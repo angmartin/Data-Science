{
 "cells": [
  {
   "cell_type": "markdown",
   "metadata": {},
   "source": [
    "Data Science Fundamentals: Python |\n",
    "[Table of Contents](../index.ipynb)\n",
    "- - - \n",
    "<!--NAVIGATION-->\n",
    "Module 8. | [Inheritance & Methods](./01_oop_inheritance.ipynb) | [Sequences, Iterables, Generators Revisited](02_revisited.ipynb) | [Super()](./03_super().ipynb) | **[Exercises](./04_inheritance_methods_exercises.ipynb)** | [Answers](./05_inheritance_methods_answers.ipynb)"
   ]
  },
  {
   "cell_type": "markdown",
   "metadata": {},
   "source": [
    "# Module 8: Practice Exercises"
   ]
  },
  {
   "cell_type": "markdown",
   "metadata": {},
   "source": [
    "## Exercise 1. "
   ]
  },
  {
   "cell_type": "markdown",
   "metadata": {},
   "source": [
    "You are given two classes, Person and Student, where Person is the base class and Student is the derived class. Completed code for Person and a declaration for Student are provided for you in the editor. Observe that Student inherits all the properties of Person.\n",
    "\n",
    "Complete the Student class by writing the following:\n",
    "\n",
    "A Student class constructor, which has 4 parameters:\n",
    "- A string, firstName\n",
    "- A string, lastName\n",
    "- An integer, id\n",
    "An integer array (or vector) of test scores, scores\n",
    "\n",
    "A char **calculate()** method that calculates a Student object's average and returns the grade character representative of their calculated average:\n",
    "```\n",
    "A | 90-100\n",
    "B | 80-89\n",
    "C | 70-79\n",
    "D | 60-69\n",
    "F | <60\n",
    "```"
   ]
  },
  {
   "cell_type": "code",
   "execution_count": null,
   "metadata": {},
   "outputs": [],
   "source": [
    "class Person:\n",
    "    '''Docstring Here'''\n",
    "    def __init__(self,fname,lname):\n",
    "        self.fname = fname\n",
    "        self.lname = lname\n",
    "        \n",
    "class Student(#argument):\n",
    "    \"\"\"docstring here\"\"\"\n",
    "    def __init__(#arguments):\n",
    "        self.id = int(student_id)\n",
    "        Person.__init__(self, fname, lname)\n",
    "        \n",
    "    def calculate(self,list):\n",
    "        \"\"\"docstring here\"\"\"\n",
    "        #grade calculation goes here\n",
    "        \n",
    "person1 = Student(str(input(\"First name: \")),str(input(\"Last name: \")), int(input(\"Student ID: \")))\n",
    "grades = input(\"Enter a list of grades separated by space: \")\n",
    "grades = list(map(int, grades.split()))\n",
    "person1.calculate(grades)"
   ]
  },
  {
   "cell_type": "markdown",
   "metadata": {},
   "source": [
    "- - - \n",
    "<!--NAVIGATION-->\n",
    "Module 8. | [Inheritance & Methods](./01_oop_inheritance.ipynb) | [Sequences, Iterables, Generators Revisited](02_revisited.ipynb) | [Super()](./03_super().ipynb) | **[Exercises](./04_inheritance_methods_exercises.ipynb)** | [Answers](./05_inheritance_methods_answers.ipynb)\n",
    "[Top](#)"
   ]
  },
  {
   "cell_type": "markdown",
   "metadata": {},
   "source": [
    "- - -\n",
    "\n",
    "Copyright © 2020 Qualex Consulting Services Incorporated."
   ]
  }
 ],
 "metadata": {
  "kernelspec": {
   "display_name": "Python 3",
   "language": "python",
   "name": "python3"
  },
  "language_info": {
   "codemirror_mode": {
    "name": "ipython",
    "version": 3
   },
   "file_extension": ".py",
   "mimetype": "text/x-python",
   "name": "python",
   "nbconvert_exporter": "python",
   "pygments_lexer": "ipython3",
   "version": "3.8.3"
  }
 },
 "nbformat": 4,
 "nbformat_minor": 4
}

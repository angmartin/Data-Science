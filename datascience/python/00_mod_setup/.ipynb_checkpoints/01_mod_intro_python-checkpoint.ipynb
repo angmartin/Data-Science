{
 "cells": [
  {
   "cell_type": "markdown",
   "metadata": {},
   "source": [
    "Data Science Fundamentals: Python |\n",
    "[Table of Contents](../index.ipynb)\n",
    "- - - \n",
    "<!--NAVIGATION-->\n",
    "Module 0. **[Introduction To Python](./01_mod_intro_python.ipynb)** | [How To Run Python Code](./02_how_to_run_python_code.ipynb)"
   ]
  },
  {
   "cell_type": "markdown",
   "metadata": {
    "collapsed": true
   },
   "source": [
    "# INTRODUCTION TO PYTHON\n",
    "---\n",
    "Introduction to Python is a resource for students who want to learn Python as their first language."
   ]
  },
  {
   "cell_type": "markdown",
   "metadata": {},
   "source": [
    "## PYTHON VERNACULAR \n",
    "---\n",
    "**PyPi** or the Python Package Index (PyPI) is a repository of software for the Python programming language. PyPI helps you find and install software developed and shared by the Python community. Learn about installing packages. Package authors use PyPI to distribute their software. [See all packages here](https://pypi.org/).\n",
    "\n",
    "An **API** is not a collection of code per se - it is more like a \"protocol\" specification how various parts (usually libraries) communicate with each other. There are a few notable \"standard\" APIs in python. E.g. the [DB API](https://www.python.org/dev/peps/pep-0249/).\n",
    "\n",
    "A **LIBRARY** is anything that is not an application - in python, a library is a module - usually with submodules. The scope of a library is quite variable - for example the python standard library is vast (with quite a few submodules) while there are lots of single purpose libraries in the PyPi.\n",
    "\n",
    "A **PACKAGE** is a [collection of python modules under a common namespace](https://docs.python.org/2/tutorial/modules.html#packages). In practice one is created by placing multiple python modules in a directory with a special __init__.py module (file).\n",
    "\n",
    "A **MODULE** is a [single file of python code that is meant to be imported](https://docs.python.org/2/tutorial/modules.html#modules). This is a bit of a simplification since in practice quite a few modules [detect when they are run as script and do something special in that case](http://ibiblio.org/g2swap/byteofpython/read/module-name.html). It's used if you want to use a handy function that you’ve written in several programs without copying its definition into each program.\n",
    "\n",
    "A **SCRIPT** is a single file of python code that is meant to be executed as the 'main' program.\n",
    "\n",
    "If you have a set of code that spans multiple files, you probably have an **APPLICATION** instead of script.\n",
    "\n",
    "**PIP** is a de facto standard package-management system used to install and manage software packages written in Python. The name was created by Bicking himself, the name is an acronym for **\"Pip Installs Packages\"**."
   ]
  },
  {
   "cell_type": "markdown",
   "metadata": {},
   "source": [
    "## WHAT ARE THE LATEST AND GREATEST VERSIONS OF PYTHON?\n",
    "--\n",
    "\n",
    "[Python 2.7.18 is the absolute last official release for Python 2](https://stackoverflow.blog/2020/04/23/the-final-python-2-release-marks-the-end-of-an-era/).  No more Python 2 versions will be created.\n",
    "\n",
    "The latest and greatest Python 3 is [Python 3.8.2](https://www.python.org/downloads/release/python-382/).  \n",
    "\n",
    "## WHY ARE THERE TWO VERSIONS OF PYTHON?\n",
    "--\n",
    "\n",
    "There are three main reasons for having Python 2.7.18 and 3.8.2.\n",
    "\n",
    "- **Reason 1.** \n",
    "\n",
    "Provide proper support for international characters. Python 1.x only supported 8 bit strings, which meant that a program could work with e.g. English text, or Russian text, Vietnamese text, but you could for instance not have both Vietnamese and Russian letters in the same string, and Python didn’t track encodings for you. \n",
    "\n",
    "Python 2.0 introduced Unicode, which meant that you could work with international text, but it was a bit of an add-on. \n",
    "\n",
    "With Python 3.0, the normal strings are fully international Unicode strings, and 8-bit strings have their own types.\n",
    "Get rid of stupid mistakes, such as integer division being floor division, and print and exec being statements rather than functions.\n",
    "\n",
    "- **Reason 2.**\n",
    "\n",
    "Other changes occurred, such as standard library cleanups and changes in the C extension API.\n",
    "\n",
    "Since this meant that the effort of porting from 2.x to 3.y was much higher than previous 2.x to 2.y upgrades, it was decided to maintain 2.7 for a long time.\n",
    "\n",
    "For many years, developers have kind of been waiting for each other. There was no point supporting 3.x with your libs if few people used it, and there was no point trying to start using 3.x if the libs you wanted weren’t ported.\n",
    "\n",
    "- **Reason 3.** \n",
    "\n",
    "By now, everything you might need to likely to be ported, and it’s really just laziness that stops most Python 2.7.18 developers from using 3.8.2."
   ]
  },
  {
   "cell_type": "markdown",
   "metadata": {},
   "source": [
    "**[See this cheat sheet on Python compatiblity](http://python-future.org/compatible_idioms.pdf)**"
   ]
  },
  {
   "cell_type": "markdown",
   "metadata": {},
   "source": [
    "INSTALLING PYTHON DISTRIBUTION PACKAGES\n",
    "---"
   ]
  },
  {
   "cell_type": "markdown",
   "metadata": {},
   "source": [
    "The following command will install the latest version of a module and its dependencies from the [Python Packaging Index](https://pypi.python.org/pypi) and see the [100/1000/4000 most downloaded packages over the last 365 days](https://hugovk.github.io/top-pypi-packages/)"
   ]
  },
  {
   "cell_type": "raw",
   "metadata": {},
   "source": [
    "python -m pip install SomePackage"
   ]
  },
  {
   "cell_type": "markdown",
   "metadata": {},
   "source": [
    "It’s also possible to specify an exact or minimum version directly on the command line. When using comparator operators such as >, < or some other special character which get interpreted by shell, the package name and the version should be enclosed within double quotes:"
   ]
  },
  {
   "cell_type": "raw",
   "metadata": {},
   "source": [
    "python -m pip install SomePackage==1.0.4    # specific version\n",
    "python -m pip install \"SomePackage>=1.0.4\"  # minimum version"
   ]
  },
  {
   "cell_type": "markdown",
   "metadata": {},
   "source": [
    "Normally, if a suitable module is already installed, attempting to install it again will have no effect. Upgrading existing modules must be requested explicitly:"
   ]
  },
  {
   "cell_type": "raw",
   "metadata": {},
   "source": [
    "python -m pip install --upgrade SomePackage"
   ]
  },
  {
   "cell_type": "markdown",
   "metadata": {},
   "source": [
    "Top 20 Python Libraries\n",
    "---"
   ]
  },
  {
   "cell_type": "markdown",
   "metadata": {},
   "source": [
    "1. <b>Requests.</b> The most famous http library written by kenneth reitz. It’s a must have for every python developer.\n",
    "\n",
    "2. <b>Scrapy.</b> If you are involved in webscraping then this is a must have library for you. After using this library you won’t use any other.\n",
    "\n",
    "3. <b>Plotly.</b> Python plotting library for collaborative, interactive, publication-quality graphs.\n",
    "\n",
    "4. <b>Pillow.</b> A friendly fork of PIL (Python Imaging Library). It is more user friendly than PIL and is a must have for anyone who works with images.\n",
    "\n",
    "5. <b>SQLAlchemy.</b> A database library. Many love it and many hate it. The choice is yours.\n",
    "\n",
    "6. <b>BeautifulSoup.</b> I know it’s slow but this xml and html parsing library is very useful for beginners.\n",
    "\n",
    "7. <b>Twisted.</b> The most important tool for any network application developer. It has a very beautiful api and is used by a lot of famous python developers.\n",
    "\n",
    "8. **[NumPy](https://numpy.org/). Module 9** NumPy is a library for the Python programming language, adding support for large, multi-dimensional arrays and matrices, along with a large collection of high-level mathematical functions to operate on these arrays.\n",
    "\n",
    "9. <b>SciPy.</b> When we talk about NumPy then we have to talk about scipy. It is a library of algorithms and mathematical tools for python and has caused many scientists to switch from ruby to python.\n",
    "\n",
    "10. **[matplotlib](https://matplotlib.org/). Module 11** A numerical plotting library. It is very useful for any data scientist or any data analyzer.\n",
    "\n",
    "11. <b>Boto.</b> Boto is a Python package that provides interfaces to Amazon Web Services. \n",
    "\n",
    "12. <b>simplejson.</b> simplejson is a simple, fast, complete, correct and extensible JSON <http://json.org> encoder and decoder for Python 2.5+ and Python 3.3+.\n",
    "\n",
    "13. <b>pyQT.</b> A GUI toolkit for python. It is my second choice after wxpython for developing GUI’s for my python scripts.\n",
    "\n",
    "14. <b>pyGtk.</b> Another python GUI library. It is the same library in which the famous Bittorrent client is created.\n",
    "\n",
    "15. <b>Scapy.</b> A packet sniffer and analyzer for python made in python.\n",
    "\n",
    "16. <b>seaborn.</b> A python library which provides statistical data visualization.\n",
    "\n",
    "17. <b>nltk.</b> Natural Language Toolkit – I realize most people won’t be using this one, but it’s generic enough. It is a very useful library if you want to manipulate strings. But it’s capacity is beyond that. Do check it out.\n",
    "\n",
    "18. <b>nose.</b> A testing framework for python. It is used by millions of python developers. It is a must have if you do test driven development.\n",
    "\n",
    "19. <b>SymPy.</b> SymPy can do algebraic evaluation, differentiation, expansion, complex numbers, etc. It is contained in a pure Python distribution.\n",
    "\n",
    "20. **[scikit-learn](https://scikit-learn.org/stable/). Module 12** Scikit-learn (formerly scikits.learn and also known as sklearn) is a free software machine learning library for the Python programming language. It features various classification, regression and clustering algorithms including support vector machines, random forests, gradient boosting, k-means and DBSCAN, and is designed to interoperate with the Python numerical and scientific libraries NumPy and SciPy. "
   ]
  },
  {
   "cell_type": "markdown",
   "metadata": {},
   "source": [
    "## Honorable Mentions\n",
    "---\n",
    "\n",
    "- **[Pandas](https://pandas.pydata.org/). Module 10**. is a fast, powerful, flexible and easy to use open source data analysis and manipulation tool, built on top of the Python programming language."
   ]
  },
  {
   "cell_type": "raw",
   "metadata": {},
   "source": [
    "python -m pip install Requests Scrapy plotly Pillow SQLAlchemy BeautifulSoup Twisted NumPy SciPy matplotlib boto simplejson pyQT pyGtk Scapy pywin32 nltk nose SymPy"
   ]
  },
  {
   "cell_type": "markdown",
   "metadata": {},
   "source": [
    "![caption](../files/pip.png)"
   ]
  },
  {
   "cell_type": "markdown",
   "metadata": {},
   "source": [
    "If Packages already installed, feel free to upgrade by submitting the following command"
   ]
  },
  {
   "cell_type": "raw",
   "metadata": {},
   "source": [
    "python -m pip install Requests Scrapy wxPython Pillow SQLAlchemy BeautifulSoup Twisted NumPy SciPy matplotlib boto simplejson pyQT pyGtk Scapy pywin32 nltk nose SymPy --upgrade"
   ]
  },
  {
   "cell_type": "markdown",
   "metadata": {},
   "source": [
    "Also don't forget to upgrade PIP by issuing the following command"
   ]
  },
  {
   "cell_type": "raw",
   "metadata": {},
   "source": [
    "pip install --upgrade pip"
   ]
  },
  {
   "cell_type": "markdown",
   "metadata": {},
   "source": [
    "To list out all packages installed locally issue the following command"
   ]
  },
  {
   "cell_type": "raw",
   "metadata": {},
   "source": [
    "pip list"
   ]
  },
  {
   "cell_type": "markdown",
   "metadata": {},
   "source": [
    "To list all package versions installed locally issue the following command "
   ]
  },
  {
   "cell_type": "raw",
   "metadata": {},
   "source": [
    "pip freeze"
   ]
  },
  {
   "cell_type": "markdown",
   "metadata": {},
   "source": [
    "![caption](../files/top10.png)"
   ]
  },
  {
   "cell_type": "markdown",
   "metadata": {},
   "source": [
    "- - - \n",
    "<!--NAVIGATION-->\n",
    "Module 0. **[Introduction To Python](./01_mod_intro_python.ipynb)** | [How To Run Python Code](./02_how_to_run_python_code.ipynb)\n",
    "<br>\n",
    "[Top](#)"
   ]
  },
  {
   "cell_type": "markdown",
   "metadata": {},
   "source": [
    "- - -\n",
    "\n",
    "Copyright © 2020 Qualex Consulting Services Incorporated."
   ]
  }
 ],
 "metadata": {
  "kernelspec": {
   "display_name": "Python 3",
   "language": "python",
   "name": "python3"
  },
  "language_info": {
   "codemirror_mode": {
    "name": "ipython",
    "version": 3
   },
   "file_extension": ".py",
   "mimetype": "text/x-python",
   "name": "python",
   "nbconvert_exporter": "python",
   "pygments_lexer": "ipython3",
   "version": "3.7.7"
  }
 },
 "nbformat": 4,
 "nbformat_minor": 1
}

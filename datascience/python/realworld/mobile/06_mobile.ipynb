{
 "cells": [
  {
   "cell_type": "markdown",
   "metadata": {},
   "source": [
    "Data Science Fundamentals: Python |\n",
    "[Table of Contents](../../index.ipynb)\n",
    "- - - \n",
    "<!--NAVIGATION-->\n",
    "Real World Examples: [Web Scraping](../web_scraping/01_rw_web_scraping.ipynb) | [Automation](../automation/02_rw_automation.ipynb) | [Messaging](../messaging/03_rw_messaging.ipynb) | [CSV](../csv/04_rw_csv.ipynb) | [Games](../games/05_games.ipynb) | **[Mobile](./06_mobile.ipynb)** | [Computer Vision](../computer_vision/08_computer_vision.ipynb) | [Chatbot](../chatbot/10_chatbot.ipynb) | [Built-In Database](../database/11_database.ipynb)\n",
    "- - -\n",
    "Life Examples: [COVID-19](../COVID-19/COVID-19_visualizations-plotly.ipynb) | [Police Brutality](https://maminian.github.io/brutality-map/) | [Spanish Flu](../spanishflu/index.ipynb)"
   ]
  },
  {
   "cell_type": "markdown",
   "metadata": {},
   "source": [
    "# Creating Mobile Apps using Python"
   ]
  },
  {
   "cell_type": "markdown",
   "metadata": {},
   "source": [
    "## Using [Kivy](https://github.com/kivy/kivy)\n",
    "\n",
    "Kivy is an Open source Python library for rapid development of applications that make use of innovative user interfaces, such as multi-touch apps.\n",
    "\n",
    "- **Cross-Platforms** \n",
    "\n",
    "Kivy runs on Linux, Windows, OS X, Android, iOS, and Raspberry Pi. You can run the same code on all supported platforms. It can natively use most inputs, protocols and devices including WM_Touch, WM_Pen, Mac OS X Trackpad and Magic Mouse, Mtdev, Linux Kernel HID, TUIO. A multi-touch mouse simulator is included.\n",
    "\n",
    "- **Business-Friendly**\n",
    "\n",
    "Kivy is 100% free to use, under an MIT license (starting from 1.7.2) and LGPL 3 for the previous versions. The toolkit is professionally developed, backed and used. You can use it in a commercial product. The framework is stable and has a well documented API, plus a programming guide to help you get started.\n",
    "\n",
    "- **GPU Accelerated**\n",
    "\n",
    "The graphics engine is built over OpenGL ES 2, using a modern and fast graphics pipeline.  The toolkit comes with more than 20 widgets, all highly extensible. Many parts are written in C using Cython, and tested with regression tests.\n",
    "\n",
    "\n",
    "***Sister development is [Buildozer](https://github.com/kivy/buildozer)***\n",
    "\n",
    "### [See Documentation](https://buildmedia.readthedocs.org/media/pdf/kivy/latest/kivy.pdf)"
   ]
  },
  {
   "cell_type": "markdown",
   "metadata": {},
   "source": [
    "- - -\n",
    "## Installation"
   ]
  },
  {
   "cell_type": "markdown",
   "metadata": {},
   "source": [
    "[Installation on Mac OS](https://kivy.org/doc/stable/installation/installation-osx.html)"
   ]
  },
  {
   "cell_type": "markdown",
   "metadata": {},
   "source": [
    "[Installation on Windows 10+](https://kivy.org/doc/stable/installation/installation-windows.html)"
   ]
  },
  {
   "cell_type": "markdown",
   "metadata": {},
   "source": [
    "- - - "
   ]
  },
  {
   "cell_type": "markdown",
   "metadata": {},
   "source": [
    "## App Packaging"
   ]
  },
  {
   "cell_type": "markdown",
   "metadata": {},
   "source": [
    "[App Packaging For iOS](https://kivy.org/doc/stable/guide/packaging-ios.html)"
   ]
  },
  {
   "cell_type": "markdown",
   "metadata": {},
   "source": [
    "[App Packaging For Android](https://kivy.org/doc/stable/guide/packaging-android.html) | [Download Kivy **Touchtracer** App From Google Play](https://play.google.com/store/apps/details?id=org.kivy.touchtracer)"
   ]
  },
  {
   "cell_type": "markdown",
   "metadata": {},
   "source": [
    "- - - "
   ]
  },
  {
   "cell_type": "raw",
   "metadata": {},
   "source": [
    "pip install kivy"
   ]
  },
  {
   "cell_type": "markdown",
   "metadata": {},
   "source": [
    "Find the the following python program `files/firstkivy.py` from the `files/` location."
   ]
  },
  {
   "cell_type": "raw",
   "metadata": {},
   "source": [
    "import kivy\n",
    "kivy.require('1.0.0')\n",
    "\n",
    "from kivy.app import App\n",
    "from kivy.uix.button import Button\n",
    "\n",
    "class MyApp(App):\n",
    "    def build(self):\n",
    "        return Button(text='Hello World')\n",
    "\n",
    "if __name__ in ('__android__', '__main__'):\n",
    "    MyApp().run()"
   ]
  },
  {
   "cell_type": "markdown",
   "metadata": {},
   "source": [
    "- - - \n",
    "<!--NAVIGATION-->\n",
    "Real World Examples: [Web Scraping](../web_scraping/01_rw_web_scraping.ipynb) | [Automation](../automation/02_rw_automation.ipynb) | [Messaging](../messaging/03_rw_messaging.ipynb) | [CSV](../csv/04_rw_csv.ipynb) | [Games](../games/05_games.ipynb) | **[Mobile](./06_mobile.ipynb)** | [Feature Engineering](../feature_engineering/07_feature-engineering.ipynb) | [Computer Vision](../computer_vision/08_computer_vision.ipynb) | [Chatbot](../chatbot/10_chatbot.ipynb)"
   ]
  },
  {
   "cell_type": "markdown",
   "metadata": {},
   "source": [
    "- - -\n",
    "\n",
    "Copyright © 2020 Qualex Consulting Services Incorporated."
   ]
  },
  {
   "cell_type": "code",
   "execution_count": null,
   "metadata": {},
   "outputs": [],
   "source": []
  }
 ],
 "metadata": {
  "kernelspec": {
   "display_name": "Python 3",
   "language": "python",
   "name": "python3"
  },
  "language_info": {
   "codemirror_mode": {
    "name": "ipython",
    "version": 3
   },
   "file_extension": ".py",
   "mimetype": "text/x-python",
   "name": "python",
   "nbconvert_exporter": "python",
   "pygments_lexer": "ipython3",
   "version": "3.8.5"
  }
 },
 "nbformat": 4,
 "nbformat_minor": 4
}

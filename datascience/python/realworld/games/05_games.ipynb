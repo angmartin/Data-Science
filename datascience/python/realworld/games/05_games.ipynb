{
 "cells": [
  {
   "cell_type": "markdown",
   "metadata": {},
   "source": [
    "Data Science Fundamentals: Python |\n",
    "[Table of Contents](../../index.ipynb)\n",
    "- - - \n",
    "<!--NAVIGATION-->\n",
    "Real World Examples: [Web Scraping](../web_scraping/01_rw_web_scraping.ipynb) | [Automation](../automation/02_rw_automation.ipynb) | [Messaging](../messaging/03_rw_messaging.ipynb) | [CSV](../csv/04_rw_csv.ipynb) | **[Games](./05_games.ipynb)** | [Mobile](../mobile/06_mobile.ipynb) | [Computer Vision](../computer_vision/08_computer_vision.ipynb) | [Chatbot](../chatbot/10_chatbot.ipynb) | [Built-In Database](../database/11_database.ipynb)\n",
    "\n",
    "- - -\n",
    "Life Examples: [COVID-19](../COVID-19/COVID-19_visualizations-plotly.ipynb) | [Police Brutality](https://maminian.github.io/brutality-map/) | [Spanish Flu](../spanishflu/index.ipynb)"
   ]
  },
  {
   "cell_type": "markdown",
   "metadata": {},
   "source": [
    "# Creating Games Using Python"
   ]
  },
  {
   "cell_type": "markdown",
   "metadata": {},
   "source": [
    "## Using [Pygame](https://pypi.org/project/pygame/)\n",
    "[Official Website](https://www.pygame.org/)"
   ]
  },
  {
   "cell_type": "markdown",
   "metadata": {},
   "source": [
    "[Invent Your Own Computer Games with Python - **Online**](http://inventwithpython.com/invent4thed/) and [Making Games with\n",
    "Python & Pygame - **PDF**](files/makinggames.pdf) teaches you how to program in the Python language. Each chapter gives you the complete source code for a new game, and then teaches the programming concepts from the examples. "
   ]
  },
  {
   "cell_type": "code",
   "execution_count": 1,
   "metadata": {},
   "outputs": [
    {
     "name": "stdout",
     "output_type": "stream",
     "text": [
      "You are in a land full of dragons. In front of you, you see two caves. \n",
      "    In one cave, the dragon is friendly and will share his treasure with you. \n",
      "    The other dragon is greedy and hungry, and will eat you on sight.\n",
      "\n",
      "Which cave will you go into? (1 or 2)\n",
      "2\n",
      "You approach the cave...\n",
      "It is dark and spooky...\n",
      "A large dragon jumps out in front of you! He opens his jaws and...\n",
      "\n",
      "Gives you his treasure!\n",
      "Do you want to play again? (yes or no)\n",
      "no\n"
     ]
    }
   ],
   "source": [
    "import random\n",
    "import time\n",
    "\n",
    "def displayIntro():\n",
    "    print('''You are in a land full of dragons. In front of you, you see two caves. \n",
    "    In one cave, the dragon is friendly and will share his treasure with you. \n",
    "    The other dragon is greedy and hungry, and will eat you on sight.''')\n",
    "    \n",
    "    print()\n",
    "\n",
    "def chooseCave():\n",
    "     cave = ''\n",
    "     while cave != '1' and cave != '2':\n",
    "         print('Which cave will you go into? (1 or 2)')\n",
    "         cave = input()\n",
    "\n",
    "     return cave\n",
    "\n",
    "def checkCave(chosenCave):\n",
    "     print('You approach the cave...')\n",
    "     time.sleep(2)\n",
    "     print('It is dark and spooky...')\n",
    "     time.sleep(2)\n",
    "     print('A large dragon jumps out in front of you! He opens his jaws and...')\n",
    "     print()\n",
    "     time.sleep(2)\n",
    "\n",
    "     friendlyCave = random.randint(1, 2)\n",
    "\n",
    "     if chosenCave == str(friendlyCave):\n",
    "         print('Gives you his treasure!')\n",
    "     else:\n",
    "         print('Gobbles you down in one bite!')\n",
    "\n",
    "playAgain = 'yes'\n",
    "\n",
    "while playAgain == 'yes' or playAgain == 'y':\n",
    "     displayIntro()\n",
    "     caveNumber = chooseCave()\n",
    "     checkCave(caveNumber)\n",
    "\n",
    "     print('Do you want to play again? (yes or no)')\n",
    "     playAgain = input()"
   ]
  },
  {
   "cell_type": "markdown",
   "metadata": {},
   "source": [
    "### Tic-Tac-Toe"
   ]
  },
  {
   "cell_type": "code",
   "execution_count": 2,
   "metadata": {},
   "outputs": [
    {
     "name": "stdout",
     "output_type": "stream",
     "text": [
      "Welcome to Tic-Tac-Toe!\n",
      "Do you want to be X or O?\n",
      "O\n",
      "The computer will go first.\n",
      " | |X\n",
      "-+-+-\n",
      " | | \n",
      "-+-+-\n",
      " | | \n",
      "What is your next move? (1-9)\n",
      "2\n",
      "X| |X\n",
      "-+-+-\n",
      " | | \n",
      "-+-+-\n",
      " |O| \n",
      "What is your next move? (1-9)\n",
      "7\n",
      "What is your next move? (1-9)\n",
      "5\n",
      "X|X|X\n",
      "-+-+-\n",
      " |O| \n",
      "-+-+-\n",
      " |O| \n",
      "The computer has beaten you! You lose.\n",
      "Do you want to play again? (yes or no)\n",
      "yes\n",
      "Do you want to be X or O?\n",
      "X\n",
      "The computer will go first.\n",
      " | | \n",
      "-+-+-\n",
      " | | \n",
      "-+-+-\n",
      " | |O\n",
      "What is your next move? (1-9)\n",
      "9\n",
      "O| |X\n",
      "-+-+-\n",
      " | | \n",
      "-+-+-\n",
      " | |O\n",
      "What is your next move? (1-9)\n",
      "5\n",
      "O| |X\n",
      "-+-+-\n",
      " |X| \n",
      "-+-+-\n",
      "O| |O\n",
      "What is your next move? (1-9)\n",
      "2\n",
      "O| |X\n",
      "-+-+-\n",
      "O|X| \n",
      "-+-+-\n",
      "O|X|O\n",
      "The computer has beaten you! You lose.\n",
      "Do you want to play again? (yes or no)\n",
      "8\n"
     ]
    }
   ],
   "source": [
    "# Tic-Tac-Toe\n",
    "\n",
    "import random\n",
    "\n",
    "def drawBoard(board):\n",
    "    # This function prints out the board that it was passed.\n",
    "\n",
    "     # \"board\" is a list of 10 strings representing the board (ignore index 0).\n",
    "     print(board[7] + '|' + board[8] + '|' + board[9])\n",
    "     print('-+-+-')\n",
    "     print(board[4] + '|' + board[5] + '|' + board[6])\n",
    "     print('-+-+-')\n",
    "     print(board[1] + '|' + board[2] + '|' + board[3])\n",
    "\n",
    "def inputPlayerLetter():\n",
    "     # Lets the player type which letter they want to be.\n",
    "     # Returns a list with the player's letter as the first item and the computer's letter as the second.\n",
    "     letter = ''\n",
    "     while not (letter == 'X' or letter == 'O'):\n",
    "         print('Do you want to be X or O?')\n",
    "         letter = input().upper()\n",
    "\n",
    "     # The first element in the list is the player's letter; the second is the computer's letter.\n",
    "     if letter == 'X':\n",
    "         return ['X', 'O']\n",
    "     else:\n",
    "         return ['O', 'X']\n",
    "\n",
    "def whoGoesFirst():\n",
    "     # Randomly choose which player goes first.\n",
    "     if random.randint(0, 1) == 0:\n",
    "         return 'computer'\n",
    "     else:\n",
    "         return 'player'\n",
    "\n",
    "def makeMove(board, letter, move):\n",
    "     board[move] = letter\n",
    "\n",
    "def isWinner(bo, le):\n",
    "     # Given a board and a player's letter, this function returns True if that player has won.\n",
    "     # We use \"bo\" instead of \"board\" and \"le\" instead of \"letter\" so we don't have to type as much.\n",
    "    return ((bo[7] == le and bo[8] == le and bo[9] == le) or # Across the top\n",
    "     (bo[4] == le and bo[5] == le and bo[6] == le) or # Across the middle\n",
    "     (bo[1] == le and bo[2] == le and bo[3] == le) or # Across the bottom\n",
    "     (bo[7] == le and bo[4] == le and bo[1] == le) or # Down the left side\n",
    "     (bo[8] == le and bo[5] == le and bo[2] == le) or # Down the middle\n",
    "     (bo[9] == le and bo[6] == le and bo[3] == le) or # Down the right side\n",
    "     (bo[7] == le and bo[5] == le and bo[3] == le) or # Diagonal\n",
    "     (bo[9] == le and bo[5] == le and bo[1] == le)) # Diagonal\n",
    "\n",
    "def getBoardCopy(board):\n",
    "     # Make a copy of the board list and return it.\n",
    "     boardCopy = []\n",
    "     for i in board:\n",
    "         boardCopy.append(i)\n",
    "     return boardCopy\n",
    "\n",
    "def isSpaceFree(board, move):\n",
    "     # Return True if the passed move is free on the passed board.\n",
    "     return board[move] == ' '\n",
    "\n",
    "def getPlayerMove(board):\n",
    "     # Let the player enter their move.\n",
    "     move = ' '\n",
    "     while move not in '1 2 3 4 5 6 7 8 9'.split() or not isSpaceFree(board, int(move)):\n",
    "            print('What is your next move? (1-9)')\n",
    "            move = input()\n",
    "     return int(move)\n",
    "\n",
    "def chooseRandomMoveFromList(board, movesList):\n",
    "    # Returns a valid move from the passed list on the passed board.\n",
    "    # Returns None if there is no valid move.\n",
    "     possibleMoves = []\n",
    "     for i in movesList:\n",
    "         if isSpaceFree(board, i):\n",
    "             possibleMoves.append(i)\n",
    "\n",
    "     if len(possibleMoves) != 0:\n",
    "         return random.choice(possibleMoves)\n",
    "     else:\n",
    "         return None\n",
    "\n",
    "def getComputerMove(board, computerLetter):\n",
    "     # Given a board and the computer's letter, determine where to move and return that move.\n",
    "     if computerLetter == 'X':\n",
    "         playerLetter = 'O'\n",
    "     else:\n",
    "         playerLetter = 'X'\n",
    "\n",
    "     # Here is the algorithm for our Tic-Tac-Toe AI:\n",
    "     # First, check if we can win in the next move.\n",
    "        \n",
    "     for i in range(1, 10):\n",
    "         boardCopy = getBoardCopy(board)\n",
    "         if isSpaceFree(boardCopy, i):\n",
    "             makeMove(boardCopy, computerLetter, i)\n",
    "             if isWinner(boardCopy, computerLetter):\n",
    "                 return i\n",
    "\n",
    "     # Check if the player could win on their next move and block them.\n",
    "     for i in range(1, 10):\n",
    "         boardCopy = getBoardCopy(board)\n",
    "         if isSpaceFree(boardCopy, i):\n",
    "             makeMove(boardCopy, playerLetter, i)\n",
    "             if isWinner(boardCopy, playerLetter):\n",
    "                 return i\n",
    "\n",
    "     # Try to take one of the corners, if they are free.\n",
    "     move = chooseRandomMoveFromList(board, [1, 3, 7, 9])\n",
    "     if move != None:\n",
    "         return move\n",
    "\n",
    "     # Try to take the center, if it is free.\n",
    "     if isSpaceFree(board, 5):\n",
    "         return 5\n",
    "\n",
    "     # Move on one of the sides.\n",
    "     return chooseRandomMoveFromList(board, [2, 4, 6, 8])\n",
    "\n",
    "def isBoardFull(board):\n",
    "     # Return True if every space on the board has been taken. Otherwise, return False.\n",
    "     for i in range(1, 10):\n",
    "         if isSpaceFree(board, i):\n",
    "             return False\n",
    "     return True\n",
    "\n",
    "print('Welcome to Tic-Tac-Toe!')\n",
    "\n",
    "while True:\n",
    "     # Reset the board.\n",
    "     theBoard = [' '] * 10\n",
    "     playerLetter, computerLetter = inputPlayerLetter()\n",
    "     turn = whoGoesFirst()\n",
    "     print('The ' + turn + ' will go first.')\n",
    "     gameIsPlaying = True\n",
    "\n",
    "     while gameIsPlaying:\n",
    "         if turn == 'player':\n",
    "             # Player's turn\n",
    "             drawBoard(theBoard)\n",
    "             move = getPlayerMove(theBoard)\n",
    "             makeMove(theBoard, playerLetter, move)\n",
    "\n",
    "             if isWinner(theBoard, playerLetter):\n",
    "                 drawBoard(theBoard)\n",
    "                 print('Hooray! You have won the game!')\n",
    "                 gameIsPlaying = False\n",
    "             else:\n",
    "                 if isBoardFull(theBoard):\n",
    "                     drawBoard(theBoard)\n",
    "                     print('The game is a tie!')\n",
    "                     break\n",
    "                 else:\n",
    "                     turn = 'computer'\n",
    "\n",
    "         else:\n",
    "             # Computer's turn\n",
    "             move = getComputerMove(theBoard, computerLetter)\n",
    "             makeMove(theBoard, computerLetter, move)\n",
    "\n",
    "             if isWinner(theBoard, computerLetter):\n",
    "                 drawBoard(theBoard)\n",
    "                 print('The computer has beaten you! You lose.')\n",
    "                 gameIsPlaying = False\n",
    "             else:\n",
    "                 if isBoardFull(theBoard):\n",
    "                     drawBoard(theBoard)\n",
    "                     print('The game is a tie!')\n",
    "                     break\n",
    "                 else:\n",
    "                     turn = 'player'\n",
    "\n",
    "     print('Do you want to play again? (yes or no)')\n",
    "     if not input().lower().startswith('y'):\n",
    "         break"
   ]
  },
  {
   "cell_type": "markdown",
   "metadata": {},
   "source": [
    "## Using [PursuedPyBear](https://github.com/ppb/pursuedpybear)\n",
    "[Official Website](https://ppb.dev/)"
   ]
  },
  {
   "cell_type": "markdown",
   "metadata": {},
   "source": [
    "PursuedPyBear, also known as ppb, exists to be an educational resource. Most obviously used to teach computer science, it can be a useful tool for any topic that a simulation can be helpful."
   ]
  },
  {
   "cell_type": "markdown",
   "metadata": {},
   "source": [
    "### A Game Engine\n",
    "- - -\n",
    "\n",
    "At its core, ppb provides a number of features that make it perfect for video games. The GameEngine itself provides a pluggable subsystem architecture where adding new features is as simple as subclassing and extending System. Additionally, it contains a state stack of Scenes simple containers that let you organize game scenes and UI screens in a simple way.\n",
    "\n",
    "The entire system uses an event system which is as extensible as the rest of the system. Register new values to existing event types, and even overwrite the defaults. Adding a new event type to the system is as simple as firing an instance of your new event class with signal. Instead of a publisher system, the engine knows everything in its own scope and only calls objects with appropriate callbacks. The most basic event is Update and your handlers should match the signature on_update(self, update_event, signal)."
   ]
  },
  {
   "cell_type": "markdown",
   "metadata": {},
   "source": [
    "### [See Documentation](https://ppb.readthedocs.io/en/stable/?badge=stable)"
   ]
  },
  {
   "cell_type": "code",
   "execution_count": 3,
   "metadata": {},
   "outputs": [
    {
     "name": "stdout",
     "output_type": "stream",
     "text": [
      "Collecting ppb\n",
      "  Downloading ppb-0.9.0-py3-none-any.whl (49 kB)\n",
      "\u001b[K     |████████████████████████████████| 49 kB 586 kB/s eta 0:00:011\n",
      "\u001b[?25hCollecting ppb-vector~=1.0\n",
      "  Using cached ppb_vector-1.0-py3-none-any.whl (10 kB)\n",
      "Collecting pysdl2-dll; sys_platform == \"darwin\"\n",
      "  Using cached pysdl2_dll-2.0.12-py2.py3-none-macosx_10_6_x86_64.whl (3.6 MB)\n",
      "Collecting PySDL2\n",
      "  Using cached PySDL2-0.9.7-py3-none-any.whl (541 kB)\n",
      "Installing collected packages: ppb-vector, pysdl2-dll, PySDL2, ppb\n",
      "Successfully installed PySDL2-0.9.7 ppb-0.9.0 ppb-vector-1.0 pysdl2-dll-2.0.12\n",
      "\u001b[33mWARNING: You are using pip version 20.1.1; however, version 20.2 is available.\n",
      "You should consider upgrading via the '/usr/local/Cellar/jupyterlab/2.2.0/libexec/bin/python3.8 -m pip install --upgrade pip' command.\u001b[0m\n",
      "Note: you may need to restart the kernel to use updated packages.\n"
     ]
    }
   ],
   "source": [
    "pip install ppb"
   ]
  },
  {
   "cell_type": "markdown",
   "metadata": {},
   "source": [
    "To make a very simple game, make a directory and add an image file called `files/ship.png` to it. Then add the following to a python file and run it from the `files/` location."
   ]
  },
  {
   "cell_type": "code",
   "execution_count": 1,
   "metadata": {},
   "outputs": [
    {
     "name": "stdout",
     "output_type": "stream",
     "text": [
      "UserWarning: Using SDL2 binaries from pysdl2-dll 2.0.10\n"
     ]
    }
   ],
   "source": [
    "import ppb\n",
    "\n",
    "\n",
    "class Ship(ppb.Sprite):\n",
    "\n",
    "    def on_update(self, update_event, signal):\n",
    "        self.position += 0, -(4 * update_event.time_delta)\n",
    "\n",
    "\n",
    "def setup(scene):\n",
    "    scene.add(Ship(pos=(0, 3.5)))\n",
    "\n",
    "\n",
    "ppb.run(setup=setup)"
   ]
  },
  {
   "cell_type": "markdown",
   "metadata": {},
   "source": [
    "- - - \n",
    "<!--NAVIGATION-->\n",
    "Real World Examples: [Web Scraping](../web_scraping/01_rw_web_scraping.ipynb) | [Automation](../automation/02_rw_automation.ipynb) | [Messaging](../messaging/03_rw_messaging.ipynb) | [CSV](../csv/04_rw_csv.ipynb) | **[Games](./05_games.ipynb)** | [Mobile](../mobile/06_mobile.ipynb) | [Feature Engineering](../feature_engineering/07_feature-engineering.ipynb) | [Computer Vision](../computer_vision/08_computer_vision.ipynb) | [Chatbot](../chatbot/10_chatbot.ipynb)"
   ]
  },
  {
   "cell_type": "markdown",
   "metadata": {},
   "source": [
    "- - -\n",
    "\n",
    "Copyright © 2020 Qualex Consulting Services Incorporated."
   ]
  },
  {
   "cell_type": "code",
   "execution_count": null,
   "metadata": {},
   "outputs": [],
   "source": []
  }
 ],
 "metadata": {
  "kernelspec": {
   "display_name": "Python 3",
   "language": "python",
   "name": "python3"
  },
  "language_info": {
   "codemirror_mode": {
    "name": "ipython",
    "version": 3
   },
   "file_extension": ".py",
   "mimetype": "text/x-python",
   "name": "python",
   "nbconvert_exporter": "python",
   "pygments_lexer": "ipython3",
   "version": "3.8.5"
  }
 },
 "nbformat": 4,
 "nbformat_minor": 4
}

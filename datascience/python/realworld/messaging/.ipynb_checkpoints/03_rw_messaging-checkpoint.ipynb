{
 "cells": [
  {
   "cell_type": "markdown",
   "metadata": {},
   "source": [
    "Data Science Fundamentals: Python |\n",
    "[Table of Contents](../../index.ipynb)\n",
    "- - - \n",
    "<!--NAVIGATION-->\n",
    "Real World Examples: [Web Scraping](../web_scraping/01_rw_web_scraping.ipynb) | [Automation](../automation/02_rw_automation.ipynb) | **[Messaging](./03_rw_messaging.ipynb)** | [CSV](../csv/04_rw_csv.ipynb) | [Games](../games/05_games.ipynb) | [Mobile](../mobile/06_mobile.ipynb) | [Computer Vision](../computer_vision/08_computer_vision.ipynb) | [Chatbot](../chatbot/10_chatbot.ipynb) | [Built-In Database](../database/11_database.ipynb)\n",
    "- - -\n",
    "Life Examples: [COVID-19](../COVID-19/COVID-19_visualizations-plotly.ipynb) | [Police Brutality](https://maminian.github.io/brutality-map/) | [Spanish Flu](../spanishflu/index.ipynb)"
   ]
  },
  {
   "cell_type": "markdown",
   "metadata": {},
   "source": [
    "## Real World: Send Emails & SMS Text messages"
   ]
  },
  {
   "cell_type": "markdown",
   "metadata": {},
   "source": [
    "## smtplib\n",
    "\n",
    "The smtplib module defines an SMTP client session object that can be used to send mail to any Internet machine with an SMTP or ESMTP listener daemon. \n",
    "\n",
    "SMTP stands for Simple Mail Transfer Protocol. \n",
    "\n",
    "The smtplib modules is useful for communicating with mail servers to send mail.\n",
    "\n",
    "Sending mail is done with Python's smtplib using an SMTP server. \n",
    "\n",
    "Actual usage varies depending on complexity of the email and settings of the email server, the instructions here are based on sending email through Gmail."
   ]
  },
  {
   "cell_type": "code",
   "execution_count": null,
   "metadata": {},
   "outputs": [],
   "source": [
    "python3"
   ]
  },
  {
   "cell_type": "raw",
   "metadata": {},
   "source": [
    "Python 3.7.7 (default, Mar 10 2020, 15:43:33) \n",
    "[Clang 11.0.0 (clang-1100.0.33.17)] on darwin\n",
    "Type \"help\", \"copyright\", \"credits\" or \"license\" for more information.\n",
    ">>> help(\"modules\")"
   ]
  },
  {
   "cell_type": "markdown",
   "metadata": {},
   "source": [
    "Search for package **smtplib**"
   ]
  },
  {
   "cell_type": "raw",
   "metadata": {},
   "source": [
    "\"\"\"The first step is to create an SMTP object, each object is used for connection \n",
    "with one server.\"\"\"\n",
    "\n",
    "import smtplib\n",
    "server = smtplib.SMTP('smtp.gmail.com', 587)\n",
    "\n",
    "#Next, log in to the server\n",
    "server.login(\"youremailusername\", \"password\")\n",
    "\n",
    "#Send the mail\n",
    "msg = \"Hello!\" # The /n separates the message from the headers\n",
    "server.sendmail(\"you@gmail.com\", \"target@example.com\", msg)"
   ]
  },
  {
   "cell_type": "markdown",
   "metadata": {},
   "source": [
    "### Python To Send Gmails"
   ]
  },
  {
   "cell_type": "markdown",
   "metadata": {},
   "source": [
    "Python's email package contains many classes and functions for composing and parsing email messages."
   ]
  },
  {
   "cell_type": "code",
   "execution_count": 8,
   "metadata": {},
   "outputs": [],
   "source": [
    "import smtplib\n",
    " \n",
    "def sendemail(from_addr, to_addr_list, cc_addr_list,\n",
    "              subject, message,\n",
    "              login, password,\n",
    "              smtpserver='smtp.gmail.com:587'):\n",
    "    \n",
    "    header  = 'From: %s' % from_addr\n",
    "    header += 'To: %s' % ','.join(to_addr_list)\n",
    "    header += 'Cc: %s' % ','.join(cc_addr_list)\n",
    "    header += 'Subject: %s' % subject\n",
    "    message = header + message\n",
    " \n",
    "    server = smtplib.SMTP(smtpserver)\n",
    "    server.starttls()\n",
    "    server.login(login,password)\n",
    "    problems = server.sendmail(from_addr, to_addr_list, message)\n",
    "    server.quit()"
   ]
  },
  {
   "cell_type": "raw",
   "metadata": {},
   "source": [
    "sendemail(from_addr    = 'python@RC.net', \n",
    "          to_addr_list = ['RC@gmail.com'],\n",
    "          cc_addr_list = ['RC@xx.co.uk'], \n",
    "          subject      = 'Howdy', \n",
    "          message      = 'Howdy from a python function', \n",
    "          login        = 'pythonuser', \n",
    "          password     = 'XXXXX')"
   ]
  },
  {
   "cell_type": "markdown",
   "metadata": {},
   "source": [
    "**Example Use**"
   ]
  },
  {
   "cell_type": "markdown",
   "metadata": {},
   "source": [
    "**Sample Email Received**"
   ]
  },
  {
   "cell_type": "raw",
   "metadata": {},
   "source": [
    "Message-ID: <4a4a1e78.0717d00a.1ba8.ffcfdbdd@xx.google.com>\n",
    "Date: Tue, 30 Jun 2009 22:04:56 -0700 (PDT)\n",
    "From: python@RC.net\n",
    "To: RC@gmail.com\n",
    "Cc: RC@xx.co.uk\n",
    "Subject: Howdy\n",
    "\n",
    "Howdy from a python function"
   ]
  },
  {
   "cell_type": "markdown",
   "metadata": {},
   "source": [
    "- - - \n",
    "<!--NAVIGATION-->\n",
    "Real World Examples: [Web Scraping](../web_scraping/01_rw_web_scraping.ipynb) | [Automation](../automation/02_rw_automation.ipynb) | **[Messaging](./03_rw_messaging.ipynb)** | [CSV](../csv/04_rw_csv.ipynb) | [Games](../games/05_games.ipynb) | [Mobile](../mobile/06_mobile.ipynb) | [Feature Engineering](../feature_engineering/07_feature-engineering.ipynb) | [Computer Vision](../computer_vision/08_computer_vision.ipynb) | [Chatbot](../chatbot/10_chatbot.ipynb)\n",
    "<br>\n",
    "[Top](#)"
   ]
  },
  {
   "cell_type": "markdown",
   "metadata": {},
   "source": [
    "- - -\n",
    "\n",
    "Copyright © 2020 Qualex Consulting Services Incorporated."
   ]
  },
  {
   "cell_type": "code",
   "execution_count": null,
   "metadata": {},
   "outputs": [],
   "source": []
  }
 ],
 "metadata": {
  "kernelspec": {
   "display_name": "Python 3",
   "language": "python",
   "name": "python3"
  },
  "language_info": {
   "codemirror_mode": {
    "name": "ipython",
    "version": 3
   },
   "file_extension": ".py",
   "mimetype": "text/x-python",
   "name": "python",
   "nbconvert_exporter": "python",
   "pygments_lexer": "ipython3",
   "version": "3.8.5"
  }
 },
 "nbformat": 4,
 "nbformat_minor": 4
}

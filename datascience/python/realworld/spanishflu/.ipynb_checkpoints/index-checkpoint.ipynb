{
 "cells": [
  {
   "cell_type": "markdown",
   "metadata": {},
   "source": [
    "Data Science Fundamentals: Python |\n",
    "[Table of Contents](../../index.ipynb)\n",
    "- - - \n",
    "<!--NAVIGATION-->\n",
    "Real World Examples: [Web Scraping](../web_scraping/01_rw_web_scraping.ipynb) | [Automation](./02_rw_automation.ipynb) | [Messaging](../messaging/03_rw_messaging.ipynb) | [CSV](../csv/04_rw_csv.ipynb) | [Games](../games/05_games.ipynb) | [Mobile](../mobile/06_mobile.ipynb) | [Computer Vision](../computer_vision/08_computer_vision.ipynb) | [Chatbot](../chatbot/10_chatbot.ipynb) | [Built-In Database](../database/11_database.ipynb)\n",
    "- - -\n",
    "Life Examples: [COVID-19](../COVID-19/COVID-19_visualizations-plotly.ipynb) | [Police Brutality](https://maminian.github.io/brutality-map/) | **[Spanish Flu](../spanishflu/index.ipynb)**"
   ]
  },
  {
   "cell_type": "markdown",
   "metadata": {},
   "source": [
    "# Spanish Flu\n",
    "## February 1918 – April 1920"
   ]
  },
  {
   "cell_type": "markdown",
   "metadata": {},
   "source": [
    "According to the Centers for Disease Control and Prevention estimates, the 1918 flu infected 500 million people worldwide and resulted in 50 million deaths around the globe, 675,000 of which were American.\n",
    "\n",
    "The first observations of illness and mortality were documented in the United States (in Fort Riley, Haskell County, Kansas as well as in New York City), France (Brest), Germany and the United Kingdom. To maintain morale, World War I censors minimized these early reports. Newspapers were free to report the epidemic's effects in neutral Spain, such as the grave illness of King Alfonso XIII, and these stories created a false impression of Spain as especially hard hit. This gave rise to the name \"Spanish\" flu. Historical and epidemiological data are inadequate to identify with certainty the pandemic's geographic origin, with varying views as to its location.\n",
    "\n",
    "Most influenza outbreaks disproportionately kill the very young and the very old, with a higher survival rate for those in between, but the Spanish flu pandemic resulted in a higher than expected mortality rate for young adults. Scientists offer several possible explanations for the high mortality rate of the 1918 influenza pandemic. Some analyses have shown the virus to be particularly deadly because it triggers a cytokine storm, which ravages the stronger immune system of young adults. In contrast, a 2007 analysis of medical journals from the period of the pandemic found that the viral infection was no more aggressive than previous influenza strains. Instead, malnourishment, overcrowded medical camps and hospitals, and poor hygiene, all exacerbated by the recent war, promoted bacterial superinfection. This superinfection killed most of the victims, typically after a somewhat prolonged death bed."
   ]
  },
  {
   "cell_type": "markdown",
   "metadata": {},
   "source": [
    "![images](./images/spanish_flu_2.jpg)"
   ]
  },
  {
   "cell_type": "markdown",
   "metadata": {},
   "source": [
    "The 1918 Spanish flu was the first of two pandemics caused by H1N1 influenza A virus; the second was the 2009 swine flu pandemic."
   ]
  },
  {
   "cell_type": "markdown",
   "metadata": {},
   "source": [
    "- - -"
   ]
  },
  {
   "cell_type": "markdown",
   "metadata": {},
   "source": [
    "In “The 1919 Influenza Blues,” Essie Jenkins documented the toll the flu took on the country, noting that viruses don’t discriminate when it comes to their victims. She sang:\n",
    "\n",
    "```\n",
    "\n",
    "“People died everywhere\n",
    "death went creepin’ through the air\n",
    "and the groans of the rich\n",
    "sure were sad\n",
    "\n",
    "But it was God’s own mighty plan\n",
    "He’s judging this old land\n",
    "North and South, East and West\n",
    "can be seen\n",
    "\n",
    "He killed rich and poor\n",
    "and he’s going to\n",
    "kill some more …”\n",
    "\n",
    "```"
   ]
  },
  {
   "cell_type": "code",
   "execution_count": 3,
   "metadata": {},
   "outputs": [
    {
     "data": {
      "text/html": [
       "<iframe width=\"560\" height=\"315\" src=\"https://www.youtube.com/embed/dCuqQmukOcE?rel=0&amp;controls=0&amp;showinfo=0\" frameborder=\"0\" allowfullscreen></iframe>"
      ],
      "text/plain": [
       "<IPython.core.display.HTML object>"
      ]
     },
     "execution_count": 3,
     "metadata": {},
     "output_type": "execute_result"
    }
   ],
   "source": [
    "from IPython.display import HTML\n",
    "\n",
    "# Youtube\n",
    "HTML('<iframe width=\"560\" height=\"315\" src=\"https://www.youtube.com/embed/dCuqQmukOcE?rel=0&amp;controls=0&amp;showinfo=0\" frameborder=\"0\" allowfullscreen></iframe>')\n"
   ]
  },
  {
   "cell_type": "markdown",
   "metadata": {},
   "source": [
    "### [Spanish Flu: Hourly Wages](wages/index.ipynb)\n",
    "Looks at the hourly wages before the spread of Spanish Flu and then the after effects. "
   ]
  },
  {
   "cell_type": "markdown",
   "metadata": {},
   "source": [
    "### [Spanish Flu: Life Expectancy](#)\n",
    "Looks at international life expectancy around the world before, during, and after the Spanish Flu."
   ]
  },
  {
   "cell_type": "markdown",
   "metadata": {},
   "source": [
    "### [Spanish Flu: Lockdown](#)\n",
    "Investigates the spread of Spanish Flu across the United States by those who quarantined and those who did not."
   ]
  },
  {
   "cell_type": "markdown",
   "metadata": {},
   "source": [
    "### [Spanish Flu: Mortality Rate](#)\n",
    "Demonstrates the death rates internationally and those in the United States."
   ]
  },
  {
   "cell_type": "markdown",
   "metadata": {},
   "source": [
    "# [After The Spanish Flu](https://www.linkedin.com/pulse/after-curve-flattens-gs-jackson/)"
   ]
  },
  {
   "cell_type": "markdown",
   "metadata": {},
   "source": [
    "The Spanish Flu was incorrectly named. One hypothesis is that the virus strain originated at Fort Riley, Kansas from the poultry and swine used to feed the soldiers; the US soldiers who were sent off to fight in World War I spread the disease all over the world. An estimated 17 million people died. Now near Fort Riley and other undisclosed locations across the United States, poultry, more specifically their eggs, are being used to incubate vaccines.\n",
    "\n",
    "Starting in January 1918 and after two waves, the curve finally flattened in early 1920 and phased out by December 1920.\n",
    "\n",
    "As many as 18 million Indians alone died of Spanish Flu – the greatest loss in absolute numbers of any country in the world. As the British were the colonizers they felt a backlash. The British were blamed for spreading the flu and it fueled the Indian independence movement which inspired Mahatma Gandhi. The Russian revolutions of 1917 were fanned by the haves and have nots exposing a dire supply situation, and by highlighting inequality. Soon after the Russian Revolution and the brought to the world stage, Joseph Stalin and Vladimir Lenin."
   ]
  },
  {
   "cell_type": "code",
   "execution_count": null,
   "metadata": {},
   "outputs": [],
   "source": []
  }
 ],
 "metadata": {
  "kernelspec": {
   "display_name": "Python 3",
   "language": "python",
   "name": "python3"
  },
  "language_info": {
   "codemirror_mode": {
    "name": "ipython",
    "version": 3
   },
   "file_extension": ".py",
   "mimetype": "text/x-python",
   "name": "python",
   "nbconvert_exporter": "python",
   "pygments_lexer": "ipython3",
   "version": "3.8.5"
  }
 },
 "nbformat": 4,
 "nbformat_minor": 4
}

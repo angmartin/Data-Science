{
 "cells": [
  {
   "cell_type": "markdown",
   "metadata": {},
   "source": [
    "Data Science Fundamentals: Python |\n",
    "[Table of Contents](../../index.ipynb)\n",
    "- - - \n",
    "<!--NAVIGATION-->\n",
    "Real World Examples: [Web Scraping](../web_scraping/01_rw_web_scraping.ipynb) | **[Automation](./02_rw_automation.ipynb)** | [Messaging](../messaging/03_rw_messaging.ipynb) | [CSV](../csv/04_rw_csv.ipynb) | [Games](../games/05_games.ipynb) | [Mobile](../mobile/06_mobile.ipynb) | [Computer Vision](../computer_vision/08_computer_vision.ipynb) | [Chatbot](../chatbot/10_chatbot.ipynb) | [Built-In Database](../database/11_database.ipynb)\n",
    "- - -\n",
    "Live Examples: [COVID-19](../COVID-19/COVID-19_visualizations-plotly.ipynb) | [Police Brutality](https://maminian.github.io/brutality-map/) | [Spanish Flu](../spanishflu/index.ipynb)"
   ]
  },
  {
   "cell_type": "markdown",
   "metadata": {},
   "source": [
    "## Real World: Automation Applications"
   ]
  },
  {
   "cell_type": "markdown",
   "metadata": {},
   "source": [
    "### Creating A Mapping Program"
   ]
  },
  {
   "cell_type": "raw",
   "metadata": {},
   "source": [
    "pip3 install pyperclip"
   ]
  },
  {
   "cell_type": "code",
   "execution_count": null,
   "metadata": {},
   "outputs": [],
   "source": [
    "#! python3\n",
    "# mapIt.py - Launches a map in the browser using an address from the\n",
    "# command line or clipboard.\n",
    "\n",
    "# copy (Ctrl-C) address: 21 park street canton nc 28716\n",
    "\n",
    "import webbrowser, sys, pyperclip\n",
    "if len(sys.argv) > 1:\n",
    "    # Get address from command line.\n",
    "    address = ' '.join(sys.argv[1:])\n",
    "else:\n",
    "    # Get address from clipboard.\n",
    "    address = pyperclip.paste()\n",
    "\n",
    "webbrowser.open('https://www.google.com/maps/place/' + address)"
   ]
  },
  {
   "cell_type": "markdown",
   "metadata": {},
   "source": [
    "### Grocery List Calculator"
   ]
  },
  {
   "cell_type": "markdown",
   "metadata": {},
   "source": [
    "This will be a Python script that functions as a grocery calculator. It will take in key-value pairs for items\n",
    "and their prices, and return the subtotal and total, and can print out the list for you for when you're ready to\n",
    "take it to the store!\n",
    "\n",
    "Algorithm:\n",
    "1. User enters key-value pairs that are added into a dict.\n",
    "2. Users tells script to return total, subtotal, and key-value pairs in a nicely formatted list.\n"
   ]
  },
  {
   "cell_type": "code",
   "execution_count": null,
   "metadata": {},
   "outputs": [],
   "source": [
    "#Object = GroceryList\n",
    "#Methods = addToList, Total, Subtotal, returnList\n",
    "\n",
    "class GroceryList(dict):\n",
    "\n",
    "    def __init__(self):\n",
    "       self = {}\n",
    "\n",
    "    def addToList(self, item, price):\n",
    "        self.update({item:price})\n",
    "\n",
    "    def Total(self):\n",
    "        total = 0\n",
    "        for items in self:\n",
    "            total += (self[items])*.07 + (self[items])\n",
    "        return total\n",
    "\n",
    "    def Subtotal(self):\n",
    "        subtotal = 0\n",
    "        for items in self:\n",
    "            subtotal += self[items]\n",
    "        return subtotal\n",
    "\n",
    "    def returnList(self):\n",
    "        return self"
   ]
  },
  {
   "cell_type": "markdown",
   "metadata": {},
   "source": [
    "**List 1**"
   ]
  },
  {
   "cell_type": "code",
   "execution_count": null,
   "metadata": {},
   "outputs": [],
   "source": [
    "List1 = GroceryList()\n",
    "\n",
    "List1.addToList(\"milk\",4)\n",
    "List1.addToList(\"eggs\", 3)\n",
    "List1.addToList(\"kombucha\", 3)\n",
    "\n",
    "\n",
    "print List1.Total()\n",
    "print List1.Subtotal()\n",
    "print List1.returnList()"
   ]
  },
  {
   "cell_type": "code",
   "execution_count": null,
   "metadata": {},
   "outputs": [],
   "source": []
  },
  {
   "cell_type": "markdown",
   "metadata": {},
   "source": [
    "Test list should return:"
   ]
  },
  {
   "cell_type": "raw",
   "metadata": {},
   "source": [
    "Total = 10.70\n",
    "Subtotal = 10\n",
    "returnList = {\"milk\":4, \"eggs\":3, \"kombucha\":3}"
   ]
  },
  {
   "cell_type": "markdown",
   "metadata": {},
   "source": [
    "**List 2**"
   ]
  },
  {
   "cell_type": "code",
   "execution_count": null,
   "metadata": {},
   "outputs": [],
   "source": [
    "List2 = GroceryList()\n",
    "\n",
    "List2.addToList('cheese', 7.49)\n",
    "List2.addToList('wine', 25.36)\n",
    "List2.addToList('steak', 17.64)\n",
    "\n",
    "print List2.Total()\n",
    "print List2.Subtotal()\n",
    "print List2.returnList()"
   ]
  },
  {
   "cell_type": "markdown",
   "metadata": {},
   "source": [
    "### Tweet Search Using Python"
   ]
  },
  {
   "cell_type": "markdown",
   "metadata": {},
   "source": [
    "Since we will be using JSON for this, don't forget to import that module. \n",
    "\n",
    "The screen name in Twitter, is the screen name of the user for whom to return results for. \n",
    "\n",
    "Open the twitter search URL, the result will be shown in json format. \n",
    "\n",
    "We can get the number of tweets using the length function. \n",
    "\n",
    "At the end of the script, we parse the tweet from the result and print it to screen. "
   ]
  },
  {
   "cell_type": "code",
   "execution_count": null,
   "metadata": {},
   "outputs": [],
   "source": [
    "#Importing the modules\n",
    "import urllib2\n",
    "import json\n",
    "\n",
    "screen_name = \"wordpress\"\n",
    "\n",
    "url = \"http://api.twitter.com/1/statuses/user_timeline.json?screen_name=\" + screen_name\n",
    "\n",
    "data = json.load(urllib2.urlopen(url))\n",
    "\n",
    "print len(data), \"tweets\"\n",
    "\n",
    "for tweet in data:\n",
    "    print tweet['text']"
   ]
  },
  {
   "cell_type": "markdown",
   "metadata": {},
   "source": [
    "- - - \n",
    "<!--NAVIGATION-->\n",
    "Real World Examples: [Web Scraping](../web_scraping/01_rw_web_scraping.ipynb) | **[Automation](./02_rw_automation.ipynb)** | [Messaging](../messaging/03_rw_messaging.ipynb) | [CSV](../csv/04_rw_csv.ipynb) | [Games](../games/05_games.ipynb) | [Mobile](../mobile/06_mobile.ipynb) | [Feature Engineering](../feature_engineering/07_feature-engineering.ipynb) | [Computer Vision](../computer_vision/08_computer_vision.ipynb) | [Chatbot](../chatbot/10_chatbot.ipynb)\n",
    "<br>\n",
    "[Top](#)"
   ]
  },
  {
   "cell_type": "markdown",
   "metadata": {},
   "source": [
    "- - -\n",
    "\n",
    "Copyright © 2020 Qualex Consulting Services Incorporated."
   ]
  },
  {
   "cell_type": "code",
   "execution_count": null,
   "metadata": {},
   "outputs": [],
   "source": []
  }
 ],
 "metadata": {
  "kernelspec": {
   "display_name": "Python 3",
   "language": "python",
   "name": "python3"
  },
  "language_info": {
   "codemirror_mode": {
    "name": "ipython",
    "version": 3
   },
   "file_extension": ".py",
   "mimetype": "text/x-python",
   "name": "python",
   "nbconvert_exporter": "python",
   "pygments_lexer": "ipython3",
   "version": "3.8.5"
  }
 },
 "nbformat": 4,
 "nbformat_minor": 4
}

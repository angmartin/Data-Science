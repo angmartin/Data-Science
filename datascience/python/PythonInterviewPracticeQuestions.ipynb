{
 "cells": [
  {
   "cell_type": "markdown",
   "metadata": {},
   "source": [
    "# Python Interview Practice Questions\n",
    "Sourced from: [Towards Data Science](https://towardsdatascience.com/6-python-questions-you-should-practice-before-coding-interviews-f958af55ad13)"
   ]
  },
  {
   "cell_type": "markdown",
   "metadata": {},
   "source": [
    "### Question 1: Defanging an IP Address, by Amazon:\n",
    "- Given a valid (IPv4) IP address, return a defanged version of that IP address.\n",
    "- A defanged IP address replaces every period “.” with “[.]”.\n",
    "- https://leetcode.com/problems/defanging-an-ip-address/"
   ]
  },
  {
   "cell_type": "markdown",
   "metadata": {},
   "source": [
    "#### Approach:\n",
    "This is a warm-up question. It asks for us to replace “.” with “[.]” for a string. If you are familiar with string in Python, the first thing that comes to mind is to treat “.” as a separator and split the string. Then, re-join an empty string and choose “[.]” as the separator.\n",
    "The first solution is a standard step-by-step approach to questions like this. However, it is not an optimal solution.\n",
    "A more Pythonic solution is to use a replace() method to directly change “.” with “[.]”, shown as follows."
   ]
  },
  {
   "cell_type": "code",
   "execution_count": 1,
   "metadata": {},
   "outputs": [],
   "source": [
    "#Enter your code here:\n"
   ]
  },
  {
   "cell_type": "markdown",
   "metadata": {},
   "source": [
    "[Solutions](https://gist.githubusercontent.com/LeihuaYe/0ff76d4c026fb6dc15aa9787e7cba5e0/raw/55a98f6f8944248ad9fc8078a88d938503dfda85/gistfile1.txt)"
   ]
  },
  {
   "cell_type": "markdown",
   "metadata": {},
   "source": [
    "### Question 2: Fizz Buzz, by Microsoft, Bloomberg:\n",
    "- Write a program that prints the number for 1 to 50, for number multiple of 2 print ‘fizz’ instead of a number, for numbers multiple of 3 print ‘buzz’, for numbers which are multiples of both 2 and 3 ‘fizzbuzz.’\n",
    "- https://leetcode.com/problems/fizz-buzz/"
   ]
  },
  {
   "cell_type": "markdown",
   "metadata": {},
   "source": [
    "#### Approach:\n",
    "This question can be rewritten as multiple “if…then…” statements, which remind us of control flow. Specifically, we can do something like: “if condition A met, then output result A…”\n",
    "There is just one catch: there are numbers that are multiples of 2 and 3, so we have to decide at the top of the control flow.\n",
    "Since there are only three conditions to check, we can write a control flow. However, there are cases then the number of sub-conditions is just too many, and it becomes impossible to list them out (e.g., question 1 uniform distribution). Your interviewer may ask you to use other methods than control flow.\n",
    "With that in mind, we create two conditions and multiply the key words ‘Fizz’ and ‘Buzz’ if either or both conditions met."
   ]
  },
  {
   "cell_type": "code",
   "execution_count": 2,
   "metadata": {},
   "outputs": [],
   "source": [
    "#Enter your code here:\n"
   ]
  },
  {
   "cell_type": "markdown",
   "metadata": {},
   "source": [
    "[Solutions](https://gist.githubusercontent.com/LeihuaYe/db220040f778360e91f90f1ea21fa3d8/raw/706417641b01251d7fca86314ff23b2d77349465/gistfile1.txt)"
   ]
  },
  {
   "cell_type": "markdown",
   "metadata": {},
   "source": [
    "### Question 3: Palindrome Number, by Google, FB, and MS:\n",
    "- Identify all words that are palindromes in the following sentence “To be or not to be a data scientist, this is not a question. Ask your mom for advice, lol.”\n",
    "- If the same word appears multiple times, return the word once (condition 1)\n",
    "- Palindromes: words that return the same result when you read from the beginning to the end or the end to the beginning (condition 2)\n",
    "- https://leetcode.com/problems/palindrome-number/"
   ]
  },
  {
   "cell_type": "markdown",
   "metadata": {},
   "source": [
    "#### Approach:\n",
    "There are multiple variations of Palindrome Number. The tricky part with this version is each sentence contains a constraint.\n",
    "For example, if a word appears multiple times, simply return the word once, which suggests set in Python as the output data type (condition 1).\n",
    "A palindrome is the one that returns the same result whether you read from the beginning to the end or the other way around (condition 2). How about letter case type? Is it case-sensitive or not? Here, you should ask for clarification questions.\n",
    "Also, there is a hidden condition, which is we should remove punctuation marks when deciding a word is a palindrome or not.\n",
    "Don’t worry if you did not get all of these conditions at once, as your interviewers would give you hints."
   ]
  },
  {
   "cell_type": "code",
   "execution_count": 3,
   "metadata": {},
   "outputs": [],
   "source": [
    "#Enter your code here:\n"
   ]
  },
  {
   "cell_type": "markdown",
   "metadata": {},
   "source": [
    "[Solution](https://gist.githubusercontent.com/LeihuaYe/b44ca2183e423e57e54bca0059de104d/raw/54966156881873003cddd22716bc5cd0870f665d/gistfile1.txt)"
   ]
  },
  {
   "cell_type": "markdown",
   "metadata": {},
   "source": [
    "### Question 4: First Unique Character in a String, by FAANG:\n",
    "- Given a string, find the first non-repeating character in it and return its index.\n",
    "- If it doesn’t exist, return -1.\n",
    "- https://leetcode.com/problems/first-unique-character-in-a-string/"
   ]
  },
  {
   "cell_type": "markdown",
   "metadata": {},
   "source": [
    "#### Approach:\n",
    "The question asks for the first non-repeating character in a string, which is equivalent to the first character that appears only once. In strings, we can calculate the occurrences of substrings using the count method.\n",
    "I was held up quite a while by this question, and couldn’t figure out the solution. I’ve tried using a dictionary to store the key-value pair and return the index of the first non-repeating value, which didn’t work."
   ]
  },
  {
   "cell_type": "code",
   "execution_count": 4,
   "metadata": {},
   "outputs": [],
   "source": [
    "#Enter your code here:\n"
   ]
  },
  {
   "cell_type": "markdown",
   "metadata": {},
   "source": [
    "[Solution](https://gist.githubusercontent.com/LeihuaYe/fdef0b96c9e5712815c6cdf0e467d5d6/raw/24672efd58efed30c257c005e6a46a2d67b55c9c/gistfile1.txt)"
   ]
  },
  {
   "cell_type": "markdown",
   "metadata": {},
   "source": [
    "### Question 5: Unique Email Addresses, by Google, Amazon, and Adobe:\n",
    "- Every email consists of a local name and a domain name, separated by the @ sign.\n",
    "- For example, in alice@leetcode.com, alice is the local name, and leetcode.com is the domain name.\n",
    "- Besides lowercase letters, these emails may contain ‘.’s or ‘+’s.\n",
    "- If you add periods (‘.’) between some characters in the local name part of an email address, mail sent there will be forwarded to the same address without dots in the local name. For example, “alice.z@leetcode.com” and “alicez@leetcode.com” forward to the same email address. (Note that this rule does not apply for domain names.)\n",
    "- If you add a plus (‘+’) in the local name, everything after the first plus sign will be ignored. This allows certain emails to be filtered, for example m.y+name@email.com will be forwarded to my@email.com. (Again, this rule does not apply for domain names.)\n",
    "- It is possible to use both of these rules at the same time.\n",
    "- Given a list of emails, we send one email to each address in the list. How many different addresses actually receive mails?\n",
    "- https://leetcode.com/problems/unique-email-addresses/"
   ]
  },
  {
   "cell_type": "markdown",
   "metadata": {},
   "source": [
    "#### Approach: \n",
    "After a first look, this is a rather long, length, and daunting question. It just contains too much information, and my brain has overloaded. Actually, this is a straightforward question after we leave out trivial information.\n",
    "After breaking down, there are only three parts:\n",
    "1. An email has two parts: a local name and a domain, separated by “@.”\n",
    "2. For local name, “.” has no effect and we should skip it; anything after “+” does not matter, and leave it out.\n",
    "3. How many unique email addresses?\n",
    "\n",
    "For each step, we have coping strategies, respectively.\n",
    "Since the input is a list of strings, we can iterate it over for elements (string) and split it into two parts for each element (Step 1).\n",
    "We delete “.” from the local name and keep the original domain name and read the string up to the position that holds “+” (Step 2).\n",
    "We use a set() to calculate the number of unique elements."
   ]
  },
  {
   "cell_type": "code",
   "execution_count": 5,
   "metadata": {},
   "outputs": [],
   "source": [
    "#Enter your code here:\n"
   ]
  },
  {
   "cell_type": "markdown",
   "metadata": {},
   "source": [
    "[Solution](https://gist.githubusercontent.com/LeihuaYe/4aac95ca3e856831e303c67b5ce12345/raw/374f8d424d580bb4870512a16f8a45c7d21a1373/gistfile1.txt)"
   ]
  },
  {
   "cell_type": "markdown",
   "metadata": {},
   "source": [
    "### Question 6 Destination City, by Yelp:\n",
    "- You are given the array paths, where paths[i] = [cityAi, cityBi] means there exists a direct path going from cityAi to cityBi.\n",
    "- Return the destination city, that is, the city without any path outgoing to another city.\n",
    "- It is guaranteed that the graph of paths forms a line without any loop, therefore, there will be exactly one destination city.\n",
    "- https://leetcode.com/problems/destination-city/"
   ]
  },
  {
   "cell_type": "markdown",
   "metadata": {},
   "source": [
    "### Approach:\n",
    "I’ve kept the best last. This question is asked by Yelp, which is delicious. Here is why.\n",
    "For each path, paths[i] has two parts [cityAi,cityBi]: cityAi is the departure city and cityBi is the landing city. The key is to understand the definition of a destination city: it is the one with no departure city. In other words, the destination city should only appear in the second column of paths[i] but never the first one.\n",
    "After understanding this point, the rest becomes self-evident as we can eliminate the landing cities from the departure cities."
   ]
  },
  {
   "cell_type": "code",
   "execution_count": 6,
   "metadata": {},
   "outputs": [],
   "source": [
    "#Enter your code here:\n"
   ]
  },
  {
   "cell_type": "markdown",
   "metadata": {},
   "source": [
    "[Solution](https://gist.githubusercontent.com/LeihuaYe/fa3d5a0a858fbd5aaf72cc9b8d5748d7/raw/48fd774bcbdf4a064d3c70de87fcd5850043029d/gistfile1.txt)"
   ]
  }
 ],
 "metadata": {
  "kernelspec": {
   "display_name": "Python 3",
   "language": "python",
   "name": "python3"
  },
  "language_info": {
   "codemirror_mode": {
    "name": "ipython",
    "version": 3
   },
   "file_extension": ".py",
   "mimetype": "text/x-python",
   "name": "python",
   "nbconvert_exporter": "python",
   "pygments_lexer": "ipython3",
   "version": "3.8.3"
  }
 },
 "nbformat": 4,
 "nbformat_minor": 4
}

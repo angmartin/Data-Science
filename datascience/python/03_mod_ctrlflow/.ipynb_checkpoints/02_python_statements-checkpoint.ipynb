{
 "cells": [
  {
   "cell_type": "markdown",
   "metadata": {},
   "source": [
    "Data Science Fundamentals: Python |\n",
    "[Table of Contents](../index.ipynb)\n",
    "- - - \n",
    "<!--NAVIGATION-->\n",
    "Module 3. [Control Flow](./01_mod_control_flow.ipynb) | **[Statements](./02_python_statements.ipynb)** | [Functions](./03_python_functions.ipynb) | [Exercises](./04_mod_exercises.ipynb)"
   ]
  },
  {
   "cell_type": "markdown",
   "metadata": {},
   "source": [
    "## Statements"
   ]
  },
  {
   "cell_type": "markdown",
   "metadata": {},
   "source": [
    "Statements are commands that have some effect. For example, a function call (that is not part of another expression) is a statement. Also, the variable assignment is a statement:"
   ]
  },
  {
   "cell_type": "code",
   "execution_count": 1,
   "metadata": {},
   "outputs": [],
   "source": [
    "\n",
    "# This is a common idiom to increment the value of i by one\n",
    "# This is a short-hand for the above / to increment the value i by one"
   ]
  },
  {
   "cell_type": "code",
   "execution_count": null,
   "metadata": {},
   "outputs": [],
   "source": []
  },
  {
   "cell_type": "markdown",
   "metadata": {},
   "source": [
    "Note that in Python there are no operators ++ or -- unlike in some other languages."
   ]
  },
  {
   "cell_type": "markdown",
   "metadata": {},
   "source": [
    "It turns out that the operators "
   ]
  },
  {
   "cell_type": "raw",
   "metadata": {},
   "source": [
    "+ - * / // % & | ^ >> << **"
   ]
  },
  {
   "cell_type": "markdown",
   "metadata": {},
   "source": [
    "have the corresponding augmented assignment operators"
   ]
  },
  {
   "cell_type": "raw",
   "metadata": {},
   "source": [
    "+= -= *= /= //= %= &= |= ^= >>= <<= **="
   ]
  },
  {
   "cell_type": "markdown",
   "metadata": {},
   "source": [
    "Another large set of statements is the flow-control statements such as if-else, for and while loops. We will look into these in the next sections."
   ]
  },
  {
   "cell_type": "markdown",
   "metadata": {},
   "source": [
    "### Loops for repetitive tasks\n",
    "\n",
    "In Python we have two kinds of loops: while and for. We briefly saw the for loop earlier. Let’s now look at the **while** loop. A **while** loop repeats a set of statements while a given condition holds. An example:"
   ]
  },
  {
   "cell_type": "code",
   "execution_count": null,
   "metadata": {},
   "outputs": [],
   "source": []
  },
  {
   "cell_type": "markdown",
   "metadata": {},
   "source": [
    "Note again that the body of the while statement was marked with the indentation.\n",
    "\n",
    "Another way of repeating statements is with the **for** statement. An example"
   ]
  },
  {
   "cell_type": "code",
   "execution_count": null,
   "metadata": {},
   "outputs": [],
   "source": []
  },
  {
   "cell_type": "markdown",
   "metadata": {},
   "source": [
    "The for loop executes the statements in the block as many times as there are elements in the given list. At each iteration the variable i refers to another value from the list in order. Instead of the giving the list explicitly as above, we could have used the generator range(10) which returns values from the sequence 0,1,…,9 as the for loop asks for a new value. In the most general form the for loop goes through all the elements in an iterable. Besides lists and generators there are other iterables. We will talk about iterables and generators later this week.\n",
    "\n",
    "When one wants to iterate through all the elements in an iterable, then the for loop is a natural choice. But sometimes while loops offer cleaner solution. For instance, if we want to go through all Fibonacci numbers up till a given limit, then it is easier to do with a while loop."
   ]
  },
  {
   "cell_type": "markdown",
   "metadata": {},
   "source": [
    "## Decision making with the if statement\n",
    "The if-else statement works as can be expected. Try running the below cell by pressing control+enter."
   ]
  },
  {
   "cell_type": "code",
   "execution_count": null,
   "metadata": {},
   "outputs": [],
   "source": []
  },
  {
   "cell_type": "markdown",
   "metadata": {},
   "source": [
    "The general from of an if-else statement is"
   ]
  },
  {
   "cell_type": "raw",
   "metadata": {},
   "source": [
    "if condition1:\n",
    "    statement1_1\n",
    "    statement1_2\n",
    "    ...\n",
    "elif condition2:\n",
    "    statement2_1\n",
    "    statement2_2\n",
    "    ...\n",
    "...\n",
    "else:\n",
    "    statementn_1\n",
    "    statementn_2\n",
    "    ..."
   ]
  },
  {
   "cell_type": "markdown",
   "metadata": {},
   "source": [
    "Another example"
   ]
  },
  {
   "cell_type": "code",
   "execution_count": null,
   "metadata": {},
   "outputs": [],
   "source": []
  },
  {
   "cell_type": "markdown",
   "metadata": {},
   "source": [
    "## Breaking and continuing loop\n",
    "Breaking the loop, when the wanted element is found, with the break statement:"
   ]
  },
  {
   "cell_type": "code",
   "execution_count": null,
   "metadata": {},
   "outputs": [],
   "source": []
  },
  {
   "cell_type": "markdown",
   "metadata": {},
   "source": [
    "<!--NAVIGATION-->\n",
    "Module 3. [Control Flow](./01_mod_control_flow.ipynb) | **[Statements](./02_python_statements.ipynb)** | [Functions](./03_python_functions.ipynb) | [Exercises](./04_mod_exercises.ipynb)\n",
    "<br>\n",
    "[Top](#)"
   ]
  }
 ],
 "metadata": {
  "kernelspec": {
   "display_name": "Python 3",
   "language": "python",
   "name": "python3"
  },
  "language_info": {
   "codemirror_mode": {
    "name": "ipython",
    "version": 3
   },
   "file_extension": ".py",
   "mimetype": "text/x-python",
   "name": "python",
   "nbconvert_exporter": "python",
   "pygments_lexer": "ipython3",
   "version": "3.8.3"
  }
 },
 "nbformat": 4,
 "nbformat_minor": 4
}

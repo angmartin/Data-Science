{
 "cells": [
  {
   "cell_type": "markdown",
   "metadata": {},
   "source": [
    "# Data Analysis with Python\n",
    "File(s) needed: employee_salaries.csv\n",
    "\n",
    "----\n",
    "\n",
    "Dr. Mike Ellis\n",
    "\n",
    "Associate Professor, Management Information Systems (MIS)\n",
    "\n",
    "(soon to be the Computer Information Systems and Analytics (CISA) Department)\n",
    "\n",
    "UCA College of Business\n",
    "\n",
    "mellis@uca.edu"
   ]
  },
  {
   "cell_type": "markdown",
   "metadata": {},
   "source": [
    "## Insert \"wheel\" cliché here\n",
    "As we said in the workshop introduction, the biggest strength of Python is its **_extensibility_**.\n",
    "\n",
    "If you need functionality beyond what you currently have, chances are that someone has written the Python code necessary to do it. Why write it yourself when it is already avaliable at no cost?\n",
    "\n",
    "In this notebook, we will use the packages **_pandas, seaborn, scikit-learn, and statmodels_**. Since the Anaconda distribution installs them automatically, we have them readily available to us. More on how we use them in a minute."
   ]
  },
  {
   "cell_type": "markdown",
   "metadata": {},
   "source": [
    "# The plan for the rest of the workshop\n",
    "\n",
    "<span style=\"font-size:130%\">1. Start with a demonstration of a data analysis using a basic linear regression model.</span>\n",
    "- Import the necessary libraries\n",
    "- Load the data\n",
    "- Inspect the data\n",
    "- Perform a regression analysis using multiple numeric variables.\n",
    "- Perform a regression analysis using multiple numeric and categorical variables.\n",
    "\n",
    "<span style=\"font-size:130%\">2. Then, we'll use a new dataset to work through a second linear regression analysis as a group, adding a couple of new twists as we go.</span>\n",
    "\n",
    "Ready? Let's jump in.\n",
    "\n",
    "---\n",
    "\n",
    "First, we need to import the libraries we will use. If we weren't using the Anaconda distribution of Python we would need to install them."
   ]
  },
  {
   "cell_type": "code",
   "execution_count": 1,
   "metadata": {},
   "outputs": [],
   "source": [
    "# Import the necessary libraries using their standard aliases\n",
    "import pandas as pd\n",
    "import seaborn as sns\n"
   ]
  },
  {
   "cell_type": "markdown",
   "metadata": {},
   "source": [
    "# Demonstration: linear regression using `tips` data\n",
    "\n",
    "## Using data from a library\n",
    "Many of the code libraries available in the Python ecosystem contain datasets. The seaborn library, which we will use for some basic plotting in a few minutes, contains a set of tips paid at restaurants. We access data in a library using the library name and the `load_dataset` function."
   ]
  },
  {
   "cell_type": "code",
   "execution_count": 2,
   "metadata": {},
   "outputs": [],
   "source": [
    "# Load the tips dataset from the Seaborn library\n",
    "tips = sns.load_dataset(\"tips\")"
   ]
  },
  {
   "cell_type": "markdown",
   "metadata": {},
   "source": [
    "# The dataframe\n",
    "The primary data structure used by pandas for analysis is the **_dataframe_** (or DataFrame). The dataframe is a 2-dimensional labeled data structure with columns of potentially different types. You can think of it like a spreadsheet or SQL table.  It is built from a group of \"aligned\" pandas Series (a one-dimensional array of indexed data) objects. \"Aligned\" means they share the same index, and that is the key to dataframes.\n",
    "\n",
    "We typically have our data table constructed so each row is an instance of an entity and each column is an attribute of the entity. The data frame is actually built from the columns, not the rows, however. Each column is a series of the same data type and the columns are aligned by the row index. If this feels confusing, I think you will see soon that it is pretty intuitive.\n",
    "\n",
    "Documentation: https://pandas.pydata.org/pandas-docs/stable/reference/frame.html"
   ]
  },
  {
   "cell_type": "code",
   "execution_count": 3,
   "metadata": {},
   "outputs": [
    {
     "data": {
      "text/plain": [
       "pandas.core.frame.DataFrame"
      ]
     },
     "execution_count": 3,
     "metadata": {},
     "output_type": "execute_result"
    }
   ],
   "source": [
    "# Confirm the type of the tips data structure\n",
    "type(tips)"
   ]
  },
  {
   "cell_type": "markdown",
   "metadata": {},
   "source": [
    "# Data exploration\n",
    "It is a good idea to see what the data looks like before we start trying to analyze it. There are many quick and easy ways we can use to see what the data looks like built into the dataframe. \n",
    "\n",
    "Methods include:\n",
    "- head(): displays first rows of the dataframe (5 rows by default).\n",
    "- tail(): displays last rows of the dataframe (5 rows by default).\n",
    "- info(): shows the overall structure of the dataframe.\n",
    "\n",
    "Attributes include:\n",
    "- shape: number of rows and columns\n",
    "- columns: names of the columns\n",
    "- dtypes: data types of the columns\n",
    "\n",
    "My favorites are `head()` and `info()`. "
   ]
  },
  {
   "cell_type": "code",
   "execution_count": 4,
   "metadata": {
    "scrolled": false
   },
   "outputs": [
    {
     "data": {
      "text/html": [
       "<div>\n",
       "<style scoped>\n",
       "    .dataframe tbody tr th:only-of-type {\n",
       "        vertical-align: middle;\n",
       "    }\n",
       "\n",
       "    .dataframe tbody tr th {\n",
       "        vertical-align: top;\n",
       "    }\n",
       "\n",
       "    .dataframe thead th {\n",
       "        text-align: right;\n",
       "    }\n",
       "</style>\n",
       "<table border=\"1\" class=\"dataframe\">\n",
       "  <thead>\n",
       "    <tr style=\"text-align: right;\">\n",
       "      <th></th>\n",
       "      <th>total_bill</th>\n",
       "      <th>tip</th>\n",
       "      <th>sex</th>\n",
       "      <th>smoker</th>\n",
       "      <th>day</th>\n",
       "      <th>time</th>\n",
       "      <th>size</th>\n",
       "    </tr>\n",
       "  </thead>\n",
       "  <tbody>\n",
       "    <tr>\n",
       "      <th>0</th>\n",
       "      <td>16.99</td>\n",
       "      <td>1.01</td>\n",
       "      <td>Female</td>\n",
       "      <td>No</td>\n",
       "      <td>Sun</td>\n",
       "      <td>Dinner</td>\n",
       "      <td>2</td>\n",
       "    </tr>\n",
       "    <tr>\n",
       "      <th>1</th>\n",
       "      <td>10.34</td>\n",
       "      <td>1.66</td>\n",
       "      <td>Male</td>\n",
       "      <td>No</td>\n",
       "      <td>Sun</td>\n",
       "      <td>Dinner</td>\n",
       "      <td>3</td>\n",
       "    </tr>\n",
       "    <tr>\n",
       "      <th>2</th>\n",
       "      <td>21.01</td>\n",
       "      <td>3.50</td>\n",
       "      <td>Male</td>\n",
       "      <td>No</td>\n",
       "      <td>Sun</td>\n",
       "      <td>Dinner</td>\n",
       "      <td>3</td>\n",
       "    </tr>\n",
       "    <tr>\n",
       "      <th>3</th>\n",
       "      <td>23.68</td>\n",
       "      <td>3.31</td>\n",
       "      <td>Male</td>\n",
       "      <td>No</td>\n",
       "      <td>Sun</td>\n",
       "      <td>Dinner</td>\n",
       "      <td>2</td>\n",
       "    </tr>\n",
       "    <tr>\n",
       "      <th>4</th>\n",
       "      <td>24.59</td>\n",
       "      <td>3.61</td>\n",
       "      <td>Female</td>\n",
       "      <td>No</td>\n",
       "      <td>Sun</td>\n",
       "      <td>Dinner</td>\n",
       "      <td>4</td>\n",
       "    </tr>\n",
       "  </tbody>\n",
       "</table>\n",
       "</div>"
      ],
      "text/plain": [
       "   total_bill   tip     sex smoker  day    time  size\n",
       "0       16.99  1.01  Female     No  Sun  Dinner     2\n",
       "1       10.34  1.66    Male     No  Sun  Dinner     3\n",
       "2       21.01  3.50    Male     No  Sun  Dinner     3\n",
       "3       23.68  3.31    Male     No  Sun  Dinner     2\n",
       "4       24.59  3.61  Female     No  Sun  Dinner     4"
      ]
     },
     "execution_count": 4,
     "metadata": {},
     "output_type": "execute_result"
    }
   ],
   "source": [
    "# Use head() to see first 5 rows\n",
    "tips.head()"
   ]
  },
  {
   "cell_type": "code",
   "execution_count": 5,
   "metadata": {},
   "outputs": [
    {
     "name": "stdout",
     "output_type": "stream",
     "text": [
      "<class 'pandas.core.frame.DataFrame'>\n",
      "RangeIndex: 244 entries, 0 to 243\n",
      "Data columns (total 7 columns):\n",
      "total_bill    244 non-null float64\n",
      "tip           244 non-null float64\n",
      "sex           244 non-null category\n",
      "smoker        244 non-null category\n",
      "day           244 non-null category\n",
      "time          244 non-null category\n",
      "size          244 non-null int64\n",
      "dtypes: category(4), float64(2), int64(1)\n",
      "memory usage: 7.2 KB\n"
     ]
    }
   ],
   "source": [
    "# Use info() to see the structure of the data\n",
    "tips.info()"
   ]
  },
  {
   "cell_type": "markdown",
   "metadata": {},
   "source": [
    "## Descriptive statistics\n",
    "Descriptive statistics are another great way to get an understanding of the data. Individual stats like the mean or median can be calculated, but a summary of all those statistics can be displayed by using a single method: `describe()`."
   ]
  },
  {
   "cell_type": "code",
   "execution_count": 6,
   "metadata": {
    "scrolled": true
   },
   "outputs": [
    {
     "data": {
      "text/html": [
       "<div>\n",
       "<style scoped>\n",
       "    .dataframe tbody tr th:only-of-type {\n",
       "        vertical-align: middle;\n",
       "    }\n",
       "\n",
       "    .dataframe tbody tr th {\n",
       "        vertical-align: top;\n",
       "    }\n",
       "\n",
       "    .dataframe thead th {\n",
       "        text-align: right;\n",
       "    }\n",
       "</style>\n",
       "<table border=\"1\" class=\"dataframe\">\n",
       "  <thead>\n",
       "    <tr style=\"text-align: right;\">\n",
       "      <th></th>\n",
       "      <th>total_bill</th>\n",
       "      <th>tip</th>\n",
       "      <th>size</th>\n",
       "    </tr>\n",
       "  </thead>\n",
       "  <tbody>\n",
       "    <tr>\n",
       "      <th>count</th>\n",
       "      <td>244.000000</td>\n",
       "      <td>244.000000</td>\n",
       "      <td>244.000000</td>\n",
       "    </tr>\n",
       "    <tr>\n",
       "      <th>mean</th>\n",
       "      <td>19.785943</td>\n",
       "      <td>2.998279</td>\n",
       "      <td>2.569672</td>\n",
       "    </tr>\n",
       "    <tr>\n",
       "      <th>std</th>\n",
       "      <td>8.902412</td>\n",
       "      <td>1.383638</td>\n",
       "      <td>0.951100</td>\n",
       "    </tr>\n",
       "    <tr>\n",
       "      <th>min</th>\n",
       "      <td>3.070000</td>\n",
       "      <td>1.000000</td>\n",
       "      <td>1.000000</td>\n",
       "    </tr>\n",
       "    <tr>\n",
       "      <th>25%</th>\n",
       "      <td>13.347500</td>\n",
       "      <td>2.000000</td>\n",
       "      <td>2.000000</td>\n",
       "    </tr>\n",
       "    <tr>\n",
       "      <th>50%</th>\n",
       "      <td>17.795000</td>\n",
       "      <td>2.900000</td>\n",
       "      <td>2.000000</td>\n",
       "    </tr>\n",
       "    <tr>\n",
       "      <th>75%</th>\n",
       "      <td>24.127500</td>\n",
       "      <td>3.562500</td>\n",
       "      <td>3.000000</td>\n",
       "    </tr>\n",
       "    <tr>\n",
       "      <th>max</th>\n",
       "      <td>50.810000</td>\n",
       "      <td>10.000000</td>\n",
       "      <td>6.000000</td>\n",
       "    </tr>\n",
       "  </tbody>\n",
       "</table>\n",
       "</div>"
      ],
      "text/plain": [
       "       total_bill         tip        size\n",
       "count  244.000000  244.000000  244.000000\n",
       "mean    19.785943    2.998279    2.569672\n",
       "std      8.902412    1.383638    0.951100\n",
       "min      3.070000    1.000000    1.000000\n",
       "25%     13.347500    2.000000    2.000000\n",
       "50%     17.795000    2.900000    2.000000\n",
       "75%     24.127500    3.562500    3.000000\n",
       "max     50.810000   10.000000    6.000000"
      ]
     },
     "execution_count": 6,
     "metadata": {},
     "output_type": "execute_result"
    }
   ],
   "source": [
    "# Use describe() to get descriptive statistics for the numeric variables.\n",
    "tips.describe()"
   ]
  },
  {
   "cell_type": "markdown",
   "metadata": {},
   "source": [
    "What about the categorical variables? We can inspect them individually by referring to the column and using a Series method. We can also add an option to `describe()` to shows us something about all the variables.\n",
    "\n",
    "We refer to individual columns by placing the column name in square brackets after the dataframe name."
   ]
  },
  {
   "cell_type": "code",
   "execution_count": 9,
   "metadata": {
    "scrolled": true
   },
   "outputs": [
    {
     "data": {
      "text/plain": [
       "Sat     87\n",
       "Sun     76\n",
       "Thur    62\n",
       "Fri     19\n",
       "Name: day, dtype: int64"
      ]
     },
     "execution_count": 9,
     "metadata": {},
     "output_type": "execute_result"
    }
   ],
   "source": [
    "# Look at the day column\n",
    "tips[\"day\"]\n",
    "tips[\"day\"].value_counts()"
   ]
  },
  {
   "cell_type": "code",
   "execution_count": 10,
   "metadata": {},
   "outputs": [
    {
     "data": {
      "text/html": [
       "<div>\n",
       "<style scoped>\n",
       "    .dataframe tbody tr th:only-of-type {\n",
       "        vertical-align: middle;\n",
       "    }\n",
       "\n",
       "    .dataframe tbody tr th {\n",
       "        vertical-align: top;\n",
       "    }\n",
       "\n",
       "    .dataframe thead th {\n",
       "        text-align: right;\n",
       "    }\n",
       "</style>\n",
       "<table border=\"1\" class=\"dataframe\">\n",
       "  <thead>\n",
       "    <tr style=\"text-align: right;\">\n",
       "      <th></th>\n",
       "      <th>total_bill</th>\n",
       "      <th>tip</th>\n",
       "      <th>sex</th>\n",
       "      <th>smoker</th>\n",
       "      <th>day</th>\n",
       "      <th>time</th>\n",
       "      <th>size</th>\n",
       "    </tr>\n",
       "  </thead>\n",
       "  <tbody>\n",
       "    <tr>\n",
       "      <th>count</th>\n",
       "      <td>244.000000</td>\n",
       "      <td>244.000000</td>\n",
       "      <td>244</td>\n",
       "      <td>244</td>\n",
       "      <td>244</td>\n",
       "      <td>244</td>\n",
       "      <td>244.000000</td>\n",
       "    </tr>\n",
       "    <tr>\n",
       "      <th>unique</th>\n",
       "      <td>NaN</td>\n",
       "      <td>NaN</td>\n",
       "      <td>2</td>\n",
       "      <td>2</td>\n",
       "      <td>4</td>\n",
       "      <td>2</td>\n",
       "      <td>NaN</td>\n",
       "    </tr>\n",
       "    <tr>\n",
       "      <th>top</th>\n",
       "      <td>NaN</td>\n",
       "      <td>NaN</td>\n",
       "      <td>Male</td>\n",
       "      <td>No</td>\n",
       "      <td>Sat</td>\n",
       "      <td>Dinner</td>\n",
       "      <td>NaN</td>\n",
       "    </tr>\n",
       "    <tr>\n",
       "      <th>freq</th>\n",
       "      <td>NaN</td>\n",
       "      <td>NaN</td>\n",
       "      <td>157</td>\n",
       "      <td>151</td>\n",
       "      <td>87</td>\n",
       "      <td>176</td>\n",
       "      <td>NaN</td>\n",
       "    </tr>\n",
       "    <tr>\n",
       "      <th>mean</th>\n",
       "      <td>19.785943</td>\n",
       "      <td>2.998279</td>\n",
       "      <td>NaN</td>\n",
       "      <td>NaN</td>\n",
       "      <td>NaN</td>\n",
       "      <td>NaN</td>\n",
       "      <td>2.569672</td>\n",
       "    </tr>\n",
       "    <tr>\n",
       "      <th>std</th>\n",
       "      <td>8.902412</td>\n",
       "      <td>1.383638</td>\n",
       "      <td>NaN</td>\n",
       "      <td>NaN</td>\n",
       "      <td>NaN</td>\n",
       "      <td>NaN</td>\n",
       "      <td>0.951100</td>\n",
       "    </tr>\n",
       "    <tr>\n",
       "      <th>min</th>\n",
       "      <td>3.070000</td>\n",
       "      <td>1.000000</td>\n",
       "      <td>NaN</td>\n",
       "      <td>NaN</td>\n",
       "      <td>NaN</td>\n",
       "      <td>NaN</td>\n",
       "      <td>1.000000</td>\n",
       "    </tr>\n",
       "    <tr>\n",
       "      <th>25%</th>\n",
       "      <td>13.347500</td>\n",
       "      <td>2.000000</td>\n",
       "      <td>NaN</td>\n",
       "      <td>NaN</td>\n",
       "      <td>NaN</td>\n",
       "      <td>NaN</td>\n",
       "      <td>2.000000</td>\n",
       "    </tr>\n",
       "    <tr>\n",
       "      <th>50%</th>\n",
       "      <td>17.795000</td>\n",
       "      <td>2.900000</td>\n",
       "      <td>NaN</td>\n",
       "      <td>NaN</td>\n",
       "      <td>NaN</td>\n",
       "      <td>NaN</td>\n",
       "      <td>2.000000</td>\n",
       "    </tr>\n",
       "    <tr>\n",
       "      <th>75%</th>\n",
       "      <td>24.127500</td>\n",
       "      <td>3.562500</td>\n",
       "      <td>NaN</td>\n",
       "      <td>NaN</td>\n",
       "      <td>NaN</td>\n",
       "      <td>NaN</td>\n",
       "      <td>3.000000</td>\n",
       "    </tr>\n",
       "    <tr>\n",
       "      <th>max</th>\n",
       "      <td>50.810000</td>\n",
       "      <td>10.000000</td>\n",
       "      <td>NaN</td>\n",
       "      <td>NaN</td>\n",
       "      <td>NaN</td>\n",
       "      <td>NaN</td>\n",
       "      <td>6.000000</td>\n",
       "    </tr>\n",
       "  </tbody>\n",
       "</table>\n",
       "</div>"
      ],
      "text/plain": [
       "        total_bill         tip   sex smoker  day    time        size\n",
       "count   244.000000  244.000000   244    244  244     244  244.000000\n",
       "unique         NaN         NaN     2      2    4       2         NaN\n",
       "top            NaN         NaN  Male     No  Sat  Dinner         NaN\n",
       "freq           NaN         NaN   157    151   87     176         NaN\n",
       "mean     19.785943    2.998279   NaN    NaN  NaN     NaN    2.569672\n",
       "std       8.902412    1.383638   NaN    NaN  NaN     NaN    0.951100\n",
       "min       3.070000    1.000000   NaN    NaN  NaN     NaN    1.000000\n",
       "25%      13.347500    2.000000   NaN    NaN  NaN     NaN    2.000000\n",
       "50%      17.795000    2.900000   NaN    NaN  NaN     NaN    2.000000\n",
       "75%      24.127500    3.562500   NaN    NaN  NaN     NaN    3.000000\n",
       "max      50.810000   10.000000   NaN    NaN  NaN     NaN    6.000000"
      ]
     },
     "execution_count": 10,
     "metadata": {},
     "output_type": "execute_result"
    }
   ],
   "source": [
    "# Add the option to include all variables\n",
    "tips.describe(include=\"all\")"
   ]
  },
  {
   "cell_type": "markdown",
   "metadata": {},
   "source": [
    "## Basic plotting\n",
    "There are several libraries available to plot data. We'll use **_seaborn_** because it is a good compromise between ease of use and available features.\n",
    "\n",
    "The `matplotlib` library can be thought of as the core foundational plotting tool in Python. The `seaborn` library builds on `matplotlib` by providing a higher-level interface for statistical graphics. It allows you to create more professional-looking plots with very little coding.\n",
    "\n",
    "Documentation for Seaborn: https://seaborn.pydata.org/index.html\n"
   ]
  },
  {
   "cell_type": "markdown",
   "metadata": {},
   "source": [
    "## Categorical data: Bar chart\n",
    "For categorical data, seaborn provides a function called `countplot()`. This method counts the occurances of the values in the specified column and plots a bar chart based on the frequencies. Just specify the dataframe (`data =` argument) and the column of interest (`x=` argument). Plot horizontal bars by specifying a y value (instead of x).\n"
   ]
  },
  {
   "cell_type": "code",
   "execution_count": 11,
   "metadata": {},
   "outputs": [
    {
     "data": {
      "image/png": "[encoded data removed]",
      "text/plain": [
       "<Figure size 432x288 with 1 Axes>"
      ]
     },
     "metadata": {
      "needs_background": "light"
     },
     "output_type": "display_data"
    }
   ],
   "source": [
    "# Use the countplot method to plot tips by the day\n",
    "ax = sns.countplot(x='day', data=tips)"
   ]
  },
  {
   "cell_type": "markdown",
   "metadata": {},
   "source": [
    "## Continuous data: Histogram\n",
    "**Histograms** are the most common way to look at a single continuous variable dataset. When the data is continuous, that means we have to convert it into data we can count. This is called **_discretizing_** the data (i.e., converting it to discrete data). We use a process called **binning** to create ranges (i.e., the bins) to group data points together. Then we can count the number of data points in each bin and plot the bin frequencies.\n",
    "\n",
    "We can specify the number of bins ourselves or use seaborn's built-in functionality to do the binning for us. First, let's have seaborn do a quick histogram for us."
   ]
  },
  {
   "cell_type": "code",
   "execution_count": 12,
   "metadata": {},
   "outputs": [
    {
     "data": {
      "image/png": "[encoded data removed]",
      "text/plain": [
       "<Figure size 432x288 with 1 Axes>"
      ]
     },
     "metadata": {
      "needs_background": "light"
     },
     "output_type": "display_data"
    }
   ],
   "source": [
    "# Create a histogram using the simplest command\n",
    "ax = sns.distplot(tips['total_bill'])"
   ]
  },
  {
   "cell_type": "code",
   "execution_count": 13,
   "metadata": {},
   "outputs": [
    {
     "data": {
      "text/plain": [
       "Text(0, 0.5, 'Frequency')"
      ]
     },
     "execution_count": 13,
     "metadata": {},
     "output_type": "execute_result"
    },
    {
     "data": {
      "image/png": "[encoded data removed]",
      "text/plain": [
       "<Figure size 432x288 with 1 Axes>"
      ]
     },
     "metadata": {
      "needs_background": "light"
     },
     "output_type": "display_data"
    }
   ],
   "source": [
    "# Histogram only, add descriptive titles, and specify number of bins\n",
    "ax = sns.distplot(tips['total_bill'], bins=5, kde=False)\n",
    "ax.set_title('Total Bill Histogram')\n",
    "ax.set_xlabel('Total Bill')\n",
    "ax.set_ylabel('Frequency')\n"
   ]
  },
  {
   "cell_type": "markdown",
   "metadata": {},
   "source": [
    "## Continuous data: Box and whiskers plot\n",
    "Boxplots show multiple statistics for a single variable.\n",
    "- minimum\n",
    "- first quartile\n",
    "- median\n",
    "- third quartile\n",
    "- maximum\n",
    "- outliers based on the interquartile range (if applicable)\n",
    "\n",
    "Note that y is specified, not x. What happens if we add a categorical x variable? We get multiple box plots."
   ]
  },
  {
   "cell_type": "code",
   "execution_count": 14,
   "metadata": {},
   "outputs": [
    {
     "data": {
      "image/png": "[encoded data removed]",
      "text/plain": [
       "<Figure size 432x288 with 1 Axes>"
      ]
     },
     "metadata": {
      "needs_background": "light"
     },
     "output_type": "display_data"
    }
   ],
   "source": [
    "# Create a simple box plot\n",
    "ax = sns.boxplot(y='total_bill', data=tips)"
   ]
  },
  {
   "cell_type": "code",
   "execution_count": 15,
   "metadata": {},
   "outputs": [
    {
     "data": {
      "text/plain": [
       "Text(0, 0.5, 'Total Bill')"
      ]
     },
     "execution_count": 15,
     "metadata": {},
     "output_type": "execute_result"
    },
    {
     "data": {
      "image/png": "[encoded data removed]",
      "text/plain": [
       "<Figure size 432x288 with 1 Axes>"
      ]
     },
     "metadata": {
      "needs_background": "light"
     },
     "output_type": "display_data"
    }
   ],
   "source": [
    "# Add an x value to show multiple box plots.\n",
    "# x is a categorical variable used to split data for multiple plots in one figure\n",
    "ax = sns.boxplot(x='time', y='total_bill', data=tips)\n",
    "ax.set_title('Boxplot of total bill by time of day')\n",
    "ax.set_xlabel('Time of day')\n",
    "ax.set_ylabel('Total Bill')"
   ]
  },
  {
   "cell_type": "markdown",
   "metadata": {},
   "source": [
    "## Scatterplots\n",
    "A scatterplot is great way to get an idea of what your data looks like when you have two-dimensional data. A basic scatterplot is just a graphic representation of each data point on an x-y grid. We use them to see if there are any obvious patterns in the data.\n",
    "\n",
    "If we want a scatterplot that includes a fitted regression line, we use `lmplot` (or `regplot`)."
   ]
  },
  {
   "cell_type": "code",
   "execution_count": 16,
   "metadata": {},
   "outputs": [
    {
     "data": {
      "image/png": "[encoded data removed]",
      "text/plain": [
       "<Figure size 432x288 with 1 Axes>"
      ]
     },
     "metadata": {
      "needs_background": "light"
     },
     "output_type": "display_data"
    }
   ],
   "source": [
    "# Basic scatterplot\n",
    "ax = sns.scatterplot(x='total_bill', y='tip', data=tips)"
   ]
  },
  {
   "cell_type": "code",
   "execution_count": 17,
   "metadata": {},
   "outputs": [
    {
     "data": {
      "text/plain": [
       "Text(0, 0.5, 'Tip')"
      ]
     },
     "execution_count": 17,
     "metadata": {},
     "output_type": "execute_result"
    },
    {
     "data": {
      "image/png": "[encoded data removed]",
      "text/plain": [
       "<Figure size 432x288 with 1 Axes>"
      ]
     },
     "metadata": {
      "needs_background": "light"
     },
     "output_type": "display_data"
    }
   ],
   "source": [
    "# Can also add some customization\n",
    "ax = sns.scatterplot(x='total_bill', y='tip', data=tips)\n",
    "ax.set_title('Scatterplot of Total Bill and Tip')\n",
    "ax.set_xlabel('Total Bill')\n",
    "ax.set_ylabel('Tip')"
   ]
  },
  {
   "cell_type": "code",
   "execution_count": 18,
   "metadata": {},
   "outputs": [
    {
     "data": {
      "image/png": "[encoded data removed]",
      "text/plain": [
       "<Figure size 360x360 with 1 Axes>"
      ]
     },
     "metadata": {
      "needs_background": "light"
     },
     "output_type": "display_data"
    }
   ],
   "source": [
    "# A scatterplot with a regression line using lmplot()\n",
    "# lmplot() does not allow for customization. Use regplot() instead if that is important.\n",
    "ax = sns.lmplot(x='total_bill', y='tip', data=tips)"
   ]
  },
  {
   "cell_type": "markdown",
   "metadata": {},
   "source": [
    "## Pairwise relationships\n",
    "\n",
    "- You can see all the pairwise relationships for all the numeric data in a dataframe using `pairplot()`.\n",
    "- It plots a scatterplot between each pair of variables and a histogram of each variable on the diagonal.\n",
    "- If there are more than a few variables it may take a little while so BE PATIENT!\n",
    "- The top half of the visualization above the diagonal is a mirror image of the bottom half."
   ]
  },
  {
   "cell_type": "code",
   "execution_count": 19,
   "metadata": {},
   "outputs": [
    {
     "data": {
      "image/png": "[encoded data removed]",
      "text/plain": [
       "<Figure size 540x540 with 12 Axes>"
      ]
     },
     "metadata": {
      "needs_background": "light"
     },
     "output_type": "display_data"
    }
   ],
   "source": [
    "# Show all pairwise plots for the tips data\n",
    "ax = sns.pairplot(tips)"
   ]
  },
  {
   "cell_type": "markdown",
   "metadata": {},
   "source": [
    "There are more options we can use for plotting multiple variables. A couple useful ones are \n",
    "- **hue**: different colors for different values of a categorical variable.\n",
    "- **col**: multiple plots (i.e., columns) in one chart\n",
    "\n",
    "Here is an example adding different colors for smokers versus non-smokers while plotting lunch and dinner data in separate plots."
   ]
  },
  {
   "cell_type": "code",
   "execution_count": 20,
   "metadata": {},
   "outputs": [
    {
     "data": {
      "image/png": "[encoded data removed]",
      "text/plain": [
       "<Figure size 773.359x360 with 2 Axes>"
      ]
     },
     "metadata": {
      "needs_background": "light"
     },
     "output_type": "display_data"
    }
   ],
   "source": [
    "# Scatter plot with hue and col\n",
    "ax = sns.lmplot(x='total_bill', y='tip', col='time', hue='smoker',data=tips)"
   ]
  },
  {
   "cell_type": "markdown",
   "metadata": {},
   "source": [
    "# A Tale of Two Packages: statsmodels and scikit-learn\n",
    "There are two main regression modeling packages available in the Python ecosystem, and the one you choose depends upon your purpose.\n",
    "\n",
    "- Built as a machine learning library, the **scikit-learn** package can create a linear regression model with just a couple of lines of code. The downside is that the analyst must retrieve and format the results to show them in a meaningful way. https://scikit-learn.org/stable/\n",
    "- The **statsmodels package** creates a linear regression model with just a few lines of code but it has a built-in method called _summary()_ that presents the results in a format familiar to the users of most commercial stats packages. https://www.statsmodels.org/stable/index.html  \n",
    "\n",
    "We will focus on the statsmodels package in our demonstration and group analysis, but will also include examples of using scikit-learn procedures. \n",
    "\n",
    "## Creating a multiple regression model\n",
    "We create a model from data to either describe that data or predict a future value or outcome. When the data we need to model appears to exhibit a linear relationship between two or more variables, we use linear models to describe them. The idea of a linear model is simple - to find a straight line that best describes the data.\n",
    "\n",
    "We have seen that idea applied when we created plots that included a fitted regression line. In this example, we will determine an equation for that line.\n",
    "\n",
    "In the case of multiple linear regression, the equation of the line is represented by \n",
    "\\begin{equation*}\n",
    "y = m_1x_1 + m_2x_2 + ... + m_ix_i + b\n",
    "\\end{equation*}\n",
    "where\n",
    "<ul style=\"list-style-type:none;\">\n",
    "    <li><i><b>y</i></b> is the value we are predicting (the dependent or response variable),</li>\n",
    "    <li><i><b>x</i></b> is the value of a predictor (or independent) variable. The multiple predictors are denoted as x<sub>1</sub> through x<sub>i</sub>,</li>\n",
    "<li><i><b>m</i></b> is the value of a regression coefficient. The multiple coefficients are denoted as m<sub>1</sub> through m<sub>i</sub>, and</li>\n",
    "<li><i><b>b</i></b> is the y-intercept.</li>\n",
    "</ul>\n",
    "\n",
    "## Multiple regression using statsmodel\n",
    "Since we know what the regression line looks like from the previous plot, let's use the \"tips\" data to create a linear regression model. We will use the `formula` API from the `statsmodels` library. The `formula` API allows us to specify the model using R-style formulas.\n",
    "\n",
    "Linear regression in statsmodels: https://www.statsmodels.org/dev/regression.html\n",
    "\n",
    "R-style formulas: https://patsy.readthedocs.io/en/latest/overview.html\n",
    "\n",
    "This demonstration problem will use the `ols` function from the statsmodels.formula library. Ordinary least squares is one common method to estimate the parameters of a regression line. You can see in the documentation some of the other options available in this library. https://www.statsmodels.org/stable/api.html#statsmodels-formula-api"
   ]
  },
  {
   "cell_type": "code",
   "execution_count": 21,
   "metadata": {},
   "outputs": [],
   "source": [
    "# Import formula API from statsmodel\n",
    "# This is the standard way to access the formula API in statsmodels\n",
    "import statsmodels.formula.api as smf"
   ]
  },
  {
   "cell_type": "markdown",
   "metadata": {},
   "source": [
    "The generic syntax is to call the ols function with a formula specification and the dataset object name as arguments. Then the results can be saved in a new object, typically named `model`.\n",
    "\n",
    "The R-style formula is a string with the dependent variable on the left side, the independent variables separated by plus signs on the right side, and a tilde `~` between them. In this example, we will model 'tip' using 'total_bill' and 'size,' so our formula will look like this:\n",
    "```\n",
    "model = smf.ols(formula='tip ~ total_bill + size', data=tips)\n",
    "```\n",
    "Then we call the `fit()` method of the resulting model object to generate the fit statistics. Finally, calling the `summary()` method on the regression results container gives us an output table of the statistical results."
   ]
  },
  {
   "cell_type": "code",
   "execution_count": 22,
   "metadata": {},
   "outputs": [
    {
     "name": "stdout",
     "output_type": "stream",
     "text": [
      "                            OLS Regression Results                            \n",
      "==============================================================================\n",
      "Dep. Variable:                    tip   R-squared:                       0.468\n",
      "Model:                            OLS   Adj. R-squared:                  0.463\n",
      "Method:                 Least Squares   F-statistic:                     105.9\n",
      "Date:                Wed, 30 Sep 2020   Prob (F-statistic):           9.67e-34\n",
      "Time:                        11:27:56   Log-Likelihood:                -347.99\n",
      "No. Observations:                 244   AIC:                             702.0\n",
      "Df Residuals:                     241   BIC:                             712.5\n",
      "Df Model:                           2                                         \n",
      "Covariance Type:            nonrobust                                         \n",
      "==============================================================================\n",
      "                 coef    std err          t      P>|t|      [0.025      0.975]\n",
      "------------------------------------------------------------------------------\n",
      "Intercept      0.6689      0.194      3.455      0.001       0.288       1.050\n",
      "total_bill     0.0927      0.009     10.172      0.000       0.075       0.111\n",
      "size           0.1926      0.085      2.258      0.025       0.025       0.361\n",
      "==============================================================================\n",
      "Omnibus:                       24.753   Durbin-Watson:                   2.100\n",
      "Prob(Omnibus):                  0.000   Jarque-Bera (JB):               46.169\n",
      "Skew:                           0.545   Prob(JB):                     9.43e-11\n",
      "Kurtosis:                       4.831   Cond. No.                         67.6\n",
      "==============================================================================\n",
      "\n",
      "Warnings:\n",
      "[1] Standard Errors assume that the covariance matrix of the errors is correctly specified.\n"
     ]
    }
   ],
   "source": [
    "# Specify and fit the model using total_bill and size as a predictor of tip\n",
    "model = smf.ols(formula='tip ~ total_bill + size', data=tips)\n",
    "results = model.fit()\n",
    "\n",
    "# Inspect the results\n",
    "print(results.summary())"
   ]
  },
  {
   "cell_type": "markdown",
   "metadata": {},
   "source": [
    "With two predictors, we are modeling the following equation:\n",
    "\\begin{equation*}\n",
    "y = m_1x_1 + m_2x_2 + b\n",
    "\\end{equation*}\n",
    "\n",
    "We can use the coefficient values to predict a tip (y) based upon the total bill (x<sub>1</sub>) and size (x<sub>2</sub>).\n",
    "\n",
    "The predicted regression coefficients are all significant, so they all remain in our model. With the results added, the equation becomes\n",
    "\\begin{equation*}\n",
    "y = 0.0927total\\_bill + 0.1926size + 0.6689\n",
    "\\end{equation*}\n",
    "\n",
    "If we want to interpret individual coefficients, it is with the understanding that the others are held constant. For example, we would say that the tip increases by about 19 cents for every person added to the party as long as the total bill doesn't change.\n",
    "\n",
    "We can use the `params` attribute to get just the coefficients and the `conf_int()` method to get just the confidence interval parameters if that is all we want."
   ]
  },
  {
   "cell_type": "markdown",
   "metadata": {},
   "source": [
    "## Multiple regression using scikit-learn\n",
    "As we've seen, `statsmodels` is pretty easy to use. So why use scikit-learn? The `scikit-learn` library is more focused on machine learning rather than statistics. It incorporates many different ML tools.\n",
    "\n",
    "Documentation: https://scikit-learn.org/stable/\n",
    "\n",
    "Of course, the way we build our model specification and the output we see are different with scikit-learn than with statsmodels.  \n",
    "\n",
    "First, we need to import the scikit-learn library. There are two aspects of this.\n",
    "- The actual library is called `sklearn`.\n",
    "- In our example we only want the functionality of the `linear_model` part of the library.\n",
    "\n",
    "Then, we create a linear regression object to hold the model. Next, call the `fit()` method of the regression object while specifying the model using the `X=` argument and a list of the independent variables (total_bill and size) with the `Y=` argument and the dependent variable (tip). Finally, we use `print()` to display the output values of interest."
   ]
  },
  {
   "cell_type": "code",
   "execution_count": 23,
   "metadata": {},
   "outputs": [
    {
     "name": "stdout",
     "output_type": "stream",
     "text": [
      "[0.09271334 0.19259779]\n",
      "0.6689447408125031\n"
     ]
    }
   ],
   "source": [
    "# Import the library\n",
    "from sklearn import linear_model\n",
    "\n",
    "# Create the linear regression object\n",
    "lr = linear_model.LinearRegression()\n",
    "\n",
    "# Specify and fit the model using total_bill and size as a predictor of tip\n",
    "# Note the double square brackets in X\n",
    "predicted = lr.fit(X=tips[['total_bill','size']], y=tips['tip'])\n",
    "\n",
    "#Inspect the results\n",
    "print(predicted.coef_)\n",
    "print(predicted.intercept_)"
   ]
  },
  {
   "cell_type": "markdown",
   "metadata": {},
   "source": [
    "# Adding categorical predictors\n",
    "\n",
    "The examples so far have only used continuous predictors to this point. Like many data sets, the `tips` data contains categorical data like \"sex\" (values of \"Male\" and \"Female\") and \"day\" (values of \"Thur\", \"Fri\", \"Sat\", and \"Sun\"). What if we want to use one of those variables as a possible predictor?\n",
    "\n",
    "The ordinary least squares algorithm (and many others) can't do anything with text values like \"Male\" or \"Fri\" when modeling a regression. We get around that by creating dummy variables.\n",
    "\n",
    "A _**dummy variable**_ takes the value of 0 (not present) or 1 (present) to indicate the state of a categorical value we think might have an effect on the outcome. To implement dummy variables, each unique value of the categorical variable becomes a new variable (i.e., column in the data set) with a 0 or 1 value. Then, we designate one of the new variables as the **reference value** and drop it. The results involving that variable are expressed in terms of difference from the reference variable. More in a minute.\n",
    "\n",
    "In the example of the values for \"sex,\" we only need one dummy variable, because if we keep the \"Female\" dummy variable, we either have a value of 1 (a female) or a value of 0 (not a female, so a male). \"Male\" becomes the reference value and we drop it from the analysis."
   ]
  },
  {
   "cell_type": "code",
   "execution_count": 24,
   "metadata": {
    "scrolled": true
   },
   "outputs": [
    {
     "name": "stdout",
     "output_type": "stream",
     "text": [
      "[Female, Male]\n",
      "Categories (2, object): [Female, Male]\n",
      "\n",
      "[Sun, Sat, Thur, Fri]\n",
      "Categories (4, object): [Sun, Sat, Thur, Fri]\n"
     ]
    }
   ],
   "source": [
    "# Check for unique values for sex and day\n",
    "print(tips['sex'].unique())\n",
    "print()\n",
    "print(tips['day'].unique())"
   ]
  },
  {
   "cell_type": "markdown",
   "metadata": {},
   "source": [
    "## Categoricals using statsmodels\n",
    "But there is good news! `statsmodels` will automatically create dummy variables for us AND it drops the reference value. "
   ]
  },
  {
   "cell_type": "code",
   "execution_count": 25,
   "metadata": {},
   "outputs": [
    {
     "name": "stdout",
     "output_type": "stream",
     "text": [
      "                            OLS Regression Results                            \n",
      "==============================================================================\n",
      "Dep. Variable:                    tip   R-squared:                       0.470\n",
      "Model:                            OLS   Adj. R-squared:                  0.452\n",
      "Method:                 Least Squares   F-statistic:                     26.06\n",
      "Date:                Wed, 30 Sep 2020   Prob (F-statistic):           1.20e-28\n",
      "Time:                        11:38:03   Log-Likelihood:                -347.48\n",
      "No. Observations:                 244   AIC:                             713.0\n",
      "Df Residuals:                     235   BIC:                             744.4\n",
      "Df Model:                           8                                         \n",
      "Covariance Type:            nonrobust                                         \n",
      "==================================================================================\n",
      "                     coef    std err          t      P>|t|      [0.025      0.975]\n",
      "----------------------------------------------------------------------------------\n",
      "Intercept          0.5908      0.256      2.310      0.022       0.087       1.095\n",
      "sex[T.Female]      0.0324      0.142      0.229      0.819      -0.247       0.311\n",
      "smoker[T.No]       0.0864      0.147      0.589      0.556      -0.202       0.375\n",
      "day[T.Fri]         0.1623      0.393      0.412      0.680      -0.613       0.937\n",
      "day[T.Sat]         0.0408      0.471      0.087      0.931      -0.886       0.968\n",
      "day[T.Sun]         0.1368      0.472      0.290      0.772      -0.793       1.066\n",
      "time[T.Dinner]    -0.0681      0.445     -0.153      0.878      -0.944       0.808\n",
      "total_bill         0.0945      0.010      9.841      0.000       0.076       0.113\n",
      "size               0.1760      0.090      1.966      0.051      -0.000       0.352\n",
      "==============================================================================\n",
      "Omnibus:                       27.860   Durbin-Watson:                   2.096\n",
      "Prob(Omnibus):                  0.000   Jarque-Bera (JB):               52.555\n",
      "Skew:                           0.607   Prob(JB):                     3.87e-12\n",
      "Kurtosis:                       4.923   Cond. No.                         281.\n",
      "==============================================================================\n",
      "\n",
      "Warnings:\n",
      "[1] Standard Errors assume that the covariance matrix of the errors is correctly specified.\n"
     ]
    }
   ],
   "source": [
    "# Add the categorical variables to our model specification\n",
    "model = smf.ols(formula='tip ~ total_bill + size + sex + smoker + day + time', data=tips)\n",
    "results = model.fit()\n",
    "\n",
    "# Inspect the results\n",
    "print(results.summary())"
   ]
  },
  {
   "cell_type": "markdown",
   "metadata": {},
   "source": [
    "We interpret the results for the dummy variables _in terms of the reference value_. For example, we would say from these results that tips are about 16 cents bigger on Friday than Thursday, all else equal. We know Thursday is the reference value because it is the one missing from the output summary.\n",
    "\n",
    "**_Except_** - look at the p-values in the summary. None of the categorical variables is significant here, so we would not include them in our final model."
   ]
  },
  {
   "cell_type": "markdown",
   "metadata": {},
   "source": [
    "## Categoricals using scikit-learn\n",
    "With sklearn, we have to create our own dummy variables. However, pandas has a function called `get_dummies` that will do the work for us. It will ignore numeric variables and convert all categoricals in a data frame into dummy variables. We can have it drop the reference values by adding `drop_first=True` to the `get_dummies` function call.\n",
    "\n",
    "We can save the results of `get_dummies` as a new dataframe and run the multiple regression like before with the additional variables included in the model specification. "
   ]
  },
  {
   "cell_type": "code",
   "execution_count": 26,
   "metadata": {},
   "outputs": [
    {
     "data": {
      "text/html": [
       "<div>\n",
       "<style scoped>\n",
       "    .dataframe tbody tr th:only-of-type {\n",
       "        vertical-align: middle;\n",
       "    }\n",
       "\n",
       "    .dataframe tbody tr th {\n",
       "        vertical-align: top;\n",
       "    }\n",
       "\n",
       "    .dataframe thead th {\n",
       "        text-align: right;\n",
       "    }\n",
       "</style>\n",
       "<table border=\"1\" class=\"dataframe\">\n",
       "  <thead>\n",
       "    <tr style=\"text-align: right;\">\n",
       "      <th></th>\n",
       "      <th>total_bill</th>\n",
       "      <th>size</th>\n",
       "      <th>sex_Female</th>\n",
       "      <th>smoker_No</th>\n",
       "      <th>day_Fri</th>\n",
       "      <th>day_Sat</th>\n",
       "      <th>day_Sun</th>\n",
       "      <th>time_Dinner</th>\n",
       "    </tr>\n",
       "  </thead>\n",
       "  <tbody>\n",
       "    <tr>\n",
       "      <th>0</th>\n",
       "      <td>16.99</td>\n",
       "      <td>2</td>\n",
       "      <td>1</td>\n",
       "      <td>1</td>\n",
       "      <td>0</td>\n",
       "      <td>0</td>\n",
       "      <td>1</td>\n",
       "      <td>1</td>\n",
       "    </tr>\n",
       "    <tr>\n",
       "      <th>1</th>\n",
       "      <td>10.34</td>\n",
       "      <td>3</td>\n",
       "      <td>0</td>\n",
       "      <td>1</td>\n",
       "      <td>0</td>\n",
       "      <td>0</td>\n",
       "      <td>1</td>\n",
       "      <td>1</td>\n",
       "    </tr>\n",
       "    <tr>\n",
       "      <th>2</th>\n",
       "      <td>21.01</td>\n",
       "      <td>3</td>\n",
       "      <td>0</td>\n",
       "      <td>1</td>\n",
       "      <td>0</td>\n",
       "      <td>0</td>\n",
       "      <td>1</td>\n",
       "      <td>1</td>\n",
       "    </tr>\n",
       "    <tr>\n",
       "      <th>3</th>\n",
       "      <td>23.68</td>\n",
       "      <td>2</td>\n",
       "      <td>0</td>\n",
       "      <td>1</td>\n",
       "      <td>0</td>\n",
       "      <td>0</td>\n",
       "      <td>1</td>\n",
       "      <td>1</td>\n",
       "    </tr>\n",
       "    <tr>\n",
       "      <th>4</th>\n",
       "      <td>24.59</td>\n",
       "      <td>4</td>\n",
       "      <td>1</td>\n",
       "      <td>1</td>\n",
       "      <td>0</td>\n",
       "      <td>0</td>\n",
       "      <td>1</td>\n",
       "      <td>1</td>\n",
       "    </tr>\n",
       "  </tbody>\n",
       "</table>\n",
       "</div>"
      ],
      "text/plain": [
       "   total_bill  size  sex_Female  smoker_No  day_Fri  day_Sat  day_Sun  \\\n",
       "0       16.99     2           1          1        0        0        1   \n",
       "1       10.34     3           0          1        0        0        1   \n",
       "2       21.01     3           0          1        0        0        1   \n",
       "3       23.68     2           0          1        0        0        1   \n",
       "4       24.59     4           1          1        0        0        1   \n",
       "\n",
       "   time_Dinner  \n",
       "0            1  \n",
       "1            1  \n",
       "2            1  \n",
       "3            1  \n",
       "4            1  "
      ]
     },
     "execution_count": 26,
     "metadata": {},
     "output_type": "execute_result"
    }
   ],
   "source": [
    "# Create the dummy variables and save in a new data frame without reference values\n",
    "tips_dummy = pd.get_dummies(tips[['total_bill', 'size', 'sex', 'smoker', 'day', 'time']], \n",
    "                            drop_first=True)\n",
    "tips_dummy.head()"
   ]
  },
  {
   "cell_type": "markdown",
   "metadata": {},
   "source": [
    "Now we can fit the regression model to this data set. Note that since we only have the predictor variables in the tips_dummy data frame, we don't need to list specific columns for the value of X."
   ]
  },
  {
   "cell_type": "code",
   "execution_count": 27,
   "metadata": {},
   "outputs": [
    {
     "name": "stdout",
     "output_type": "stream",
     "text": [
      "[ 0.09448701  0.175992    0.03244094  0.08640832  0.1622592   0.04080082\n",
      "  0.13677854 -0.0681286 ]\n",
      "0.5908374259513769\n"
     ]
    }
   ],
   "source": [
    "# Create the linear regression object\n",
    "lr = linear_model.LinearRegression()\n",
    "\n",
    "# Fit the model\n",
    "predicted = lr.fit(X=tips_dummy, y=tips['tip'])\n",
    "\n",
    "# Inspect the results\n",
    "print(predicted.coef_)\n",
    "print(predicted.intercept_)"
   ]
  },
  {
   "cell_type": "markdown",
   "metadata": {},
   "source": [
    "### Sidebar: Better sklearn output\n",
    "The regression coefficients are listed in the same order in which the variables occur in the data set. But it would be much nicer if they were labeled. The results are stored in a numpy array, which can't handle values and labels. We have to store the labels separately and append the coefficient values to them.\n",
    "\n",
    "This same technique can be applied to the results in any of the sklearn examples covered in this notebook."
   ]
  },
  {
   "cell_type": "code",
   "execution_count": 28,
   "metadata": {},
   "outputs": [
    {
     "name": "stdout",
     "output_type": "stream",
     "text": [
      "                coeff\n",
      "intercept    0.590837\n",
      "total_bill   0.094487\n",
      "size         0.175992\n",
      "sex_Female   0.032441\n",
      "smoker_No    0.086408\n",
      "day_Fri      0.162259\n",
      "day_Sat      0.040801\n",
      "day_Sun      0.136779\n",
      "time_Dinner -0.068129\n"
     ]
    }
   ],
   "source": [
    "# import numpy\n",
    "import numpy as np\n",
    "\n",
    "# The model was fit in the last code cell.\n",
    "# Match the intercept and coefficient arrays, and store them both in an object named values\n",
    "values = np.append(predicted.intercept_, predicted.coef_)\n",
    "\n",
    "# Create a name column using 'intercept' and the names of the data columns\n",
    "names = np.append('intercept', tips_dummy.columns)\n",
    "\n",
    "# Put everything together in a labeled data frame and display results\n",
    "results = pd.DataFrame(values, index=names, columns=['coeff'])\n",
    "print(results)"
   ]
  },
  {
   "cell_type": "markdown",
   "metadata": {},
   "source": [
    "# Exercise: multiple regression with statsmodels\n",
    "We will do a linear regression analysis on another set of data using the statsmodels capabilities we just saw. This example will also introduce a few other aspects of modeling that come up often and can be addressed with Python and pandas.\n",
    "\n",
    "This example uses the file 'employee_salaries.csv' to create a linear regression model that predicts 'salary' using 'salbegin' and 'educ' and the statsmodels library."
   ]
  },
  {
   "cell_type": "markdown",
   "metadata": {},
   "source": [
    "## Reading csv files\n",
    "pandas has a built-in function called `read_csv()` that handles the work of reading csv data files into a dataframe. There a number of options available, but we will start with the simplest version. \n",
    "\n",
    "Documentation: https://pandas.pydata.org/pandas-docs/stable/reference/api/pandas.read_csv.html\n",
    "\n",
    "The simplest version of the command is \n",
    "```\n",
    "dataframe_name = pd.read_csv('filename')\n",
    "```\n"
   ]
  },
  {
   "cell_type": "code",
   "execution_count": 29,
   "metadata": {},
   "outputs": [],
   "source": [
    "# Read employee_salaries.csv into an object called emps using defaults\n",
    "emps = pd.read_csv(\"employee_salaries.csv\")"
   ]
  },
  {
   "cell_type": "code",
   "execution_count": 31,
   "metadata": {},
   "outputs": [
    {
     "name": "stdout",
     "output_type": "stream",
     "text": [
      "<class 'pandas.core.frame.DataFrame'>\n",
      "RangeIndex: 474 entries, 0 to 473\n",
      "Data columns (total 7 columns):\n",
      "id          474 non-null int64\n",
      "gender      471 non-null object\n",
      "bdate       474 non-null object\n",
      "educ        474 non-null int64\n",
      "salary      474 non-null int64\n",
      "salbegin    474 non-null int64\n",
      "minority    474 non-null int64\n",
      "dtypes: int64(5), object(2)\n",
      "memory usage: 26.0+ KB\n"
     ]
    },
    {
     "data": {
      "text/plain": [
       "array(['M', nan, 'F', 'F', '-999', nan, nan, 'F', 'F', 'F', 'F', 'M', 'M',\n",
       "       'F', 'M', 'M', 'M', 'M', 'M', 'F', 'F', 'M', 'F', 'F', 'F', 'M',\n",
       "       'M', 'M', 'M', 'M', 'M', 'M', 'M', 'M', 'M', 'F', 'M', 'M', 'M',\n",
       "       'F', 'F', 'M', 'M', 'M', 'M', 'F', 'F', 'M', 'M', 'M', 'M', 'M',\n",
       "       'M', 'M', 'M', 'M', 'M', 'F', 'M', 'M', 'M', 'M', 'M', 'M', 'M',\n",
       "       'M', 'M', 'M', 'M', 'M', 'M', 'F', 'F', 'F', 'F', 'F', 'F', 'F',\n",
       "       'F', 'F', 'F', 'F', 'F', 'F', 'M', 'M', 'M', 'M', 'M', 'F', 'F',\n",
       "       'F', 'F', 'F', 'F', 'M', 'M', 'M', 'F', 'M', 'M', 'M', 'M', 'M',\n",
       "       'M', 'M', 'F', 'F', 'M', 'M', 'M', 'M', 'M', 'M', 'M', 'M', 'F',\n",
       "       'F', 'F', 'F', 'F', 'F', 'F', 'F', 'M', 'M', 'M', 'F', 'M', 'M',\n",
       "       'M', 'M', 'M', 'F', 'F', 'M', 'M', 'M', 'F', 'F', 'F', 'F', 'F',\n",
       "       'F', 'M', 'M', 'M', 'F', 'M', 'M', 'M', 'M', 'F', 'F', 'M', 'M',\n",
       "       'F', 'F', 'F', 'M', 'M', 'M', 'M', 'F', 'F', 'F', 'F', 'F', 'M',\n",
       "       'M', 'M', 'F', 'M', 'M', 'M', 'F', 'F', 'F', 'M', 'F', 'F', 'F',\n",
       "       'M', 'M', 'M', 'M', 'M', 'F', 'F', 'F', 'F', 'M', 'F', 'F', 'F',\n",
       "       'F', 'M', 'M', 'M', 'M', 'M', 'M', 'M', 'M', 'M', 'M', 'M', 'F',\n",
       "       'F', 'M', 'M', 'M', 'M', 'F', 'F', 'M', 'M', 'M', 'M', 'M', 'F',\n",
       "       'F', 'F', 'F', 'F', 'F', 'F', 'F', 'F', 'M', 'M', 'M', 'M', 'M',\n",
       "       'M', 'F', 'F', 'F', 'F', 'F', 'F', 'F', 'F', 'F', 'F', 'F', 'F',\n",
       "       'F', 'F', 'F', 'F', 'M', 'F', 'M', 'M', 'M', 'M', 'M', 'F', 'F',\n",
       "       'F', 'F', 'F', 'F', 'F', 'F', 'F', 'M', 'M', 'M', 'M', 'M', 'M',\n",
       "       'M', 'M', 'M', 'F', 'F', 'F', 'F', 'M', 'M', 'M', 'M', 'M', 'M',\n",
       "       'M', 'M', 'M', 'M', 'M', 'M', 'M', 'M', 'M', 'M', 'F', 'F', 'F',\n",
       "       'M', 'M', 'M', 'M', 'F', 'M', 'M', 'M', 'M', 'M', 'M', 'F', 'F',\n",
       "       'F', 'F', 'F', 'M', 'M', 'M', 'M', 'M', 'F', 'F', 'F', 'F', 'F',\n",
       "       'M', 'M', 'M', 'M', 'M', 'F', 'F', 'F', 'F', 'M', 'M', 'F', 'F',\n",
       "       'F', 'F', 'M', 'F', 'M', 'M', 'F', 'F', 'F', 'F', 'F', 'F', 'F',\n",
       "       'F', 'M', 'F', 'M', 'M', 'F', 'F', 'F', 'F', 'F', 'F', 'M', 'F',\n",
       "       'F', 'F', 'F', 'F', 'M', 'F', 'F', 'M', 'M', 'M', 'M', 'M', 'M',\n",
       "       'F', 'F', 'F', 'M', 'M', 'M', 'F', 'M', 'M', 'M', 'M', 'M', 'F',\n",
       "       'F', 'F', 'F', 'F', 'F', 'F', 'F', 'F', 'F', 'F', 'F', 'F', 'F',\n",
       "       'F', 'F', 'M', 'M', 'M', 'M', 'F', 'F', 'F', 'F', 'M', 'M', 'M',\n",
       "       'M', 'M', 'M', 'M', 'M', 'M', 'F', 'F', 'F', 'M', 'M', 'M', 'M',\n",
       "       'M', 'M', 'M', 'M', 'M', 'M', 'M', 'M', 'M', 'F', 'F', 'F', 'F',\n",
       "       'F', 'F', 'M', 'M', 'M', 'F', 'M', 'M', 'M', 'M', 'M', 'M', 'M',\n",
       "       'M', 'M', 'M', 'F', 'F', 'F', 'F', 'F', 'M', 'M', 'F', 'F', 'F',\n",
       "       'F', 'M', 'M', 'M', 'F', 'F'], dtype=object)"
      ]
     },
     "execution_count": 31,
     "metadata": {},
     "output_type": "execute_result"
    }
   ],
   "source": [
    "# A quick look at the data in the dataframe\n",
    "emps.info()\n",
    "emps.head(8)\n",
    "emps[\"gender\"].values"
   ]
  },
  {
   "cell_type": "code",
   "execution_count": null,
   "metadata": {},
   "outputs": [],
   "source": [
    "# Descriptive stats for all variables\n"
   ]
  },
  {
   "cell_type": "markdown",
   "metadata": {},
   "source": [
    "# Clean and transform the data\n",
    "First, look at the data in Excel. There are a number of issues we will need to deal with and some of them can be handled in the read_csv statement.\n",
    "\n",
    "## Options for `read_csv`\n",
    "Issues we can fix when we read the data:\n",
    "1. The `id` column in the first read_csv result is only present in the data to identify each row. It may or may not be important to keep with the data, but we certainly don't want to include it as part of our regression model. The best thing to do here is to use the `index_col` option to treat it as the row index values.\n",
    "\n",
    "\n",
    "2. Our default read_csv statement treated the `bdate` column as a string variable. It needs to be the 'datetime' data type if we want to do anything with it later. We do this by adding the `parse_dates=[date column]` option. \n",
    "\n",
    "    The format of the date is implicit here: month, day, year. We can also use the `format=` parameter to pass a date format to make sure the format of the data is explicitly specified if necessary, like when we are working with internationally formatted dates (day/month/year).\n",
    "\n",
    "\n",
    "3. Missing data can be represented in datasets in any of several ways:\n",
    "    - null values (there is truly no value present)\n",
    "    - NaN (pandas)\n",
    "    - None (Python 3.x)\n",
    "    - a designated value, like -999\n",
    "\n",
    "    We can have pandas find missing values and either assign the `NaN` value or keep the source value for missing data when we read the file into memory. **By default, `pd.read_csv` replaces null, NA, and NaN values with `NaN`.**\n",
    "\n",
    "    If we have a designated value in the data that represents missing values, use the option `na_values=[]` in the `pd.read_csv` statement. This option allows you to specify what values should be considered missing. If you had data using -999 for example, you would use `na_values=[-999]` to make sure pandas treated them as missing. Note that the right side of the equals sign is a list, so you can include multiple values separated by commas. If you still want to treat values like NA and NaN as missing in addition to the values you specified in the `na_values` parameter, use the `keep_default_na=True` option.\n"
   ]
  },
  {
   "cell_type": "markdown",
   "metadata": {},
   "source": [
    "## The modified `read_csv` statement\n",
    "Combining the options to specify an index, flag missing values, and parse the date values, we can load a better copy of the data in one statement."
   ]
  },
  {
   "cell_type": "code",
   "execution_count": 32,
   "metadata": {},
   "outputs": [
    {
     "name": "stdout",
     "output_type": "stream",
     "text": [
      "<class 'pandas.core.frame.DataFrame'>\n",
      "Int64Index: 474 entries, 109190 to 4344369\n",
      "Data columns (total 6 columns):\n",
      "gender      470 non-null object\n",
      "bdate       474 non-null datetime64[ns]\n",
      "educ        474 non-null int64\n",
      "salary      474 non-null int64\n",
      "salbegin    474 non-null int64\n",
      "minority    474 non-null int64\n",
      "dtypes: datetime64[ns](1), int64(4), object(1)\n",
      "memory usage: 25.9+ KB\n"
     ]
    },
    {
     "data": {
      "text/html": [
       "<div>\n",
       "<style scoped>\n",
       "    .dataframe tbody tr th:only-of-type {\n",
       "        vertical-align: middle;\n",
       "    }\n",
       "\n",
       "    .dataframe tbody tr th {\n",
       "        vertical-align: top;\n",
       "    }\n",
       "\n",
       "    .dataframe thead th {\n",
       "        text-align: right;\n",
       "    }\n",
       "</style>\n",
       "<table border=\"1\" class=\"dataframe\">\n",
       "  <thead>\n",
       "    <tr style=\"text-align: right;\">\n",
       "      <th></th>\n",
       "      <th>gender</th>\n",
       "      <th>bdate</th>\n",
       "      <th>educ</th>\n",
       "      <th>salary</th>\n",
       "      <th>salbegin</th>\n",
       "      <th>minority</th>\n",
       "    </tr>\n",
       "    <tr>\n",
       "      <th>id</th>\n",
       "      <th></th>\n",
       "      <th></th>\n",
       "      <th></th>\n",
       "      <th></th>\n",
       "      <th></th>\n",
       "      <th></th>\n",
       "    </tr>\n",
       "  </thead>\n",
       "  <tbody>\n",
       "    <tr>\n",
       "      <th>109190</th>\n",
       "      <td>M</td>\n",
       "      <td>1952-02-03</td>\n",
       "      <td>15</td>\n",
       "      <td>57000</td>\n",
       "      <td>27000</td>\n",
       "      <td>0</td>\n",
       "    </tr>\n",
       "    <tr>\n",
       "      <th>118460</th>\n",
       "      <td>NaN</td>\n",
       "      <td>1958-05-23</td>\n",
       "      <td>16</td>\n",
       "      <td>40200</td>\n",
       "      <td>18750</td>\n",
       "      <td>0</td>\n",
       "    </tr>\n",
       "    <tr>\n",
       "      <th>127641</th>\n",
       "      <td>F</td>\n",
       "      <td>1929-07-26</td>\n",
       "      <td>12</td>\n",
       "      <td>21450</td>\n",
       "      <td>12000</td>\n",
       "      <td>0</td>\n",
       "    </tr>\n",
       "    <tr>\n",
       "      <th>136754</th>\n",
       "      <td>F</td>\n",
       "      <td>1947-04-15</td>\n",
       "      <td>8</td>\n",
       "      <td>21900</td>\n",
       "      <td>13200</td>\n",
       "      <td>0</td>\n",
       "    </tr>\n",
       "    <tr>\n",
       "      <th>145909</th>\n",
       "      <td>NaN</td>\n",
       "      <td>1955-02-09</td>\n",
       "      <td>15</td>\n",
       "      <td>45000</td>\n",
       "      <td>21000</td>\n",
       "      <td>0</td>\n",
       "    </tr>\n",
       "    <tr>\n",
       "      <th>154900</th>\n",
       "      <td>NaN</td>\n",
       "      <td>1958-08-22</td>\n",
       "      <td>15</td>\n",
       "      <td>32100</td>\n",
       "      <td>13500</td>\n",
       "      <td>0</td>\n",
       "    </tr>\n",
       "    <tr>\n",
       "      <th>164247</th>\n",
       "      <td>NaN</td>\n",
       "      <td>1956-04-26</td>\n",
       "      <td>15</td>\n",
       "      <td>36000</td>\n",
       "      <td>18750</td>\n",
       "      <td>0</td>\n",
       "    </tr>\n",
       "    <tr>\n",
       "      <th>173180</th>\n",
       "      <td>F</td>\n",
       "      <td>1966-05-06</td>\n",
       "      <td>12</td>\n",
       "      <td>21900</td>\n",
       "      <td>9750</td>\n",
       "      <td>0</td>\n",
       "    </tr>\n",
       "  </tbody>\n",
       "</table>\n",
       "</div>"
      ],
      "text/plain": [
       "       gender      bdate  educ  salary  salbegin  minority\n",
       "id                                                        \n",
       "109190      M 1952-02-03    15   57000     27000         0\n",
       "118460    NaN 1958-05-23    16   40200     18750         0\n",
       "127641      F 1929-07-26    12   21450     12000         0\n",
       "136754      F 1947-04-15     8   21900     13200         0\n",
       "145909    NaN 1955-02-09    15   45000     21000         0\n",
       "154900    NaN 1958-08-22    15   32100     13500         0\n",
       "164247    NaN 1956-04-26    15   36000     18750         0\n",
       "173180      F 1966-05-06    12   21900      9750         0"
      ]
     },
     "execution_count": 32,
     "metadata": {},
     "output_type": "execute_result"
    }
   ],
   "source": [
    "# Read the csv data again, adding an index column, a missing value designator, \n",
    "#   and date parser\n",
    "emps = pd.read_csv('employee_salaries.csv', index_col='id',\n",
    "                   na_values=[-999], keep_default_na=True, parse_dates=['bdate'])\n",
    "emps.info()\n",
    "emps.head(8)"
   ]
  },
  {
   "cell_type": "markdown",
   "metadata": {},
   "source": [
    "## Handling missingness\n",
    "Once we know there are missing values in our data and we have them coded consistently, we have to decide what to do about them. There are three possibilities:\n",
    "1. ignore the missing data\n",
    "2. drop the rows with missing data from the dataset\n",
    "3. fill in the missing data points\n",
    "\n",
    "Ignoring the problem (as with most problems) may lead to unanticipated consequences for your analysis, so we seldom do that. We can use the `dropna()` method to remove the rows with missing data from the dataframe, but that also can be a problem. Most of the time we will fill in the missing data.\n",
    "\n",
    "### Fill with a single value\n",
    "To fill missing values with a single value, use the `fillna()` data frame method. If all the missing values should be replaced by the same value, use \n",
    "```\n",
    "emps.fillna(value=42)\n",
    "```\n",
    "\n",
    "That will change **_all_** missing values in **_all_** columns to 42. In our case, we want to specify different values for each column's missing values. We can still use the `fillna()` method of the dataframe, but we specify a _dictionary_ containing the names of the columns and each fill value.\n",
    "\n",
    "The column with missing values is 'gender'. We will use the mode of the column to fill the missing value. "
   ]
  },
  {
   "cell_type": "code",
   "execution_count": 33,
   "metadata": {},
   "outputs": [
    {
     "data": {
      "text/plain": [
       "M    254\n",
       "F    216\n",
       "Name: gender, dtype: int64"
      ]
     },
     "execution_count": 33,
     "metadata": {},
     "output_type": "execute_result"
    }
   ],
   "source": [
    "# Fill missing values with column mode\n",
    "# The mode() method does not work right with categories\n",
    "emps['gender'].value_counts()"
   ]
  },
  {
   "cell_type": "code",
   "execution_count": 35,
   "metadata": {},
   "outputs": [],
   "source": [
    "# Use the mode value to fill\n",
    "fill_values={'gender': 'M'}\n",
    "emps.fillna(value=fill_values)\n",
    "emps.fillna(value=fill_values, inplace=True)\n",
    "#emps = emps.fillna(value=fill_values)"
   ]
  },
  {
   "cell_type": "code",
   "execution_count": 36,
   "metadata": {},
   "outputs": [
    {
     "name": "stdout",
     "output_type": "stream",
     "text": [
      "<class 'pandas.core.frame.DataFrame'>\n",
      "Int64Index: 474 entries, 109190 to 4344369\n",
      "Data columns (total 6 columns):\n",
      "gender      474 non-null object\n",
      "bdate       474 non-null datetime64[ns]\n",
      "educ        474 non-null int64\n",
      "salary      474 non-null int64\n",
      "salbegin    474 non-null int64\n",
      "minority    474 non-null int64\n",
      "dtypes: datetime64[ns](1), int64(4), object(1)\n",
      "memory usage: 25.9+ KB\n"
     ]
    },
    {
     "data": {
      "text/html": [
       "<div>\n",
       "<style scoped>\n",
       "    .dataframe tbody tr th:only-of-type {\n",
       "        vertical-align: middle;\n",
       "    }\n",
       "\n",
       "    .dataframe tbody tr th {\n",
       "        vertical-align: top;\n",
       "    }\n",
       "\n",
       "    .dataframe thead th {\n",
       "        text-align: right;\n",
       "    }\n",
       "</style>\n",
       "<table border=\"1\" class=\"dataframe\">\n",
       "  <thead>\n",
       "    <tr style=\"text-align: right;\">\n",
       "      <th></th>\n",
       "      <th>gender</th>\n",
       "      <th>bdate</th>\n",
       "      <th>educ</th>\n",
       "      <th>salary</th>\n",
       "      <th>salbegin</th>\n",
       "      <th>minority</th>\n",
       "    </tr>\n",
       "    <tr>\n",
       "      <th>id</th>\n",
       "      <th></th>\n",
       "      <th></th>\n",
       "      <th></th>\n",
       "      <th></th>\n",
       "      <th></th>\n",
       "      <th></th>\n",
       "    </tr>\n",
       "  </thead>\n",
       "  <tbody>\n",
       "    <tr>\n",
       "      <th>109190</th>\n",
       "      <td>M</td>\n",
       "      <td>1952-02-03</td>\n",
       "      <td>15</td>\n",
       "      <td>57000</td>\n",
       "      <td>27000</td>\n",
       "      <td>0</td>\n",
       "    </tr>\n",
       "    <tr>\n",
       "      <th>118460</th>\n",
       "      <td>M</td>\n",
       "      <td>1958-05-23</td>\n",
       "      <td>16</td>\n",
       "      <td>40200</td>\n",
       "      <td>18750</td>\n",
       "      <td>0</td>\n",
       "    </tr>\n",
       "    <tr>\n",
       "      <th>127641</th>\n",
       "      <td>F</td>\n",
       "      <td>1929-07-26</td>\n",
       "      <td>12</td>\n",
       "      <td>21450</td>\n",
       "      <td>12000</td>\n",
       "      <td>0</td>\n",
       "    </tr>\n",
       "    <tr>\n",
       "      <th>136754</th>\n",
       "      <td>F</td>\n",
       "      <td>1947-04-15</td>\n",
       "      <td>8</td>\n",
       "      <td>21900</td>\n",
       "      <td>13200</td>\n",
       "      <td>0</td>\n",
       "    </tr>\n",
       "    <tr>\n",
       "      <th>145909</th>\n",
       "      <td>M</td>\n",
       "      <td>1955-02-09</td>\n",
       "      <td>15</td>\n",
       "      <td>45000</td>\n",
       "      <td>21000</td>\n",
       "      <td>0</td>\n",
       "    </tr>\n",
       "    <tr>\n",
       "      <th>154900</th>\n",
       "      <td>M</td>\n",
       "      <td>1958-08-22</td>\n",
       "      <td>15</td>\n",
       "      <td>32100</td>\n",
       "      <td>13500</td>\n",
       "      <td>0</td>\n",
       "    </tr>\n",
       "    <tr>\n",
       "      <th>164247</th>\n",
       "      <td>M</td>\n",
       "      <td>1956-04-26</td>\n",
       "      <td>15</td>\n",
       "      <td>36000</td>\n",
       "      <td>18750</td>\n",
       "      <td>0</td>\n",
       "    </tr>\n",
       "    <tr>\n",
       "      <th>173180</th>\n",
       "      <td>F</td>\n",
       "      <td>1966-05-06</td>\n",
       "      <td>12</td>\n",
       "      <td>21900</td>\n",
       "      <td>9750</td>\n",
       "      <td>0</td>\n",
       "    </tr>\n",
       "  </tbody>\n",
       "</table>\n",
       "</div>"
      ],
      "text/plain": [
       "       gender      bdate  educ  salary  salbegin  minority\n",
       "id                                                        \n",
       "109190      M 1952-02-03    15   57000     27000         0\n",
       "118460      M 1958-05-23    16   40200     18750         0\n",
       "127641      F 1929-07-26    12   21450     12000         0\n",
       "136754      F 1947-04-15     8   21900     13200         0\n",
       "145909      M 1955-02-09    15   45000     21000         0\n",
       "154900      M 1958-08-22    15   32100     13500         0\n",
       "164247      M 1956-04-26    15   36000     18750         0\n",
       "173180      F 1966-05-06    12   21900      9750         0"
      ]
     },
     "execution_count": 36,
     "metadata": {},
     "output_type": "execute_result"
    }
   ],
   "source": [
    "# check results\n",
    "emps.info()\n",
    "emps.head(8)\n"
   ]
  },
  {
   "cell_type": "markdown",
   "metadata": {},
   "source": [
    "### Imputing missing data\n",
    "There are many functions available in the Python ecosystem (like the MICE module in statmodules https://www.statsmodels.org/stable/imputation.html) that will impute missing values using statistically rigorous algorithms."
   ]
  },
  {
   "cell_type": "markdown",
   "metadata": {},
   "source": [
    "## Converting data types\n",
    "The `gender` column was read into pandas as a string type (i.e., \"object\" type) but it needs to be a 'category' type. It is usually more efficient and some pandas functions expect data as categories in order to work properly. \n",
    "\n",
    "There are a number of operations you can perform on categories. See the documentation for more: https://pandas.pydata.org/pandas-docs/stable/reference/series.html#categorical-accessor"
   ]
  },
  {
   "cell_type": "code",
   "execution_count": 37,
   "metadata": {},
   "outputs": [
    {
     "name": "stdout",
     "output_type": "stream",
     "text": [
      "<class 'pandas.core.frame.DataFrame'>\n",
      "Int64Index: 474 entries, 109190 to 4344369\n",
      "Data columns (total 6 columns):\n",
      "gender      474 non-null category\n",
      "bdate       474 non-null datetime64[ns]\n",
      "educ        474 non-null int64\n",
      "salary      474 non-null int64\n",
      "salbegin    474 non-null int64\n",
      "minority    474 non-null category\n",
      "dtypes: category(2), datetime64[ns](1), int64(3)\n",
      "memory usage: 19.6 KB\n"
     ]
    }
   ],
   "source": [
    "# change gender and minority to category type\n",
    "emps['gender']=emps['gender'].astype('category')\n",
    "emps['minority']=emps['minority'].astype('category')\n",
    "emps.info()"
   ]
  },
  {
   "cell_type": "markdown",
   "metadata": {},
   "source": [
    "# Create the regression model\n",
    "Now that the dataset is cleaned up we can create the model."
   ]
  },
  {
   "cell_type": "code",
   "execution_count": 38,
   "metadata": {},
   "outputs": [
    {
     "name": "stdout",
     "output_type": "stream",
     "text": [
      "                            OLS Regression Results                            \n",
      "==============================================================================\n",
      "Dep. Variable:                 salary   R-squared:                       0.796\n",
      "Model:                            OLS   Adj. R-squared:                  0.794\n",
      "Method:                 Least Squares   F-statistic:                     456.9\n",
      "Date:                Wed, 30 Sep 2020   Prob (F-statistic):          3.03e-160\n",
      "Time:                        12:04:30   Log-Likelihood:                -4914.9\n",
      "No. Observations:                 474   AIC:                             9840.\n",
      "Df Residuals:                     469   BIC:                             9861.\n",
      "Df Model:                           4                                         \n",
      "Covariance Type:            nonrobust                                         \n",
      "=================================================================================\n",
      "                    coef    std err          t      P>|t|      [0.025      0.975]\n",
      "---------------------------------------------------------------------------------\n",
      "Intercept     -6800.4182   1792.756     -3.793      0.000   -1.03e+04   -3277.590\n",
      "gender[T.M]    1873.3624    819.527      2.286      0.023     262.963    3483.762\n",
      "minority[T.1] -1744.8567    885.132     -1.971      0.049   -3484.172      -5.542\n",
      "salbegin          1.6156      0.062     25.887      0.000       1.493       1.738\n",
      "educ            970.4337    160.627      6.042      0.000     654.796    1286.072\n",
      "==============================================================================\n",
      "Omnibus:                      197.336   Durbin-Watson:                   1.821\n",
      "Prob(Omnibus):                  0.000   Jarque-Bera (JB):             1435.811\n",
      "Skew:                           1.631   Prob(JB):                         0.00\n",
      "Kurtosis:                      10.877   Cond. No.                     9.56e+04\n",
      "==============================================================================\n",
      "\n",
      "Warnings:\n",
      "[1] Standard Errors assume that the covariance matrix of the errors is correctly specified.\n",
      "[2] The condition number is large, 9.56e+04. This might indicate that there are\n",
      "strong multicollinearity or other numerical problems.\n"
     ]
    }
   ],
   "source": [
    "# Multiple regression using statsmodels and the cleaned emps dataset\n",
    "# Import the required pandas and statsmodels libraries, if necessary\n",
    "#import pandas as pd\n",
    "#import statsmodels.formula.api as smf\n",
    "\n",
    "# Create the model specification using OLS and fit the data to the model spec\n",
    "model = smf.ols(formula='salary ~ salbegin + educ + gender + minority', \n",
    "                data=emps)\n",
    "results = model.fit()\n",
    "\n",
    "# display the results\n",
    "print(results.summary())"
   ]
  },
  {
   "cell_type": "code",
   "execution_count": null,
   "metadata": {},
   "outputs": [],
   "source": []
  }
 ],
 "metadata": {
  "hide_input": false,
  "kernelspec": {
   "display_name": "Python 3",
   "language": "python",
   "name": "python3"
  },
  "language_info": {
   "codemirror_mode": {
    "name": "ipython",
    "version": 3
   },
   "file_extension": ".py",
   "mimetype": "text/x-python",
   "name": "python",
   "nbconvert_exporter": "python",
   "pygments_lexer": "ipython3",
   "version": "3.8.3"
  },
  "toc": {
   "base_numbering": 1,
   "nav_menu": {},
   "number_sections": true,
   "sideBar": true,
   "skip_h1_title": false,
   "title_cell": "Table of Contents",
   "title_sidebar": "Contents",
   "toc_cell": false,
   "toc_position": {},
   "toc_section_display": true,
   "toc_window_display": false
  },
  "varInspector": {
   "cols": {
    "lenName": 16,
    "lenType": 16,
    "lenVar": 40
   },
   "kernels_config": {
    "python": {
     "delete_cmd_postfix": "",
     "delete_cmd_prefix": "del ",
     "library": "var_list.py",
     "varRefreshCmd": "print(var_dic_list())"
    },
    "r": {
     "delete_cmd_postfix": ") ",
     "delete_cmd_prefix": "rm(",
     "library": "var_list.r",
     "varRefreshCmd": "cat(var_dic_list()) "
    }
   },
   "position": {
    "height": "219.85px",
    "left": "1102px",
    "right": "20px",
    "top": "120px",
    "width": "350px"
   },
   "types_to_exclude": [
    "module",
    "function",
    "builtin_function_or_method",
    "instance",
    "_Feature"
   ],
   "window_display": false
  }
 },
 "nbformat": 4,
 "nbformat_minor": 2
}

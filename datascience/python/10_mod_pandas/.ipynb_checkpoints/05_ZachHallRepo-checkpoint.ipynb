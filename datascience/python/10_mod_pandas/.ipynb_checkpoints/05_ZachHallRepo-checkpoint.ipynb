{
 "cells": [
  {
   "cell_type": "markdown",
   "metadata": {},
   "source": [
    "Data Science Fundamentals: Python |\n",
    "[Table of Contents](../index.ipynb)\n",
    "- - - \n",
    "<!--NAVIGATION-->\n",
    "Module 10. | [Introduction to Pandas](./01_introduction_to_pandas.ipynb) | [Introducing Panda Objects](./02_introducing-pandas-objects.ipynb) | [Data Manipulation with Pandas](./03_data_manipulation_pandas.ipynb) | [Getting Started with Pandas](./04_getting_started_pandas.ipynb) | **[ZachHallRepo](./05_ZachHallRepo.ipynb)** | [Exercises](./06_pandas_exercises.ipynb)"
   ]
  },
  {
   "cell_type": "markdown",
   "metadata": {},
   "source": [
    "# Module 10: Pandas Exercises: Zach Hall GitHub "
   ]
  },
  {
   "cell_type": "markdown",
   "metadata": {},
   "source": [
    "The exercises in the folders in the link below belong to Zach Hall, and were created as a supplemental learning opportunity. I would recommend going through each exercise as it will help you learn to utilize Pandas more thoroughly. Consider cloning the repo, and then working on the exercises on your own. Afterwards, push your code to a new GitHub Repo within your own Github, and submit the URL alongside your assignment for further feedback. Also, a cloned version of the Pandas Exercises repo should exist within your 10_mod_pandas folder [here](pandas_exercises-master)."
   ]
  },
  {
   "cell_type": "markdown",
   "metadata": {},
   "source": [
    "### [Zach Hall Github Repo: Pandas Exercises](https://github.com/zachhall/pandas_exercises)\n"
   ]
  },
  {
   "cell_type": "markdown",
   "metadata": {},
   "source": [
    "There will be three different types of files in the exercise directories: \n",
    "<br>\n",
    "1. Exercise instructions  \n",
    "2. Solutions without code  \n",
    "3. Solutions with code and comments"
   ]
  },
  {
   "cell_type": "markdown",
   "metadata": {},
   "source": [
    "### Exercise 1. Getting & Knowing Your Data\n",
    "```./supplemental/01_Getting_&_Knowing_Your_Data```"
   ]
  },
  {
   "cell_type": "markdown",
   "metadata": {},
   "source": [
    "```../supplemental/01_Getting_&_Knowing_Your_Data/Chipotle```"
   ]
  },
  {
   "cell_type": "markdown",
   "metadata": {},
   "source": [
    "```../supplemental/01_Getting_&_Knowing_Your_Data/Occupation```"
   ]
  },
  {
   "cell_type": "markdown",
   "metadata": {},
   "source": [
    "```../supplemental/01_Getting_&_Knowing_Your_Data/World Food Facts```"
   ]
  },
  {
   "cell_type": "markdown",
   "metadata": {},
   "source": [
    "### Exercise 2. Filtering & Sorting\n",
    "```./supplemental/02_Filtering_&_Sorting```"
   ]
  },
  {
   "cell_type": "markdown",
   "metadata": {},
   "source": [
    "```./supplemental/02_Filtering_&_Sorting/Chipolte```"
   ]
  },
  {
   "cell_type": "markdown",
   "metadata": {},
   "source": [
    "```./supplemental/02_Filtering_&_Sorting/Euro12```"
   ]
  },
  {
   "cell_type": "markdown",
   "metadata": {},
   "source": [
    "```./supplemental/02_Filtering_&_Sorting/Fictional Army```"
   ]
  },
  {
   "cell_type": "markdown",
   "metadata": {},
   "source": [
    "### Exercise 3. Grouping\n",
    "```./supplemental/03_Grouping```"
   ]
  },
  {
   "cell_type": "markdown",
   "metadata": {},
   "source": [
    "```./supplemental/03_Grouping/Alcohol_Consumption```"
   ]
  },
  {
   "cell_type": "markdown",
   "metadata": {},
   "source": [
    "```./supplemental/03_Grouping/Occupation```"
   ]
  },
  {
   "cell_type": "markdown",
   "metadata": {},
   "source": [
    "```./supplemental/03_Grouping/Regiment```"
   ]
  },
  {
   "cell_type": "markdown",
   "metadata": {},
   "source": [
    "### Exercise 4. Apply\n",
    "```./supplemental/04_Apply```"
   ]
  },
  {
   "cell_type": "markdown",
   "metadata": {},
   "source": [
    "```./supplemental/04_Apply/Students_Alcohol_Consumption```"
   ]
  },
  {
   "cell_type": "markdown",
   "metadata": {},
   "source": [
    "```./supplemental/04_Apply/US_Crime_Rates```"
   ]
  },
  {
   "cell_type": "markdown",
   "metadata": {},
   "source": [
    "### Exercise 5. Merge\n",
    "```./supplemental/05_Merge```"
   ]
  },
  {
   "cell_type": "markdown",
   "metadata": {},
   "source": [
    "```./supplemental/05_Merge/Auto_MPG```"
   ]
  },
  {
   "cell_type": "markdown",
   "metadata": {},
   "source": [
    "```./supplemental/05_Merge/Fictitous Names```"
   ]
  },
  {
   "cell_type": "markdown",
   "metadata": {},
   "source": [
    "```./supplemental/05_Merge/Housing Market```"
   ]
  },
  {
   "cell_type": "markdown",
   "metadata": {},
   "source": [
    "### Exercise 6. Stats\n",
    "```./supplemental/06_Stats```"
   ]
  },
  {
   "cell_type": "markdown",
   "metadata": {},
   "source": [
    "```./supplemental/06_Stats/US_Baby_Names```"
   ]
  },
  {
   "cell_type": "markdown",
   "metadata": {},
   "source": [
    "```./supplemental/06_Stats/Wind_Stats```"
   ]
  },
  {
   "cell_type": "markdown",
   "metadata": {},
   "source": [
    "### Exercise 7. Visualization\n",
    "```./supplemental/07_Visualization```"
   ]
  },
  {
   "cell_type": "markdown",
   "metadata": {},
   "source": [
    "```./supplemental/07_Visualization/Chipotle```"
   ]
  },
  {
   "cell_type": "markdown",
   "metadata": {},
   "source": [
    "```./supplemental/07_Visualization/Online_Retail```"
   ]
  },
  {
   "cell_type": "markdown",
   "metadata": {},
   "source": [
    "```./supplemental/07_Visualization/Scores```"
   ]
  },
  {
   "cell_type": "markdown",
   "metadata": {},
   "source": [
    "```./supplemental/07_Visualization/Tips```"
   ]
  },
  {
   "cell_type": "markdown",
   "metadata": {},
   "source": [
    "```./supplemental/07_Visualization/Titantic_Disaster```"
   ]
  },
  {
   "cell_type": "markdown",
   "metadata": {},
   "source": [
    "### Exercise 8. Creating Series and DataFrames\n",
    "```./supplemental/08_Creating_Series_and_DataFrames```"
   ]
  },
  {
   "cell_type": "markdown",
   "metadata": {},
   "source": [
    "```./supplemental/08_Creating_Series_and_DataFrames/Pokemon```"
   ]
  },
  {
   "cell_type": "markdown",
   "metadata": {},
   "source": [
    "### Exercise 9. Time Series\n",
    "```./supplemental/09_Time_Series```"
   ]
  },
  {
   "cell_type": "markdown",
   "metadata": {},
   "source": [
    "```./supplemental/09_Time_Series/Apple_Stock```"
   ]
  },
  {
   "cell_type": "markdown",
   "metadata": {},
   "source": [
    "```./supplemental/09_Time_Series/Getting_Financial_Data```"
   ]
  },
  {
   "cell_type": "markdown",
   "metadata": {},
   "source": [
    "### Exercise 10. Deleting\n",
    "```./supplemental/10_Deleting```"
   ]
  },
  {
   "cell_type": "markdown",
   "metadata": {},
   "source": [
    "```./supplemental/10_Deleting/Iris```"
   ]
  },
  {
   "cell_type": "markdown",
   "metadata": {},
   "source": [
    "```./supplemental/10_Deleting/Wine```"
   ]
  },
  {
   "cell_type": "markdown",
   "metadata": {},
   "source": [
    "### Exercise 11. Indexing\n",
    "```./supplemental/11_Indexing```"
   ]
  },
  {
   "cell_type": "markdown",
   "metadata": {},
   "source": [
    "Video tutorials of data scientists working through the above exercises:"
   ]
  },
  {
   "cell_type": "markdown",
   "metadata": {},
   "source": [
    "- - - \n",
    "<!--NAVIGATION-->\n",
    "Module 10. | [Introduction to Pandas](./01_introduction_to_pandas.ipynb) | [Introducing Panda Objects](./02_introducing-pandas-objects.ipynb) | [Data Manipulation with Pandas](./03_data_manipulation_pandas.ipynb) | [Getting Started with Pandas](./04_getting_started_pandas.ipynb) | **[ZachHallRepo](./05_ZachHallRepo.ipynb)** | [Exercises](./06_pandas_exercises.ipynb)\n",
    "<br>"
   ]
  },
  {
   "cell_type": "markdown",
   "metadata": {},
   "source": [
    "- - -\n",
    "\n",
    "Copyright © 2020 Qualex Consulting Services Incorporated."
   ]
  }
 ],
 "metadata": {
  "kernelspec": {
   "display_name": "Python 3",
   "language": "python",
   "name": "python3"
  },
  "language_info": {
   "codemirror_mode": {
    "name": "ipython",
    "version": 3
   },
   "file_extension": ".py",
   "mimetype": "text/x-python",
   "name": "python",
   "nbconvert_exporter": "python",
   "pygments_lexer": "ipython3",
   "version": "3.8.3"
  }
 },
 "nbformat": 4,
 "nbformat_minor": 4
}

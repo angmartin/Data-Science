{
 "cells": [
  {
   "cell_type": "markdown",
   "metadata": {},
   "source": [
    "Data Science Fundamentals: Python |\n",
    "[Table of Contents](../index.ipynb)\n",
    "- - - \n",
    "<!--NAVIGATION-->\n",
    "Module 2. Python Data | [Simple Types](./01_simple_types.ipynb) | **[Data Structures](./02_data_structures.ipynb)**: **[Lists](./02_data_structures_lists.ipynb)**, [Tuples](./02_data_structures_tuples.ipynb), [Sets](./02_data_structures_sets.ipynb), [Dictionaries](./02_data_structures_dictionaries.ipynb) | [Exercises](./03_data_exercises.ipynb)"
   ]
  },
  {
   "cell_type": "markdown",
   "metadata": {
    "colab_type": "text",
    "id": "NdXy-T5zaAaF"
   },
   "source": [
    "# Lists"
   ]
  },
  {
   "cell_type": "markdown",
   "metadata": {
    "colab_type": "text",
    "id": "d2abr_4DaAaG"
   },
   "source": [
    "Data Structure:\n",
    "    \n",
    "A data structure is a collection of data elements (such as numbers or characters—or even other data structures) that is structured in some way, for example, by numbering the elements. The most basic data structure in Python is the \"sequence\"."
   ]
  },
  {
   "cell_type": "markdown",
   "metadata": {
    "colab_type": "text",
    "id": "_OkL1n_saAaI"
   },
   "source": [
    "A list is \n",
    "\n",
    "- One of the Sequence Data structure\n",
    "- Lists are collection of items (Strings, integers or even other lists)\n",
    "- Lists are enclosed in [ ]\n",
    "- Each item in the list has an assigned index value.\n",
    "- Each item in a list is separated by a comma\n",
    "- Lists are mutable, which means they can be changed."
   ]
  },
  {
   "cell_type": "markdown",
   "metadata": {
    "colab_type": "text",
    "collapsed": true,
    "id": "y6E87CNkaAaI"
   },
   "source": [
    "# List Creation"
   ]
  },
  {
   "cell_type": "code",
   "execution_count": null,
   "metadata": {
    "colab": {},
    "colab_type": "code",
    "id": "3xDIU3qfaAaJ",
    "outputId": "95be36e3-6048-4231-8b84-86ed03f92eb8"
   },
   "outputs": [],
   "source": []
  },
  {
   "cell_type": "markdown",
   "metadata": {
    "colab_type": "text",
    "id": "6CEa5juJaAaP"
   },
   "source": [
    "# List Length"
   ]
  },
  {
   "cell_type": "code",
   "execution_count": null,
   "metadata": {
    "colab": {},
    "colab_type": "code",
    "id": "ELTxkoZAaAaQ",
    "outputId": "779b1f15-3461-4704-ebd3-5b587166297e"
   },
   "outputs": [],
   "source": []
  },
  {
   "cell_type": "markdown",
   "metadata": {
    "colab_type": "text",
    "id": "BWtzSHqEaAaT"
   },
   "source": [
    "# List Append"
   ]
  },
  {
   "cell_type": "code",
   "execution_count": null,
   "metadata": {
    "colab": {},
    "colab_type": "code",
    "id": "lgxkiUKRaAaU",
    "outputId": "eb163944-cceb-4943-8494-f879111f1773"
   },
   "outputs": [],
   "source": []
  },
  {
   "cell_type": "markdown",
   "metadata": {
    "colab_type": "text",
    "id": "Yk3hugoCaAaX"
   },
   "source": [
    "# List Insert"
   ]
  },
  {
   "cell_type": "code",
   "execution_count": null,
   "metadata": {
    "colab": {},
    "colab_type": "code",
    "id": "hxFmwInfaAaY",
    "outputId": "40675a3c-2fb6-42e1-d4f1-fc5cc518a1ed"
   },
   "outputs": [],
   "source": []
  },
  {
   "cell_type": "markdown",
   "metadata": {
    "colab_type": "text",
    "id": "YcGKZ45BaAab"
   },
   "source": [
    "# List Remove"
   ]
  },
  {
   "cell_type": "code",
   "execution_count": null,
   "metadata": {
    "colab": {},
    "colab_type": "code",
    "id": "Qz9E9r6IaAac",
    "outputId": "fcdf5357-8ebb-491d-8fa9-bf0d7e45011d"
   },
   "outputs": [],
   "source": []
  },
  {
   "cell_type": "markdown",
   "metadata": {
    "colab_type": "text",
    "id": "gP3lb_hlaAai"
   },
   "source": [
    "# List Append & Extend"
   ]
  },
  {
   "cell_type": "code",
   "execution_count": null,
   "metadata": {
    "colab": {},
    "colab_type": "code",
    "id": "AhQZ_S5WaAaj",
    "outputId": "3e023a9c-0291-4264-8c49-3d32d2a685e9"
   },
   "outputs": [],
   "source": []
  },
  {
   "cell_type": "code",
   "execution_count": null,
   "metadata": {
    "colab": {},
    "colab_type": "code",
    "id": "-eDRYerEaAan",
    "outputId": "dc992ec1-df5e-4190-c096-8f7b9e3b889c"
   },
   "outputs": [],
   "source": []
  },
  {
   "cell_type": "markdown",
   "metadata": {
    "colab_type": "text",
    "id": "HRsgFVblaAar"
   },
   "source": [
    "# List Delete"
   ]
  },
  {
   "cell_type": "code",
   "execution_count": null,
   "metadata": {
    "colab": {},
    "colab_type": "code",
    "id": "E0TcvgzCaAas",
    "outputId": "6337a874-61a3-495a-9d07-8eebe66def35"
   },
   "outputs": [],
   "source": []
  },
  {
   "cell_type": "code",
   "execution_count": null,
   "metadata": {
    "colab": {},
    "colab_type": "code",
    "id": "QZy8YqvraAav",
    "outputId": "41c18ac6-f55f-4a81-f949-8af520202363"
   },
   "outputs": [],
   "source": []
  },
  {
   "cell_type": "markdown",
   "metadata": {
    "colab_type": "text",
    "id": "B3taZUwqaAax"
   },
   "source": [
    "# List related keywords in Python"
   ]
  },
  {
   "cell_type": "code",
   "execution_count": null,
   "metadata": {
    "colab": {},
    "colab_type": "code",
    "id": "KnvMpRFCaAay",
    "outputId": "0645c347-1c9c-44e4-aacb-20649a09234f"
   },
   "outputs": [],
   "source": []
  },
  {
   "cell_type": "markdown",
   "metadata": {
    "colab_type": "text",
    "id": "ikBpRbI9aAa2"
   },
   "source": [
    "# List Reverse"
   ]
  },
  {
   "cell_type": "code",
   "execution_count": null,
   "metadata": {
    "colab": {},
    "colab_type": "code",
    "id": "RQqzW-mEaAa3",
    "outputId": "781e6007-4649-4640-adde-8f4afde602d6"
   },
   "outputs": [],
   "source": []
  },
  {
   "cell_type": "markdown",
   "metadata": {
    "colab_type": "text",
    "id": "o9lI--gRaAa7"
   },
   "source": [
    "# List Sorting"
   ]
  },
  {
   "cell_type": "markdown",
   "metadata": {
    "colab_type": "text",
    "id": "lUTiW5mcaAa8"
   },
   "source": [
    "The easiest way to sort a List is with the sorted(list) function. \n",
    "\n",
    "That takes a list and returns a new list with those elements in sorted order. \n",
    "\n",
    "The original list is not changed. \n",
    "\n",
    "The sorted() optional argument reverse=True, e.g. sorted(list, reverse=True), \n",
    "makes it sort backwards."
   ]
  },
  {
   "cell_type": "code",
   "execution_count": null,
   "metadata": {
    "colab": {},
    "colab_type": "code",
    "id": "LegBovHtaAa9",
    "outputId": "ce14fea3-fbd0-4858-b19d-f4066e000ee5"
   },
   "outputs": [],
   "source": []
  },
  {
   "cell_type": "code",
   "execution_count": null,
   "metadata": {
    "colab": {},
    "colab_type": "code",
    "id": "qT_4cI63aAbB",
    "outputId": "c67d0b88-24c6-4cd4-c63e-7d64ae66c5c3"
   },
   "outputs": [],
   "source": []
  },
  {
   "cell_type": "code",
   "execution_count": null,
   "metadata": {
    "colab": {},
    "colab_type": "code",
    "id": "7YLaz7thaAbF",
    "outputId": "ed2b0657-3ddb-4390-8f3f-0a4c8c34db77"
   },
   "outputs": [],
   "source": []
  },
  {
   "cell_type": "markdown",
   "metadata": {
    "colab_type": "text",
    "id": "eI34dleeaAbK"
   },
   "source": [
    "# List Having Multiple References"
   ]
  },
  {
   "cell_type": "code",
   "execution_count": null,
   "metadata": {
    "colab": {},
    "colab_type": "code",
    "id": "BcmPLhR6aAbM",
    "outputId": "bdfc1ccb-6af9-416a-c1a3-53823789de67"
   },
   "outputs": [],
   "source": []
  },
  {
   "cell_type": "markdown",
   "metadata": {
    "colab_type": "text",
    "id": "nsmc6A1YaAbP"
   },
   "source": [
    "# String Split to create a list"
   ]
  },
  {
   "cell_type": "code",
   "execution_count": null,
   "metadata": {
    "colab": {},
    "colab_type": "code",
    "id": "YPLVh4TjaAbP",
    "outputId": "dc4b1445-3c8b-4aff-892b-cb1306c36499",
    "scrolled": true
   },
   "outputs": [],
   "source": []
  },
  {
   "cell_type": "code",
   "execution_count": null,
   "metadata": {
    "colab": {},
    "colab_type": "code",
    "id": "PBYLi_UjaAbS",
    "outputId": "222b6691-9adf-4194-b9c9-c3acb65b5509"
   },
   "outputs": [],
   "source": []
  },
  {
   "cell_type": "markdown",
   "metadata": {
    "colab_type": "text",
    "id": "i0FJbejqaAbU"
   },
   "source": [
    "# List Indexing"
   ]
  },
  {
   "cell_type": "markdown",
   "metadata": {
    "colab_type": "text",
    "id": "_ZJom4VxaAbW"
   },
   "source": [
    "Each item in the list has an assigned index value starting from 0.\n",
    "\n",
    "Accessing elements in a list is called indexing."
   ]
  },
  {
   "cell_type": "code",
   "execution_count": null,
   "metadata": {
    "colab": {},
    "colab_type": "code",
    "id": "_vYi0oRbaAbW",
    "outputId": "359ac752-72c9-47c3-df99-ffff292a088d"
   },
   "outputs": [],
   "source": []
  },
  {
   "cell_type": "markdown",
   "metadata": {
    "colab_type": "text",
    "id": "ihTfiGnGaAba"
   },
   "source": [
    "# List Slicing"
   ]
  },
  {
   "cell_type": "markdown",
   "metadata": {
    "colab_type": "text",
    "id": "HJ6BnCxJaAba"
   },
   "source": [
    "Accessing parts of segments is called slicing. \n",
    "\n",
    "The key point to remember is that the :end value represents the first value that \n",
    "is not in the selected slice. "
   ]
  },
  {
   "cell_type": "code",
   "execution_count": null,
   "metadata": {
    "colab": {},
    "colab_type": "code",
    "id": "yadzqSHAaAbc",
    "outputId": "89b39b80-69a2-4f01-9436-bbe9bf2b4f05"
   },
   "outputs": [],
   "source": []
  },
  {
   "cell_type": "code",
   "execution_count": null,
   "metadata": {
    "colab": {},
    "colab_type": "code",
    "id": "ESlZQ2aNaAbf",
    "outputId": "b62f05e9-031d-40de-d785-043d59160e45"
   },
   "outputs": [],
   "source": []
  },
  {
   "cell_type": "markdown",
   "metadata": {
    "colab_type": "text",
    "id": "69BXgb4YaAbh"
   },
   "source": [
    "# List extend using \"+\""
   ]
  },
  {
   "cell_type": "code",
   "execution_count": null,
   "metadata": {
    "colab": {},
    "colab_type": "code",
    "id": "paZsLKU7aAbh",
    "outputId": "4882a753-1daa-4357-c02c-d1c889ace73f"
   },
   "outputs": [],
   "source": []
  },
  {
   "cell_type": "markdown",
   "metadata": {
    "colab_type": "text",
    "id": "zR8AY0YCaAbk"
   },
   "source": [
    "# List Count"
   ]
  },
  {
   "cell_type": "code",
   "execution_count": null,
   "metadata": {
    "colab": {},
    "colab_type": "code",
    "id": "xLWcn0TcaAbl",
    "outputId": "ba7168f7-a97f-45d7-b123-38df8cc7c1ae"
   },
   "outputs": [],
   "source": []
  },
  {
   "cell_type": "markdown",
   "metadata": {
    "colab_type": "text",
    "id": "Ttuq4WbPaAbn"
   },
   "source": [
    "# List Looping"
   ]
  },
  {
   "cell_type": "code",
   "execution_count": null,
   "metadata": {
    "colab": {},
    "colab_type": "code",
    "id": "gGBIUhMvaAbn",
    "outputId": "b09c4261-5dd9-4bf0-f94f-a0590670d7cf"
   },
   "outputs": [],
   "source": []
  },
  {
   "cell_type": "markdown",
   "metadata": {
    "colab_type": "text",
    "id": "-EZO9D31aAbq"
   },
   "source": [
    "# List Comprehensions"
   ]
  },
  {
   "cell_type": "markdown",
   "metadata": {
    "colab_type": "text",
    "id": "y8DXRBM_aAbq"
   },
   "source": [
    "List comprehensions provide a concise way to create lists. \n",
    "\n",
    "Common applications are to make new lists where each element is the result of some operations applied to each member of another sequence or iterable, or to create a subsequence of those elements that satisfy a certain condition."
   ]
  },
  {
   "cell_type": "code",
   "execution_count": null,
   "metadata": {
    "colab": {},
    "colab_type": "code",
    "id": "-rHP7zw_aAbr",
    "outputId": "5adc1c49-9633-47bb-a83a-bf144dd1bbbb"
   },
   "outputs": [],
   "source": []
  },
  {
   "cell_type": "code",
   "execution_count": null,
   "metadata": {
    "colab": {},
    "colab_type": "code",
    "id": "CS6fvT8daAbu",
    "outputId": "87959059-b9d0-41bc-bb7d-3e9f3ed14995"
   },
   "outputs": [],
   "source": []
  },
  {
   "cell_type": "code",
   "execution_count": null,
   "metadata": {
    "colab": {},
    "colab_type": "code",
    "id": "N-v4Y9KDaAbw",
    "outputId": "f13d09a5-f6fd-41f7-b6d0-2af43f040afd"
   },
   "outputs": [],
   "source": []
  },
  {
   "cell_type": "markdown",
   "metadata": {
    "colab_type": "text",
    "id": "Sp6JeODZaAb5"
   },
   "source": [
    "# Nested List Comprehensions"
   ]
  },
  {
   "cell_type": "code",
   "execution_count": null,
   "metadata": {
    "colab": {},
    "colab_type": "code",
    "id": "I7FzVx3CaAb5",
    "outputId": "20d171d1-25eb-4f5d-b01f-30639b8e0df6"
   },
   "outputs": [],
   "source": []
  },
  {
   "cell_type": "code",
   "execution_count": null,
   "metadata": {
    "colab": {},
    "colab_type": "code",
    "id": "bc0Ij-kaaAb8",
    "outputId": "1005a34e-8982-46ab-9357-f7be29e16f61"
   },
   "outputs": [],
   "source": []
  },
  {
   "cell_type": "markdown",
   "metadata": {},
   "source": [
    "# Convert String To List"
   ]
  },
  {
   "cell_type": "code",
   "execution_count": null,
   "metadata": {},
   "outputs": [],
   "source": []
  },
  {
   "cell_type": "markdown",
   "metadata": {
    "colab": {},
    "colab_type": "code",
    "id": "__DT4BWEaAb_"
   },
   "source": [
    "- - - \n",
    "<!--NAVIGATION-->\n",
    "Module 2. Python Data | [Simple Types](./01_simple_types.ipynb) | **[Data Structures](./02_data_structures.ipynb)**: **[Lists](./02_data_structures_lists.ipynb)**, [Tuples](./02_data_structures_tuples.ipynb), [Sets](./02_data_structures_sets.ipynb), [Dictionaries](./02_data_structures_dictionaries.ipynb) | [Exercises](./03_data_exercises.ipynb)\n",
    "- - -\n",
    "Supplmental. **[Python List and Tuples](./supplemental/01_python_list_tuples.ipynb)**"
   ]
  },
  {
   "cell_type": "markdown",
   "metadata": {},
   "source": [
    "[Top](#)"
   ]
  },
  {
   "cell_type": "markdown",
   "metadata": {},
   "source": [
    "- - -\n",
    "\n",
    "Copyright © 2020 Qualex Consulting Services Incorporated."
   ]
  }
 ],
 "metadata": {
  "colab": {
   "collapsed_sections": [],
   "name": "2.1.ipynb",
   "provenance": []
  },
  "kernelspec": {
   "display_name": "Python 3",
   "language": "python",
   "name": "python3"
  },
  "language_info": {
   "codemirror_mode": {
    "name": "ipython",
    "version": 3
   },
   "file_extension": ".py",
   "mimetype": "text/x-python",
   "name": "python",
   "nbconvert_exporter": "python",
   "pygments_lexer": "ipython3",
   "version": "3.8.3"
  }
 },
 "nbformat": 4,
 "nbformat_minor": 1
}
